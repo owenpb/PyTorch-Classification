{
 "cells": [
  {
   "cell_type": "markdown",
   "id": "64a9a6d9",
   "metadata": {},
   "source": [
    "# PyTorch Fundamentals"
   ]
  },
  {
   "cell_type": "markdown",
   "id": "91a42d48",
   "metadata": {},
   "source": [
    "In this notebook, I review basic tensor operations in PyTorch and building neural networks, mostly following Chapters 12 and 13 of <i>''Machine Learning with PyTorch and Scikit-Learn''</i> by Sebastian Raschka et al. This notebook covers:\n",
    "\n",
    "1. Creating tensors in PyTorch\n",
    "2. Manipulating data type and shape of tensor\n",
    "3. Operations on tensors\n",
    "4. Building input pipelines\n",
    "5. Simple linear regression model in PyTorch\n",
    "6. XOR classification with nn.Sequential\n",
    "7. XOR classification with nn.Module"
   ]
  },
  {
   "cell_type": "code",
   "execution_count": 1,
   "id": "2abbf16a",
   "metadata": {},
   "outputs": [],
   "source": [
    "import torch\n",
    "import torchvision\n",
    "import numpy as np\n",
    "import matplotlib.pyplot as plt"
   ]
  },
  {
   "cell_type": "markdown",
   "id": "254adfd4",
   "metadata": {},
   "source": [
    "## 1. Creating tensors in PyTorch\n",
    "\n",
    "Creating a tensor from a list or numpy array:"
   ]
  },
  {
   "cell_type": "code",
   "execution_count": 2,
   "id": "b9ead110",
   "metadata": {},
   "outputs": [],
   "source": [
    "a = [1, 2, 3]\n",
    "b = np.array([4, 5, 6], dtype=np.int32)\n",
    "\n",
    "t_a = torch.tensor(a)      # tensor from list\n",
    "t_b = torch.from_numpy(b)  # tensor from numpy array\n",
    "\n",
    "t_ones = torch.ones(2, 3)       # tensor of ones\n",
    "rand_tensor = torch.rand(2, 3)  # tensor of random values"
   ]
  },
  {
   "cell_type": "code",
   "execution_count": 3,
   "id": "aa3852ba",
   "metadata": {},
   "outputs": [
    {
     "name": "stdout",
     "output_type": "stream",
     "text": [
      "tensor([1, 2, 3])\n",
      "tensor([4, 5, 6], dtype=torch.int32)\n",
      "tensor([[1., 1., 1.],\n",
      "        [1., 1., 1.]])\n",
      "tensor([[0.7794, 0.1164, 0.3139],\n",
      "        [0.3971, 0.2793, 0.7157]])\n"
     ]
    }
   ],
   "source": [
    "print(t_a)\n",
    "print(t_b)\n",
    "print(t_ones)\n",
    "print(rand_tensor)"
   ]
  },
  {
   "cell_type": "code",
   "execution_count": null,
   "id": "f4db8bff",
   "metadata": {},
   "outputs": [],
   "source": []
  },
  {
   "cell_type": "markdown",
   "id": "e440c597",
   "metadata": {},
   "source": [
    "## 2. Manipulating data type and shape of tensor"
   ]
  },
  {
   "cell_type": "markdown",
   "id": "b45f49a2",
   "metadata": {},
   "source": [
    "##### Change data type:"
   ]
  },
  {
   "cell_type": "code",
   "execution_count": 4,
   "id": "ee7e03d9",
   "metadata": {},
   "outputs": [
    {
     "name": "stdout",
     "output_type": "stream",
     "text": [
      "torch.int64\n"
     ]
    }
   ],
   "source": [
    "t_a_new = t_a.to(torch.int64)\n",
    "print(t_a_new.dtype)"
   ]
  },
  {
   "cell_type": "markdown",
   "id": "80199b29",
   "metadata": {},
   "source": [
    "##### Transposing a tensor:"
   ]
  },
  {
   "cell_type": "code",
   "execution_count": 5,
   "id": "1724dfb3",
   "metadata": {},
   "outputs": [
    {
     "name": "stdout",
     "output_type": "stream",
     "text": [
      "tensor([[0.1257, 0.9263, 0.1381, 0.8227, 0.7799],\n",
      "        [0.8724, 0.3193, 0.8371, 0.5845, 0.2296],\n",
      "        [0.1639, 0.9779, 0.6398, 0.3206, 0.7073]])\n",
      "torch.Size([3, 5])\n"
     ]
    }
   ],
   "source": [
    "t = torch.rand(3, 5)\n",
    "print(t)\n",
    "print(t.shape)"
   ]
  },
  {
   "cell_type": "code",
   "execution_count": 6,
   "id": "4658a081",
   "metadata": {},
   "outputs": [
    {
     "name": "stdout",
     "output_type": "stream",
     "text": [
      "tensor([[0.1257, 0.8724, 0.1639],\n",
      "        [0.9263, 0.3193, 0.9779],\n",
      "        [0.1381, 0.8371, 0.6398],\n",
      "        [0.8227, 0.5845, 0.3206],\n",
      "        [0.7799, 0.2296, 0.7073]])\n",
      "torch.Size([5, 3])\n"
     ]
    }
   ],
   "source": [
    "t_tr = torch.transpose(t, 0, 1)  # i.e. swapping dimensions 0 and 1\n",
    "print(t_tr)\n",
    "print(t_tr.shape)"
   ]
  },
  {
   "cell_type": "markdown",
   "id": "d814aae8",
   "metadata": {},
   "source": [
    "##### Reshaping a tensor:"
   ]
  },
  {
   "cell_type": "code",
   "execution_count": 7,
   "id": "07060cbb",
   "metadata": {},
   "outputs": [
    {
     "name": "stdout",
     "output_type": "stream",
     "text": [
      "tensor([0., 0., 0., 0., 0., 0., 0., 0., 0., 0., 0., 0., 0., 0., 0., 0., 0., 0., 0., 0., 0., 0., 0., 0.,\n",
      "        0., 0., 0., 0., 0., 0.])\n"
     ]
    }
   ],
   "source": [
    "t = torch.zeros(30)\n",
    "print(t)"
   ]
  },
  {
   "cell_type": "code",
   "execution_count": 8,
   "id": "dab70cbc",
   "metadata": {},
   "outputs": [
    {
     "name": "stdout",
     "output_type": "stream",
     "text": [
      "tensor([[0., 0., 0., 0., 0., 0.],\n",
      "        [0., 0., 0., 0., 0., 0.],\n",
      "        [0., 0., 0., 0., 0., 0.],\n",
      "        [0., 0., 0., 0., 0., 0.],\n",
      "        [0., 0., 0., 0., 0., 0.]])\n",
      "torch.Size([5, 6])\n"
     ]
    }
   ],
   "source": [
    "t_reshape = t.reshape(5, 6)\n",
    "print(t_reshape)\n",
    "print(t_reshape.shape)"
   ]
  },
  {
   "cell_type": "markdown",
   "id": "0967f9d6",
   "metadata": {},
   "source": [
    "##### Removing unnecessary dimensions:"
   ]
  },
  {
   "cell_type": "code",
   "execution_count": 9,
   "id": "23b6b0f0",
   "metadata": {},
   "outputs": [
    {
     "name": "stdout",
     "output_type": "stream",
     "text": [
      "tensor([[[[[0.],\n",
      "           [0.],\n",
      "           [0.],\n",
      "           [0.],\n",
      "           [0.]]],\n",
      "\n",
      "\n",
      "         [[[0.],\n",
      "           [0.],\n",
      "           [0.],\n",
      "           [0.],\n",
      "           [0.]]]]])\n",
      "torch.Size([1, 2, 1, 5, 1])\n"
     ]
    }
   ],
   "source": [
    "t = torch.zeros(1, 2, 1, 5, 1)\n",
    "print(t)\n",
    "print(t.shape)"
   ]
  },
  {
   "cell_type": "code",
   "execution_count": 10,
   "id": "3d987d27",
   "metadata": {},
   "outputs": [
    {
     "name": "stdout",
     "output_type": "stream",
     "text": [
      "tensor([[0., 0., 0., 0., 0.],\n",
      "        [0., 0., 0., 0., 0.]])\n",
      "torch.Size([2, 5])\n"
     ]
    }
   ],
   "source": [
    "t_sqz = torch.squeeze(t)\n",
    "print(t_sqz)\n",
    "print(t_sqz.shape)"
   ]
  },
  {
   "cell_type": "code",
   "execution_count": null,
   "id": "22a79f01",
   "metadata": {},
   "outputs": [],
   "source": []
  },
  {
   "cell_type": "markdown",
   "id": "6f11a97b",
   "metadata": {},
   "source": [
    "## 3. Operations on tensors"
   ]
  },
  {
   "cell_type": "markdown",
   "id": "88c32d35",
   "metadata": {},
   "source": [
    "##### Instantiating random tensors"
   ]
  },
  {
   "cell_type": "code",
   "execution_count": 11,
   "id": "64d2bf4e",
   "metadata": {},
   "outputs": [],
   "source": [
    "torch.manual_seed(1)\n",
    "t1 = 2 * torch.rand(5, 2) - 1\n",
    "t2 = torch.normal(mean=0, std=1, size=(5,2))  # Normally distributed random numbers"
   ]
  },
  {
   "cell_type": "code",
   "execution_count": 12,
   "id": "2ee245dd",
   "metadata": {},
   "outputs": [
    {
     "data": {
      "text/plain": [
       "tensor([[ 0.5153, -0.4414],\n",
       "        [-0.1939,  0.4694],\n",
       "        [-0.9414,  0.5997],\n",
       "        [-0.2057,  0.5087],\n",
       "        [ 0.1390, -0.1224]])"
      ]
     },
     "execution_count": 12,
     "metadata": {},
     "output_type": "execute_result"
    }
   ],
   "source": [
    "t1"
   ]
  },
  {
   "cell_type": "code",
   "execution_count": 13,
   "id": "4f02f348",
   "metadata": {},
   "outputs": [
    {
     "data": {
      "text/plain": [
       "tensor([[ 0.8590,  0.7056],\n",
       "        [-0.3406, -1.2720],\n",
       "        [-1.1948,  0.0250],\n",
       "        [-0.7627,  1.3969],\n",
       "        [-0.3245,  0.2879]])"
      ]
     },
     "execution_count": 13,
     "metadata": {},
     "output_type": "execute_result"
    }
   ],
   "source": [
    "t2"
   ]
  },
  {
   "cell_type": "markdown",
   "id": "3a0a84d5",
   "metadata": {},
   "source": [
    "##### Element-wise product"
   ]
  },
  {
   "cell_type": "code",
   "execution_count": 14,
   "id": "295a963f",
   "metadata": {},
   "outputs": [
    {
     "data": {
      "text/plain": [
       "tensor([[ 0.4426, -0.3114],\n",
       "        [ 0.0660, -0.5970],\n",
       "        [ 1.1249,  0.0150],\n",
       "        [ 0.1569,  0.7107],\n",
       "        [-0.0451, -0.0352]])"
      ]
     },
     "execution_count": 14,
     "metadata": {},
     "output_type": "execute_result"
    }
   ],
   "source": [
    "t3 = torch.multiply(t1, t2) \n",
    "t3"
   ]
  },
  {
   "cell_type": "markdown",
   "id": "1c8edcf0",
   "metadata": {},
   "source": [
    "##### Mean, sum, standard deviation"
   ]
  },
  {
   "cell_type": "code",
   "execution_count": 15,
   "id": "4af2410e",
   "metadata": {},
   "outputs": [
    {
     "name": "stdout",
     "output_type": "stream",
     "text": [
      "tensor(0.0327)\n"
     ]
    }
   ],
   "source": [
    "print(torch.mean(t1)) # Mean of all elements"
   ]
  },
  {
   "cell_type": "code",
   "execution_count": 16,
   "id": "45f66def",
   "metadata": {},
   "outputs": [
    {
     "name": "stdout",
     "output_type": "stream",
     "text": [
      "tensor([-0.1373,  0.2028])\n"
     ]
    }
   ],
   "source": [
    "print(torch.mean(t1, axis=0))  # Mean of each column (i.e. averaging over row dimension 0)"
   ]
  },
  {
   "cell_type": "code",
   "execution_count": 17,
   "id": "c42c7ded",
   "metadata": {},
   "outputs": [
    {
     "name": "stdout",
     "output_type": "stream",
     "text": [
      "tensor([ 0.0369,  0.1378, -0.1709,  0.1515,  0.0083])\n"
     ]
    }
   ],
   "source": [
    "print(torch.mean(t1, axis=1))   # Mean of each row (i.e. averaging over column dimension 1)"
   ]
  },
  {
   "cell_type": "code",
   "execution_count": 18,
   "id": "19febcaa",
   "metadata": {},
   "outputs": [
    {
     "name": "stdout",
     "output_type": "stream",
     "text": [
      "tensor(0.3273)\n"
     ]
    }
   ],
   "source": [
    "print(torch.sum(t1)) # Sum of all elements"
   ]
  },
  {
   "cell_type": "code",
   "execution_count": 19,
   "id": "0125bc74",
   "metadata": {},
   "outputs": [
    {
     "name": "stdout",
     "output_type": "stream",
     "text": [
      "tensor([-0.6867,  1.0140])\n"
     ]
    }
   ],
   "source": [
    "print(torch.sum(t1, axis=0)) # Sum of each column (i.e. sum over each row dimension 0)"
   ]
  },
  {
   "cell_type": "code",
   "execution_count": 20,
   "id": "7e6d807c",
   "metadata": {},
   "outputs": [
    {
     "name": "stdout",
     "output_type": "stream",
     "text": [
      "tensor([ 0.0739,  0.2755, -0.3417,  0.3030,  0.0166])\n"
     ]
    }
   ],
   "source": [
    "print(torch.sum(t1, axis=1)) # Sum of each row (i.e. sum over each column dimension 1)"
   ]
  },
  {
   "cell_type": "code",
   "execution_count": 21,
   "id": "83da31d6",
   "metadata": {},
   "outputs": [
    {
     "name": "stdout",
     "output_type": "stream",
     "text": [
      "tensor([0.5378, 0.4591])\n"
     ]
    }
   ],
   "source": [
    "print(torch.std(t1, axis=0))"
   ]
  },
  {
   "cell_type": "markdown",
   "id": "4eef9258",
   "metadata": {},
   "source": [
    "##### Matrix multiplication and norm"
   ]
  },
  {
   "cell_type": "code",
   "execution_count": 22,
   "id": "565a5165",
   "metadata": {},
   "outputs": [
    {
     "name": "stdout",
     "output_type": "stream",
     "text": [
      "tensor([[ 0.5153, -0.4414],\n",
      "        [-0.1939,  0.4694],\n",
      "        [-0.9414,  0.5997],\n",
      "        [-0.2057,  0.5087],\n",
      "        [ 0.1390, -0.1224]])\n",
      "torch.Size([5, 2])\n"
     ]
    }
   ],
   "source": [
    "print(t1)\n",
    "print(t1.shape)"
   ]
  },
  {
   "cell_type": "code",
   "execution_count": 23,
   "id": "161ac12e",
   "metadata": {},
   "outputs": [
    {
     "name": "stdout",
     "output_type": "stream",
     "text": [
      "tensor([[ 0.8590,  0.7056],\n",
      "        [-0.3406, -1.2720],\n",
      "        [-1.1948,  0.0250],\n",
      "        [-0.7627,  1.3969],\n",
      "        [-0.3245,  0.2879]])\n",
      "torch.Size([5, 2])\n"
     ]
    }
   ],
   "source": [
    "print(t2)\n",
    "print(t2.shape)"
   ]
  },
  {
   "cell_type": "markdown",
   "id": "7759893a",
   "metadata": {},
   "source": [
    "Can calculate product of matrices: $t_1 \\times t_2^T$, which will be a $5 \\times 5$ matrix:"
   ]
  },
  {
   "cell_type": "code",
   "execution_count": 24,
   "id": "0e95f365",
   "metadata": {},
   "outputs": [
    {
     "name": "stdout",
     "output_type": "stream",
     "text": [
      "tensor([[ 0.1312,  0.3860, -0.6267, -1.0096, -0.2943],\n",
      "        [ 0.1647, -0.5310,  0.2434,  0.8035,  0.1980],\n",
      "        [-0.3855, -0.4422,  1.1399,  1.5558,  0.4781],\n",
      "        [ 0.1822, -0.5771,  0.2585,  0.8676,  0.2132],\n",
      "        [ 0.0330,  0.1084, -0.1692, -0.2771, -0.0804]])\n"
     ]
    }
   ],
   "source": [
    "t3 = torch.matmul(t1, torch.transpose(t2, 0, 1))\n",
    "print(t3)"
   ]
  },
  {
   "cell_type": "markdown",
   "id": "3a77dc15",
   "metadata": {},
   "source": [
    "Can calculate product of matrices: $t_1^T \\times t_2$, which will be a $2 \\times 2$ matrix:"
   ]
  },
  {
   "cell_type": "code",
   "execution_count": 25,
   "id": "8bea521d",
   "metadata": {},
   "outputs": [
    {
     "name": "stdout",
     "output_type": "stream",
     "text": [
      "tensor([[ 1.7453,  0.3392],\n",
      "        [-1.6038, -0.2180]])\n"
     ]
    }
   ],
   "source": [
    "t4 = torch.matmul(torch.transpose(t1, 0, 1), t2)\n",
    "print(t4)"
   ]
  },
  {
   "cell_type": "code",
   "execution_count": 26,
   "id": "7d8a3b5a",
   "metadata": {},
   "outputs": [
    {
     "name": "stdout",
     "output_type": "stream",
     "text": [
      "tensor([0.6785, 0.5078, 1.1162, 0.5488, 0.1853])\n"
     ]
    }
   ],
   "source": [
    "norm_t1 = torch.linalg.norm(t1, ord=2, dim=1)   # t1 is (5, 2) tensor. To calc norm of each row, sum of squares of elements in column direction (dim=1).\n",
    "print(norm_t1)"
   ]
  },
  {
   "cell_type": "code",
   "execution_count": 27,
   "id": "085e01d8",
   "metadata": {},
   "outputs": [
    {
     "data": {
      "text/plain": [
       "array([0.67846215, 0.5078282 , 1.1162277 , 0.5487652 , 0.18525197],\n",
       "      dtype=float32)"
      ]
     },
     "execution_count": 27,
     "metadata": {},
     "output_type": "execute_result"
    }
   ],
   "source": [
    "np.sqrt(np.sum(np.square(t1.numpy()), axis=1)) # Check that normalized tensor above matches numpy result"
   ]
  },
  {
   "cell_type": "markdown",
   "id": "7e2bba17",
   "metadata": {},
   "source": [
    "##### Split, stack, concatenate tensors"
   ]
  },
  {
   "cell_type": "code",
   "execution_count": 28,
   "id": "530d8149",
   "metadata": {},
   "outputs": [
    {
     "name": "stdout",
     "output_type": "stream",
     "text": [
      "tensor([0.6397, 0.9743, 0.8300, 0.0444, 0.0246, 0.2588])\n",
      "(tensor([0.6397, 0.9743]), tensor([0.8300, 0.0444]), tensor([0.0246, 0.2588]))\n"
     ]
    }
   ],
   "source": [
    "t = torch.rand(6)    \n",
    "print(t)\n",
    "t_splits = torch.chunk(t, 3)   # Split tensor t (with 6 elements) into m chunks with torch.chunk(t, m)\n",
    "print(t_splits)"
   ]
  },
  {
   "cell_type": "code",
   "execution_count": 29,
   "id": "f6a10b86",
   "metadata": {},
   "outputs": [
    {
     "name": "stdout",
     "output_type": "stream",
     "text": [
      "tensor([0.9391, 0.4167, 0.7140, 0.2676, 0.9906])\n",
      "(tensor([0.9391, 0.4167, 0.7140]), tensor([0.2676, 0.9906]))\n"
     ]
    }
   ],
   "source": [
    "t = torch.rand(5)\n",
    "print(t)\n",
    "t_splits = torch.split(t, split_size_or_sections=[3, 2])   # Can instead specify size of each split with torch.split()\n",
    "print(t_splits)"
   ]
  },
  {
   "cell_type": "code",
   "execution_count": 30,
   "id": "766953c3",
   "metadata": {},
   "outputs": [
    {
     "name": "stdout",
     "output_type": "stream",
     "text": [
      "tensor([1., 1., 1.])\n",
      "tensor([0., 0.])\n"
     ]
    }
   ],
   "source": [
    "A = torch.ones(3)\n",
    "print(A)\n",
    "\n",
    "B = torch.zeros(2)\n",
    "print(B)"
   ]
  },
  {
   "cell_type": "code",
   "execution_count": 31,
   "id": "a2e4e6d2",
   "metadata": {},
   "outputs": [
    {
     "name": "stdout",
     "output_type": "stream",
     "text": [
      "tensor([1., 1., 1., 0., 0.])\n"
     ]
    }
   ],
   "source": [
    "C = torch.cat([A, B], axis=0)  # Concatenate row-wise\n",
    "print(C)"
   ]
  },
  {
   "cell_type": "code",
   "execution_count": 32,
   "id": "4ea3cacc",
   "metadata": {},
   "outputs": [
    {
     "name": "stdout",
     "output_type": "stream",
     "text": [
      "tensor([1., 1., 1.])\n",
      "tensor([0., 0., 0.])\n"
     ]
    }
   ],
   "source": [
    "D = torch.ones(3)\n",
    "print(D)\n",
    "\n",
    "E = torch.zeros(3)\n",
    "print(E)"
   ]
  },
  {
   "cell_type": "code",
   "execution_count": 33,
   "id": "a9e00fe0",
   "metadata": {},
   "outputs": [
    {
     "name": "stdout",
     "output_type": "stream",
     "text": [
      "tensor([[1., 0.],\n",
      "        [1., 0.],\n",
      "        [1., 0.]])\n"
     ]
    }
   ],
   "source": [
    "F = torch.stack([D, E], axis=1)    # Concatenate tensors (D and E, both 1-dimensional) along a new dimension (column direction, dim=1)\n",
    "print(F)                           # Now form a 2-dimensional tensor F"
   ]
  },
  {
   "cell_type": "code",
   "execution_count": null,
   "id": "2da6c8cb",
   "metadata": {},
   "outputs": [],
   "source": []
  },
  {
   "cell_type": "markdown",
   "id": "4ddb4f86",
   "metadata": {},
   "source": [
    "## 4. Building input pipelines"
   ]
  },
  {
   "cell_type": "markdown",
   "id": "2a0bec5d",
   "metadata": {},
   "source": [
    "##### Creating a DataLoader from tensor"
   ]
  },
  {
   "cell_type": "code",
   "execution_count": 34,
   "id": "956a34df",
   "metadata": {},
   "outputs": [],
   "source": [
    "from torch.utils.data import DataLoader"
   ]
  },
  {
   "cell_type": "code",
   "execution_count": 35,
   "id": "cb2f4129",
   "metadata": {},
   "outputs": [
    {
     "name": "stdout",
     "output_type": "stream",
     "text": [
      "tensor([0., 1., 2., 3., 4., 5.])\n"
     ]
    }
   ],
   "source": [
    "t = torch.arange(6, dtype=torch.float32)\n",
    "print(t)"
   ]
  },
  {
   "cell_type": "markdown",
   "id": "e9db1a9d",
   "metadata": {},
   "source": [
    "Our data is in the form of a tensor t. We can now create a dataset loader, which we use to iterate through each element of the dataset.\n",
    "\n",
    "Below, data_loader is an object of the DataLoader class."
   ]
  },
  {
   "cell_type": "code",
   "execution_count": 36,
   "id": "7d9ee446",
   "metadata": {},
   "outputs": [
    {
     "data": {
      "text/plain": [
       "<torch.utils.data.dataloader.DataLoader at 0x12559f7d3c0>"
      ]
     },
     "execution_count": 36,
     "metadata": {},
     "output_type": "execute_result"
    }
   ],
   "source": [
    "data_loader = DataLoader(t)\n",
    "data_loader"
   ]
  },
  {
   "cell_type": "code",
   "execution_count": 37,
   "id": "25f7ceb0",
   "metadata": {},
   "outputs": [
    {
     "name": "stdout",
     "output_type": "stream",
     "text": [
      "tensor([0.])\n",
      "tensor([1.])\n",
      "tensor([2.])\n",
      "tensor([3.])\n",
      "tensor([4.])\n",
      "tensor([5.])\n"
     ]
    }
   ],
   "source": [
    "for item in data_loader:\n",
    "    print(item)"
   ]
  },
  {
   "cell_type": "markdown",
   "id": "526136f6",
   "metadata": {},
   "source": [
    "We can specify the batch_size argument, which will give us batches of a desired size as we iterate:"
   ]
  },
  {
   "cell_type": "code",
   "execution_count": 38,
   "id": "3e024f96",
   "metadata": {},
   "outputs": [
    {
     "name": "stdout",
     "output_type": "stream",
     "text": [
      "tensor([0., 1., 2.])\n",
      "tensor([3., 4., 5.])\n"
     ]
    }
   ],
   "source": [
    "data_loader = DataLoader(t, batch_size=3, drop_last=False)\n",
    "\n",
    "for item in data_loader:\n",
    "    print(item)"
   ]
  },
  {
   "cell_type": "markdown",
   "id": "3e32f5a3",
   "metadata": {},
   "source": [
    "##### Combining two tensors into joint dataset"
   ]
  },
  {
   "cell_type": "code",
   "execution_count": 39,
   "id": "b0a8e59c",
   "metadata": {},
   "outputs": [
    {
     "name": "stdout",
     "output_type": "stream",
     "text": [
      "tensor([[0.7570, 0.2346, 0.6471],\n",
      "        [0.3556, 0.4452, 0.0193],\n",
      "        [0.2616, 0.7713, 0.3785],\n",
      "        [0.9980, 0.9008, 0.4766]])\n",
      "tensor([0, 1, 2, 3])\n"
     ]
    }
   ],
   "source": [
    "t_x = torch.rand([4, 3], dtype=torch.float32)    # Input data: 4 samples, each with 3 features. X is (4, 3) tensor.\n",
    "t_y = torch.arange(4)   # Labels, i.e. Y (has 4 elements only)\n",
    "\n",
    "print(t_x)\n",
    "print(t_y)"
   ]
  },
  {
   "cell_type": "code",
   "execution_count": 40,
   "id": "1b2787c4",
   "metadata": {},
   "outputs": [],
   "source": [
    "from torch.utils.data import Dataset"
   ]
  },
  {
   "cell_type": "code",
   "execution_count": 41,
   "id": "6fa90f17",
   "metadata": {},
   "outputs": [],
   "source": [
    "class JointDataset(Dataset):\n",
    "    def __init__(self, x, y):\n",
    "        self.x = x\n",
    "        self.y = y\n",
    "        \n",
    "    def __len__(self):\n",
    "        return len(self.x)\n",
    "    \n",
    "    def __getitem__(self, idx):\n",
    "        return self.x[idx], self.y[idx]"
   ]
  },
  {
   "cell_type": "code",
   "execution_count": 42,
   "id": "476fac4a",
   "metadata": {},
   "outputs": [],
   "source": [
    "joint_dataset = JointDataset(t_x, t_y)"
   ]
  },
  {
   "cell_type": "code",
   "execution_count": 43,
   "id": "97fb83f3",
   "metadata": {},
   "outputs": [
    {
     "name": "stdout",
     "output_type": "stream",
     "text": [
      "(tensor([0.7570, 0.2346, 0.6471]), tensor(0))\n",
      "(tensor([0.3556, 0.4452, 0.0193]), tensor(1))\n",
      "(tensor([0.2616, 0.7713, 0.3785]), tensor(2))\n",
      "(tensor([0.9980, 0.9008, 0.4766]), tensor(3))\n"
     ]
    }
   ],
   "source": [
    "for sample in joint_dataset:\n",
    "    print(sample)"
   ]
  },
  {
   "cell_type": "markdown",
   "id": "529eafcd",
   "metadata": {},
   "source": [
    "We can also simply use the TensorDataset class to create our joint dataset:"
   ]
  },
  {
   "cell_type": "code",
   "execution_count": 44,
   "id": "ef585bda",
   "metadata": {},
   "outputs": [
    {
     "name": "stdout",
     "output_type": "stream",
     "text": [
      "(tensor([0.7570, 0.2346, 0.6471]), tensor(0))\n",
      "(tensor([0.3556, 0.4452, 0.0193]), tensor(1))\n",
      "(tensor([0.2616, 0.7713, 0.3785]), tensor(2))\n",
      "(tensor([0.9980, 0.9008, 0.4766]), tensor(3))\n"
     ]
    }
   ],
   "source": [
    "from torch.utils.data import TensorDataset\n",
    "\n",
    "joint_dataset = TensorDataset(t_x, t_y)   \n",
    "\n",
    "for sample in joint_dataset:\n",
    "    print(sample)"
   ]
  },
  {
   "cell_type": "markdown",
   "id": "022a7f64",
   "metadata": {},
   "source": [
    "##### Shuffle, batch, and repeat"
   ]
  },
  {
   "cell_type": "code",
   "execution_count": 45,
   "id": "668b2aba",
   "metadata": {},
   "outputs": [],
   "source": [
    "data_loader = DataLoader(dataset=joint_dataset, batch_size=2, shuffle=True)   # Create data loader from our dataset"
   ]
  },
  {
   "cell_type": "code",
   "execution_count": 46,
   "id": "0554c8d1",
   "metadata": {},
   "outputs": [
    {
     "name": "stdout",
     "output_type": "stream",
     "text": [
      "[tensor([[0.9980, 0.9008, 0.4766],\n",
      "        [0.3556, 0.4452, 0.0193]]), tensor([3, 1])]\n",
      "[tensor([[0.2616, 0.7713, 0.3785],\n",
      "        [0.7570, 0.2346, 0.6471]]), tensor([2, 0])]\n"
     ]
    }
   ],
   "source": [
    "for batch in data_loader:   # Batches (of size 2) returned in shuffled order, keeping correspondence between x and y.\n",
    "    print(batch)"
   ]
  },
  {
   "cell_type": "markdown",
   "id": "b924257b",
   "metadata": {},
   "source": [
    "We can pass through the full dataset in batches, for multiple epochs:"
   ]
  },
  {
   "cell_type": "code",
   "execution_count": 47,
   "id": "6ab4369c",
   "metadata": {},
   "outputs": [
    {
     "name": "stdout",
     "output_type": "stream",
     "text": [
      "epoch 1: \n",
      "\n",
      "    batch 1:  x: tensor([[0.9980, 0.9008, 0.4766],\n",
      "        [0.2616, 0.7713, 0.3785]]) \n",
      "     y: tensor([3, 2]) \n",
      "\n",
      "    batch 2:  x: tensor([[0.7570, 0.2346, 0.6471],\n",
      "        [0.3556, 0.4452, 0.0193]]) \n",
      "     y: tensor([0, 1]) \n",
      "\n",
      "\n",
      "\n",
      "epoch 2: \n",
      "\n",
      "    batch 1:  x: tensor([[0.2616, 0.7713, 0.3785],\n",
      "        [0.9980, 0.9008, 0.4766]]) \n",
      "     y: tensor([2, 3]) \n",
      "\n",
      "    batch 2:  x: tensor([[0.7570, 0.2346, 0.6471],\n",
      "        [0.3556, 0.4452, 0.0193]]) \n",
      "     y: tensor([0, 1]) \n",
      "\n",
      "\n",
      "\n"
     ]
    }
   ],
   "source": [
    "for epoch in range(2):\n",
    "    \n",
    "    print(f'epoch {epoch+1}: \\n')\n",
    "    \n",
    "    for i, batch in enumerate(data_loader, 1):\n",
    "        print(f'    batch {i}:  x: {batch[0]} \\n     y: {batch[1]} \\n')\n",
    "        \n",
    "    print('\\n')"
   ]
  },
  {
   "cell_type": "markdown",
   "id": "487472fc",
   "metadata": {},
   "source": [
    "##### Fetching datasets from torchvision.datasets"
   ]
  },
  {
   "cell_type": "code",
   "execution_count": 48,
   "id": "fc5bb1f5",
   "metadata": {},
   "outputs": [
    {
     "name": "stdout",
     "output_type": "stream",
     "text": [
      "Downloading http://yann.lecun.com/exdb/mnist/train-images-idx3-ubyte.gz\n",
      "Downloading http://yann.lecun.com/exdb/mnist/train-images-idx3-ubyte.gz to ./MNIST\\raw\\train-images-idx3-ubyte.gz\n"
     ]
    },
    {
     "name": "stderr",
     "output_type": "stream",
     "text": [
      "100.0%\n"
     ]
    },
    {
     "name": "stdout",
     "output_type": "stream",
     "text": [
      "Extracting ./MNIST\\raw\\train-images-idx3-ubyte.gz to ./MNIST\\raw\n"
     ]
    },
    {
     "name": "stderr",
     "output_type": "stream",
     "text": [
      "\r",
      "100.0%"
     ]
    },
    {
     "name": "stdout",
     "output_type": "stream",
     "text": [
      "\n",
      "Downloading http://yann.lecun.com/exdb/mnist/train-labels-idx1-ubyte.gz\n",
      "Downloading http://yann.lecun.com/exdb/mnist/train-labels-idx1-ubyte.gz to ./MNIST\\raw\\train-labels-idx1-ubyte.gz\n",
      "Extracting ./MNIST\\raw\\train-labels-idx1-ubyte.gz to ./MNIST\\raw\n",
      "\n",
      "Downloading http://yann.lecun.com/exdb/mnist/t10k-images-idx3-ubyte.gz\n",
      "Downloading http://yann.lecun.com/exdb/mnist/t10k-images-idx3-ubyte.gz to ./MNIST\\raw\\t10k-images-idx3-ubyte.gz\n"
     ]
    },
    {
     "name": "stderr",
     "output_type": "stream",
     "text": [
      "\n",
      "100.0%\n",
      "100.0%"
     ]
    },
    {
     "name": "stdout",
     "output_type": "stream",
     "text": [
      "Extracting ./MNIST\\raw\\t10k-images-idx3-ubyte.gz to ./MNIST\\raw\n",
      "\n",
      "Downloading http://yann.lecun.com/exdb/mnist/t10k-labels-idx1-ubyte.gz\n",
      "Downloading http://yann.lecun.com/exdb/mnist/t10k-labels-idx1-ubyte.gz to ./MNIST\\raw\\t10k-labels-idx1-ubyte.gz\n",
      "Extracting ./MNIST\\raw\\t10k-labels-idx1-ubyte.gz to ./MNIST\\raw\n",
      "\n"
     ]
    },
    {
     "name": "stderr",
     "output_type": "stream",
     "text": [
      "\n"
     ]
    }
   ],
   "source": [
    "image_path = './'\n",
    "mnist_dataset = torchvision.datasets.MNIST(image_path, 'train', download=True)"
   ]
  },
  {
   "cell_type": "code",
   "execution_count": 49,
   "id": "1592a134",
   "metadata": {},
   "outputs": [
    {
     "name": "stdout",
     "output_type": "stream",
     "text": [
      "(<PIL.Image.Image image mode=L size=28x28 at 0x1254F42F130>, 5)\n"
     ]
    }
   ],
   "source": [
    "example = next(iter(mnist_dataset))\n",
    "print(example)"
   ]
  },
  {
   "cell_type": "code",
   "execution_count": 50,
   "id": "d589df11",
   "metadata": {},
   "outputs": [
    {
     "data": {
      "image/png": "[encoded data removed]",
      "text/plain": [
       "<Figure size 400x400 with 1 Axes>"
      ]
     },
     "metadata": {},
     "output_type": "display_data"
    }
   ],
   "source": [
    "plt.figure(figsize=(4,4))\n",
    "plt.imshow(example[0], cmap='binary')\n",
    "plt.title(f'Label: {example[1]}')\n",
    "plt.show()"
   ]
  },
  {
   "cell_type": "code",
   "execution_count": null,
   "id": "775467f7",
   "metadata": {},
   "outputs": [],
   "source": []
  },
  {
   "cell_type": "markdown",
   "id": "17c0b753",
   "metadata": {},
   "source": [
    "## 5. Simple linear regression model with PyTorch"
   ]
  },
  {
   "cell_type": "markdown",
   "id": "0ddd0943",
   "metadata": {},
   "source": [
    "##### X and y data:"
   ]
  },
  {
   "cell_type": "code",
   "execution_count": 51,
   "id": "a9b76ffa",
   "metadata": {},
   "outputs": [
    {
     "data": {
      "image/png": "[encoded data removed]",
      "text/plain": [
       "<Figure size 500x300 with 1 Axes>"
      ]
     },
     "metadata": {},
     "output_type": "display_data"
    }
   ],
   "source": [
    "X_train = np.arange(10, dtype='float32').reshape((10, 1))\n",
    "y_train = np.array([1.0, 1.3, 3.1, 2.0, 5.0, 6.3, 6.6, 7.4, 8.0, 9.0], dtype='float32')\n",
    "plt.figure(figsize=(5,3))\n",
    "plt.plot(X_train, y_train, 'o')\n",
    "plt.xlabel('x')\n",
    "plt.ylabel('y')\n",
    "plt.show()"
   ]
  },
  {
   "cell_type": "markdown",
   "id": "147f7c87",
   "metadata": {},
   "source": [
    "##### Standardize data and create a Dataset and DataLoader:"
   ]
  },
  {
   "cell_type": "code",
   "execution_count": 52,
   "id": "0fb89bea",
   "metadata": {},
   "outputs": [],
   "source": [
    "from torch.utils.data import TensorDataset\n",
    "X_train_norm = (X_train - np.mean(X_train)) / np.std(X_train)\n",
    "X_train_norm = torch.from_numpy(X_train_norm)\n",
    "y_train = torch.from_numpy(y_train)\n",
    "train_ds = TensorDataset(X_train_norm, y_train)\n",
    "batch_size = 1\n",
    "train_dl = DataLoader(train_ds, batch_size, shuffle=True)"
   ]
  },
  {
   "cell_type": "code",
   "execution_count": 53,
   "id": "389ef855",
   "metadata": {},
   "outputs": [
    {
     "data": {
      "text/plain": [
       "[tensor([[-0.5222]]), tensor([2.])]"
      ]
     },
     "execution_count": 53,
     "metadata": {},
     "output_type": "execute_result"
    }
   ],
   "source": [
    "next(iter(train_dl))"
   ]
  },
  {
   "cell_type": "markdown",
   "id": "fae97753",
   "metadata": {},
   "source": [
    "##### Linear regression without torch.nn"
   ]
  },
  {
   "cell_type": "markdown",
   "id": "96891821",
   "metadata": {},
   "source": [
    "Model: $z = wx + b$. First, let's define our model from scratch without using torch.nn. "
   ]
  },
  {
   "cell_type": "code",
   "execution_count": 54,
   "id": "f7eeaf7d",
   "metadata": {},
   "outputs": [],
   "source": [
    "def model(xb):\n",
    "    return xb @ weight + bias"
   ]
  },
  {
   "cell_type": "code",
   "execution_count": 55,
   "id": "43e37e13",
   "metadata": {},
   "outputs": [],
   "source": [
    "def loss_fn(inpt, target):\n",
    "    return (inpt - target).pow(2).mean()   # mean squared error"
   ]
  },
  {
   "cell_type": "code",
   "execution_count": 56,
   "id": "708975f3",
   "metadata": {},
   "outputs": [
    {
     "name": "stdout",
     "output_type": "stream",
     "text": [
      "Epoch 0  Loss 46.5720\n",
      "Epoch 10  Loss 27.1502\n",
      "Epoch 20  Loss 1.6446\n",
      "Epoch 30  Loss 14.4571\n",
      "Epoch 40  Loss 11.7827\n",
      "Epoch 50  Loss 6.4122\n",
      "Epoch 60  Loss 0.6339\n",
      "Epoch 70  Loss 3.1562\n",
      "Epoch 80  Loss 2.0100\n",
      "Epoch 90  Loss 0.3107\n",
      "Epoch 100  Loss 0.7625\n",
      "Epoch 110  Loss 1.0024\n",
      "Epoch 120  Loss 0.0232\n",
      "Epoch 130  Loss 0.5138\n",
      "Epoch 140  Loss 0.0741\n",
      "Epoch 150  Loss 1.8712\n",
      "Epoch 160  Loss 0.0007\n",
      "Epoch 170  Loss 0.0850\n",
      "Epoch 180  Loss 0.0634\n",
      "Epoch 190  Loss 0.0012\n"
     ]
    }
   ],
   "source": [
    "torch.manual_seed(1)\n",
    "weight = torch.randn(1)  # Initialized weight and bias\n",
    "weight.requires_grad_()\n",
    "bias = torch.zeros(1, requires_grad=True)\n",
    "\n",
    "learning_rate = 0.001\n",
    "num_epochs = 200\n",
    "\n",
    "for epoch in range(num_epochs):\n",
    "    \n",
    "    for x_batch, y_batch in train_dl:\n",
    "        pred = model(x_batch)\n",
    "        loss = loss_fn(pred, y_batch)\n",
    "        loss.backward()\n",
    "        \n",
    "    with torch.no_grad():   # Disable gradient calculation, since we do not need this for below update\n",
    "        weight -= weight.grad * learning_rate\n",
    "        bias -= bias.grad * learning_rate\n",
    "        \n",
    "    weight.grad.zero_()    # Set grads to zero so they are not accumulated in subsequent backward passes \n",
    "    bias.grad.zero_()\n",
    "        \n",
    "    if epoch % 10 == 0:\n",
    "        print(f'Epoch {epoch}  Loss {loss.item():.4f}')\n",
    "        "
   ]
  },
  {
   "cell_type": "code",
   "execution_count": 58,
   "id": "31e0ab50",
   "metadata": {},
   "outputs": [
    {
     "name": "stdout",
     "output_type": "stream",
     "text": [
      "Weight: 2.670930862426758\n"
     ]
    }
   ],
   "source": [
    "print(f'Weight: {weight.item()}')"
   ]
  },
  {
   "cell_type": "code",
   "execution_count": 59,
   "id": "75d58b79",
   "metadata": {},
   "outputs": [
    {
     "name": "stdout",
     "output_type": "stream",
     "text": [
      "Bias: 4.88258695602417\n"
     ]
    }
   ],
   "source": [
    "print(f'Bias: {bias.item()}')"
   ]
  },
  {
   "cell_type": "code",
   "execution_count": 64,
   "id": "4f3a4559",
   "metadata": {},
   "outputs": [
    {
     "data": {
      "image/png": "[encoded data removed]",
      "text/plain": [
       "<Figure size 500x300 with 1 Axes>"
      ]
     },
     "metadata": {},
     "output_type": "display_data"
    }
   ],
   "source": [
    "X_test = np.linspace(0, 9, num=100, dtype='float32').reshape(-1, 1)\n",
    "X_test_norm = (X_test - np.mean(X_train)) / np.std(X_train)\n",
    "X_test_norm = torch.from_numpy(X_test_norm)\n",
    "y_pred = model(X_test_norm).detach().numpy()\n",
    "plt.figure(figsize=(5,3))\n",
    "plt.plot(X_train_norm, y_train, 'o', label='Training examples')\n",
    "plt.plot(X_test_norm, y_pred, '--', label='Linear Regression')\n",
    "plt.xlabel('x')\n",
    "plt.ylabel('y')\n",
    "plt.legend()\n",
    "plt.show()"
   ]
  },
  {
   "cell_type": "markdown",
   "id": "b4f4d0d8",
   "metadata": {},
   "source": [
    "##### Linear Regression with torch.nn and torch.optim"
   ]
  },
  {
   "cell_type": "code",
   "execution_count": 65,
   "id": "a1a341dc",
   "metadata": {},
   "outputs": [],
   "source": [
    "import torch.nn as nn\n",
    "loss_fn = nn.MSELoss(reduction='mean')\n",
    "input_size = 1\n",
    "output_size = 1\n",
    "model2 = nn.Linear(input_size, output_size)\n",
    "optimizer = torch.optim.SGD(model2.parameters(), lr=learning_rate)"
   ]
  },
  {
   "cell_type": "code",
   "execution_count": 72,
   "id": "ad84b4db",
   "metadata": {},
   "outputs": [
    {
     "name": "stdout",
     "output_type": "stream",
     "text": [
      "Epoch 0  Loss 2.4346\n",
      "Epoch 10  Loss 0.1395\n",
      "Epoch 20  Loss 0.0743\n",
      "Epoch 30  Loss 0.0055\n",
      "Epoch 40  Loss 0.2379\n",
      "Epoch 50  Loss 0.7407\n",
      "Epoch 60  Loss 0.0742\n",
      "Epoch 70  Loss 0.0471\n",
      "Epoch 80  Loss 0.1395\n",
      "Epoch 90  Loss 0.2523\n",
      "Epoch 100  Loss 0.0055\n",
      "Epoch 110  Loss 0.2379\n",
      "Epoch 120  Loss 0.0055\n",
      "Epoch 130  Loss 0.0471\n",
      "Epoch 140  Loss 0.1395\n",
      "Epoch 150  Loss 0.0743\n",
      "Epoch 160  Loss 0.7408\n",
      "Epoch 170  Loss 0.2379\n",
      "Epoch 180  Loss 0.7408\n",
      "Epoch 190  Loss 0.2522\n"
     ]
    }
   ],
   "source": [
    "for epoch in range(num_epochs):\n",
    "    for x_batch, y_batch in train_dl:\n",
    "        \n",
    "        pred = model2(x_batch)[:, 0]    # [:, 0] so prediction has shape [1], not [1, 1], so it matches y_batch shape.\n",
    "        \n",
    "        loss = loss_fn(pred, y_batch)    # calc loss\n",
    "        \n",
    "        loss.backward()    # compute gradients\n",
    "        \n",
    "        optimizer.step()   # update parameters\n",
    "         \n",
    "        optimizer.zero_grad()    # reset grads to zero\n",
    "        \n",
    "    if epoch % 10 == 0:\n",
    "        print(f'Epoch {epoch}  Loss {loss.item():.4f}')"
   ]
  },
  {
   "cell_type": "code",
   "execution_count": 73,
   "id": "ee77269f",
   "metadata": {},
   "outputs": [
    {
     "name": "stdout",
     "output_type": "stream",
     "text": [
      "Weight: 2.7066938877105713\n"
     ]
    }
   ],
   "source": [
    "print(f'Weight: {model2.weight.item()}')"
   ]
  },
  {
   "cell_type": "code",
   "execution_count": 74,
   "id": "818024c1",
   "metadata": {},
   "outputs": [
    {
     "name": "stdout",
     "output_type": "stream",
     "text": [
      "Bias: 4.969970703125\n"
     ]
    }
   ],
   "source": [
    "print(f'Bias: {model2.bias.item()}')"
   ]
  },
  {
   "cell_type": "code",
   "execution_count": 75,
   "id": "b83fbe7b",
   "metadata": {},
   "outputs": [
    {
     "data": {
      "image/png": "[encoded data removed]",
      "text/plain": [
       "<Figure size 500x300 with 1 Axes>"
      ]
     },
     "metadata": {},
     "output_type": "display_data"
    }
   ],
   "source": [
    "X_test = np.linspace(0, 9, num=100, dtype='float32').reshape(-1, 1)\n",
    "X_test_norm = (X_test - np.mean(X_train)) / np.std(X_train)\n",
    "X_test_norm = torch.from_numpy(X_test_norm)\n",
    "y_pred = model2(X_test_norm).detach().numpy()\n",
    "plt.figure(figsize=(5,3))\n",
    "plt.plot(X_train_norm, y_train, 'o', label='Training examples')\n",
    "plt.plot(X_test_norm, y_pred, '--', label='Linear Regression')\n",
    "plt.xlabel('x')\n",
    "plt.ylabel('y')\n",
    "plt.legend()\n",
    "plt.show()"
   ]
  },
  {
   "cell_type": "code",
   "execution_count": null,
   "id": "db94545c",
   "metadata": {},
   "outputs": [],
   "source": []
  },
  {
   "cell_type": "markdown",
   "id": "74f61ef6",
   "metadata": {},
   "source": [
    "## 6. XOR classification with nn.Sequential"
   ]
  },
  {
   "cell_type": "markdown",
   "id": "c4adc65d",
   "metadata": {},
   "source": [
    "Building a simple neural network with nn.Sequential. Let's generate $(x_0, x_1)$ pairs drawn from a uniform distribution between $[-1, 1)$, and assign each a label: $y=0$ if $x_0 \\times x_1 < 0$, or $y=1$ otherwise."
   ]
  },
  {
   "cell_type": "code",
   "execution_count": 76,
   "id": "9b321bce",
   "metadata": {},
   "outputs": [],
   "source": [
    "torch.manual_seed(1)\n",
    "np.random.seed(1)\n",
    "x = np.random.uniform(-1, 1, size=(200, 2))      # 200 samples\n",
    "y = np.array(x[:, 0] * x[:, 1] >= 0, dtype=int)\n",
    "\n",
    "# Split into 100 training samples, 100 validation\n",
    "\n",
    "n_train = 100\n",
    "\n",
    "x_train = torch.tensor(x[:n_train, :], dtype=torch.float32)\n",
    "y_train = torch.tensor(y[:n_train], dtype=torch.float32)\n",
    "x_valid = torch.tensor(x[n_train:, :], dtype=torch.float32)\n",
    "y_valid = torch.tensor(y[n_train:], dtype=torch.float32)"
   ]
  },
  {
   "cell_type": "code",
   "execution_count": 77,
   "id": "451b9288",
   "metadata": {},
   "outputs": [
    {
     "data": {
      "image/png": "[encoded data removed]",
      "text/plain": [
       "<Figure size 400x400 with 1 Axes>"
      ]
     },
     "metadata": {},
     "output_type": "display_data"
    }
   ],
   "source": [
    "plt.figure(figsize=(4,4))\n",
    "plt.scatter(x[:, 0], x[:, 1], c=y)\n",
    "plt.xlabel(r'$x_0$')\n",
    "plt.ylabel(r'$x_1$')\n",
    "plt.show()"
   ]
  },
  {
   "cell_type": "markdown",
   "id": "5056488d",
   "metadata": {},
   "source": [
    "##### Try single-layer logistic regression with nn.Sequential"
   ]
  },
  {
   "cell_type": "code",
   "execution_count": 78,
   "id": "217e6119",
   "metadata": {},
   "outputs": [],
   "source": [
    "model = nn.Sequential(\n",
    "    nn.Linear(2, 1),\n",
    "    nn.Sigmoid()\n",
    ")"
   ]
  },
  {
   "cell_type": "code",
   "execution_count": 79,
   "id": "e3b7a481",
   "metadata": {},
   "outputs": [
    {
     "data": {
      "text/plain": [
       "Sequential(\n",
       "  (0): Linear(in_features=2, out_features=1, bias=True)\n",
       "  (1): Sigmoid()\n",
       ")"
      ]
     },
     "execution_count": 79,
     "metadata": {},
     "output_type": "execute_result"
    }
   ],
   "source": [
    "model"
   ]
  },
  {
   "cell_type": "code",
   "execution_count": 80,
   "id": "7e5bc2f8",
   "metadata": {},
   "outputs": [],
   "source": [
    "loss_fn = nn.BCELoss()   # Using cross entropy as loss function for binary classification\n",
    "optimizer = torch.optim.SGD(model.parameters(), lr=0.001)"
   ]
  },
  {
   "cell_type": "code",
   "execution_count": 81,
   "id": "395e4ca7",
   "metadata": {},
   "outputs": [],
   "source": [
    "from torch.utils.data import DataLoader, TensorDataset\n",
    "train_ds = TensorDataset(x_train, y_train)\n",
    "batch_size = 2\n",
    "torch.manual_seed(1)\n",
    "train_dl = DataLoader(train_ds, batch_size, shuffle=True)"
   ]
  },
  {
   "cell_type": "code",
   "execution_count": 82,
   "id": "6435c394",
   "metadata": {},
   "outputs": [],
   "source": [
    "torch.manual_seed(1)\n",
    "num_epochs = 200\n",
    "\n",
    "def train(model, num_epochs, train_dl, x_valid, y_valid):\n",
    "    \n",
    "    loss_hist_train = [0] * num_epochs\n",
    "    accuracy_hist_train = [0] * num_epochs\n",
    "    loss_hist_valid = [0] * num_epochs\n",
    "    accuracy_hist_valid = [0] * num_epochs\n",
    "    \n",
    "    for epoch in range(num_epochs):\n",
    "        for x_batch, y_batch in train_dl:\n",
    "            \n",
    "            pred = model(x_batch)[:, 0]\n",
    "            loss = loss_fn(pred, y_batch)\n",
    "            loss.backward()\n",
    "            optimizer.step()\n",
    "            optimizer.zero_grad()\n",
    "                        \n",
    "            loss_hist_train[epoch] += loss.item()\n",
    "            \n",
    "            is_correct = ((pred >= 0.5).float() == y_batch).float()   # 1 if pred = y_batch, 0 otherwise\n",
    "            \n",
    "            accuracy_hist_train[epoch] += is_correct.mean()        # Mean accuracy for this batch\n",
    "            \n",
    "        loss_hist_train[epoch] /= (n_train / batch_size)           # BCEloss by default calculates mean loss for minibatch (i.e. mean of 2 samples), which we accumulated for 50 batches.\n",
    "                                                                   # So to get mean loss per sample, now divide by (n_train / batch_size)\n",
    "                                                                      \n",
    "        accuracy_hist_train[epoch] /= (n_train / batch_size)       # e.g. divide by 100/2 = 50, since we accumulated 50 mean accuracies for each minibatch\n",
    "        \n",
    "        # Get validation accuracy and loss:\n",
    "        pred = model(x_valid)[:, 0]\n",
    "        loss = loss_fn(pred, y_valid)\n",
    "        loss_hist_valid[epoch] = loss.item()\n",
    "        is_correct = ((pred >= 0.5).float() == y_valid).float() \n",
    "        accuracy_hist_valid[epoch] += is_correct.mean()\n",
    "        \n",
    "    return loss_hist_train, loss_hist_valid, accuracy_hist_train, accuracy_hist_valid"
   ]
  },
  {
   "cell_type": "code",
   "execution_count": 83,
   "id": "6026aa23",
   "metadata": {},
   "outputs": [],
   "source": [
    "history = train(model, num_epochs, train_dl, x_valid, y_valid)"
   ]
  },
  {
   "cell_type": "code",
   "execution_count": 84,
   "id": "6ba89be9",
   "metadata": {},
   "outputs": [
    {
     "data": {
      "image/png": "[encoded data removed]",
      "text/plain": [
       "<Figure size 1000x300 with 2 Axes>"
      ]
     },
     "metadata": {},
     "output_type": "display_data"
    }
   ],
   "source": [
    "fig = plt.figure(figsize=(10, 3))\n",
    "ax = fig.add_subplot(1, 2, 1)\n",
    "plt.plot(history[0], label='Train loss')\n",
    "plt.plot(history[1], label='Validation loss')\n",
    "ax.set_xlabel('Epochs')\n",
    "plt.legend()\n",
    "ax = fig.add_subplot(1, 2, 2)\n",
    "plt.plot(history[2], label='Train accuracy')\n",
    "plt.plot(history[3], label='Validation accuracy')\n",
    "ax.set_xlabel('Epochs')\n",
    "plt.legend()\n",
    "plt.show()"
   ]
  },
  {
   "cell_type": "markdown",
   "id": "66ee4202",
   "metadata": {},
   "source": [
    "Poor peformance as expected: a simple model with no hidden layer can only produce a linear decision boundary. Try adding 2 hidden layers:"
   ]
  },
  {
   "cell_type": "code",
   "execution_count": 85,
   "id": "32382017",
   "metadata": {},
   "outputs": [],
   "source": [
    "model_2 = nn.Sequential(\n",
    "\n",
    "    nn.Linear(2, 4),\n",
    "    nn.ReLU(),\n",
    "    nn.Linear(4, 4),\n",
    "    nn.ReLU(),\n",
    "    nn.Linear(4, 1),\n",
    "    nn.Sigmoid()\n",
    "\n",
    ")"
   ]
  },
  {
   "cell_type": "code",
   "execution_count": 86,
   "id": "b8c5bf23",
   "metadata": {},
   "outputs": [],
   "source": [
    "loss_fn = nn.BCELoss()\n",
    "optimizer = torch.optim.SGD(model_2.parameters(), lr=0.015)"
   ]
  },
  {
   "cell_type": "code",
   "execution_count": 87,
   "id": "98549862",
   "metadata": {},
   "outputs": [],
   "source": [
    "history_2 = train(model_2, num_epochs, train_dl, x_valid, y_valid)"
   ]
  },
  {
   "cell_type": "code",
   "execution_count": 88,
   "id": "96b75bdd",
   "metadata": {},
   "outputs": [
    {
     "data": {
      "image/png": "[encoded data removed]",
      "text/plain": [
       "<Figure size 1000x300 with 2 Axes>"
      ]
     },
     "metadata": {},
     "output_type": "display_data"
    }
   ],
   "source": [
    "fig = plt.figure(figsize=(10, 3))\n",
    "ax = fig.add_subplot(1, 2, 1)\n",
    "plt.plot(history_2[0], label='Train loss')\n",
    "plt.plot(history_2[1], label='Validation loss')\n",
    "ax.set_xlabel('Epochs')\n",
    "plt.legend()\n",
    "ax = fig.add_subplot(1, 2, 2)\n",
    "plt.plot(history_2[2], label='Train accuracy')\n",
    "plt.plot(history_2[3], label='Validation accuracy')\n",
    "ax.set_xlabel('Epochs')\n",
    "plt.legend()\n",
    "plt.show()"
   ]
  },
  {
   "cell_type": "code",
   "execution_count": null,
   "id": "89c6acbb",
   "metadata": {},
   "outputs": [],
   "source": []
  },
  {
   "cell_type": "markdown",
   "id": "c1fbd409",
   "metadata": {},
   "source": [
    "## 7. XOR classification with nn.module"
   ]
  },
  {
   "cell_type": "markdown",
   "id": "56855270",
   "metadata": {},
   "source": [
    "Instead of using nn.Sequential, we can create a new class derived from nn.Module, where we now define the layers as attributes of the class, and define a forward() method:"
   ]
  },
  {
   "cell_type": "code",
   "execution_count": 89,
   "id": "abb1d34c",
   "metadata": {},
   "outputs": [],
   "source": [
    "class MyModule(nn.Module):\n",
    "    def __init__(self):\n",
    "        super().__init__()\n",
    "        l1 = nn.Linear(2, 4)\n",
    "        a1 = nn.ReLU()\n",
    "        l2 = nn.Linear(4, 4)\n",
    "        a2 = nn.ReLU()\n",
    "        l3 = nn.Linear(4, 1)\n",
    "        a3 = nn.Sigmoid()\n",
    "        l = [l1, a1, l2, a2, l3, a3]\n",
    "        self.module_list = nn.ModuleList(l)\n",
    "        \n",
    "    def forward(self, x):\n",
    "        for f in self.module_list:\n",
    "            x = f(x)\n",
    "        return x\n",
    "    \n",
    "    def predict(self, x):\n",
    "        x = torch.tensor(x, dtype=torch.float32)\n",
    "        pred = self.forward(x)[:, 0]\n",
    "        return (pred >= 0.5).float()"
   ]
  },
  {
   "cell_type": "code",
   "execution_count": 90,
   "id": "28bf8d42",
   "metadata": {},
   "outputs": [
    {
     "data": {
      "text/plain": [
       "MyModule(\n",
       "  (module_list): ModuleList(\n",
       "    (0): Linear(in_features=2, out_features=4, bias=True)\n",
       "    (1): ReLU()\n",
       "    (2): Linear(in_features=4, out_features=4, bias=True)\n",
       "    (3): ReLU()\n",
       "    (4): Linear(in_features=4, out_features=1, bias=True)\n",
       "    (5): Sigmoid()\n",
       "  )\n",
       ")"
      ]
     },
     "execution_count": 90,
     "metadata": {},
     "output_type": "execute_result"
    }
   ],
   "source": [
    "model_3 = MyModule()\n",
    "model_3"
   ]
  },
  {
   "cell_type": "code",
   "execution_count": 91,
   "id": "daf3eac8",
   "metadata": {},
   "outputs": [],
   "source": [
    "loss_fn = nn.BCELoss()\n",
    "optimizer = torch.optim.SGD(model_3.parameters(), lr=0.015)\n",
    "history_3 = train(model_3, num_epochs, train_dl, x_valid, y_valid)"
   ]
  },
  {
   "cell_type": "code",
   "execution_count": 92,
   "id": "28d9318d",
   "metadata": {},
   "outputs": [
    {
     "data": {
      "image/png": "[encoded data removed]",
      "text/plain": [
       "<Figure size 1000x300 with 2 Axes>"
      ]
     },
     "metadata": {},
     "output_type": "display_data"
    }
   ],
   "source": [
    "fig = plt.figure(figsize=(10, 3))\n",
    "ax = fig.add_subplot(1, 2, 1)\n",
    "plt.plot(history_3[0], label='Train loss')\n",
    "plt.plot(history_3[1], label='Validation loss')\n",
    "ax.set_xlabel('Epochs')\n",
    "plt.legend()\n",
    "ax = fig.add_subplot(1, 2, 2)\n",
    "plt.plot(history_3[2], label='Train accuracy')\n",
    "plt.plot(history_3[3], label='Validation accuracy')\n",
    "ax.set_xlabel('Epochs')\n",
    "plt.legend()\n",
    "plt.show()"
   ]
  },
  {
   "cell_type": "markdown",
   "id": "0e93609d",
   "metadata": {},
   "source": [
    "##### Plot decision boundary for network with 2 hidden layers:"
   ]
  },
  {
   "cell_type": "code",
   "execution_count": 93,
   "id": "a04da99e",
   "metadata": {},
   "outputs": [],
   "source": [
    "from mlxtend.plotting import plot_decision_regions"
   ]
  },
  {
   "cell_type": "code",
   "execution_count": 94,
   "id": "06f2c5cb",
   "metadata": {},
   "outputs": [
    {
     "data": {
      "text/plain": [
       "<AxesSubplot: >"
      ]
     },
     "execution_count": 94,
     "metadata": {},
     "output_type": "execute_result"
    },
    {
     "data": {
      "image/png": "[encoded data removed]",
      "text/plain": [
       "<Figure size 640x480 with 1 Axes>"
      ]
     },
     "metadata": {},
     "output_type": "display_data"
    }
   ],
   "source": [
    "plot_decision_regions(X=x_valid.numpy(), y=y_valid.numpy().astype(np.int_), clf=model_3)"
   ]
  },
  {
   "cell_type": "code",
   "execution_count": null,
   "id": "cde8fb5e",
   "metadata": {},
   "outputs": [],
   "source": []
  }
 ],
 "metadata": {
  "kernelspec": {
   "display_name": "Python 3 (ipykernel)",
   "language": "python",
   "name": "python3"
  },
  "language_info": {
   "codemirror_mode": {
    "name": "ipython",
    "version": 3
   },
   "file_extension": ".py",
   "mimetype": "text/x-python",
   "name": "python",
   "nbconvert_exporter": "python",
   "pygments_lexer": "ipython3",
   "version": "3.10.11"
  }
 },
 "nbformat": 4,
 "nbformat_minor": 5
}
