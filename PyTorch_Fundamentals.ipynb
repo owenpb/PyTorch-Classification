{
 "cells": [
  {
   "cell_type": "markdown",
   "id": "1a369cb3",
   "metadata": {},
   "source": [
    "# PyTorch Fundamentals"
   ]
  },
  {
   "cell_type": "markdown",
   "id": "9af26e81",
   "metadata": {},
   "source": [
    "In this notebook, I review basic tensor operations in PyTorch and building neural networks, mostly following Chapters 12 and 13 of <i>''Machine Learning with PyTorch and Scikit-Learn''</i> by Sebastian Raschka et al. This notebook covers:\n",
    "\n",
    "1. Creating tensors in PyTorch\n",
    "2. Manipulating data type and shape of tensor\n",
    "3. Operations on tensors\n",
    "4. Building input pipelines\n",
    "5. Simple linear regression model in PyTorch\n",
    "6. XOR classification with nn.Sequential\n",
    "7. XOR classification with nn.Module"
   ]
  },
  {
   "cell_type": "code",
   "execution_count": null,
   "id": "40a617ea",
   "metadata": {},
   "outputs": [],
   "source": [
    "import torch\n",
    "import torchvision\n",
    "import numpy as np\n",
    "import matplotlib.pyplot as plt"
   ]
  }
 ],
 "metadata": {
  "kernelspec": {
   "display_name": "Python 3 (ipykernel)",
   "language": "python",
   "name": "python3"
  },
  "language_info": {
   "codemirror_mode": {
    "name": "ipython",
    "version": 3
   },
   "file_extension": ".py",
   "mimetype": "text/x-python",
   "name": "python",
   "nbconvert_exporter": "python",
   "pygments_lexer": "ipython3",
   "version": "3.10.11"
  }
 },
 "nbformat": 4,
 "nbformat_minor": 5
}
