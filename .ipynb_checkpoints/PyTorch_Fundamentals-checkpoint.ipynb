{
 "cells": [
  {
   "cell_type": "markdown",
   "id": "dc7a1cf6",
   "metadata": {},
   "source": [
    "# PyTorch Fundamentals"
   ]
  },
  {
   "cell_type": "markdown",
   "id": "0428ca12",
   "metadata": {},
   "source": [
    "In this notebook, I review basic tensor operations in PyTorch and building neural networks, mostly following Chapters 12 and 13 of <i>''Machine Learning with PyTorch and Scikit-Learn''</i> by Sebastian Raschka et al. This notebook covers:\n",
    "\n",
    "1. Creating tensors in PyTorch\n",
    "2. Manipulating data type and shape of tensor\n",
    "3. Operations on tensors\n",
    "4. Building input pipelines\n",
    "5. Simple linear regression model in PyTorch\n",
    "6. XOR classification with nn.Sequential\n",
    "7. XOR classification with nn.Module"
   ]
  },
  {
   "cell_type": "code",
   "execution_count": 1,
   "id": "b59e5723",
   "metadata": {},
   "outputs": [],
   "source": [
    "import torch\n",
    "import torchvision\n",
    "import numpy as np\n",
    "import matplotlib.pyplot as plt"
   ]
  },
  {
   "cell_type": "markdown",
   "id": "fac02e1a",
   "metadata": {},
   "source": [
    "## 1. Creating tensors in PyTorch\n",
    "\n",
    "Creating a tensor from a list or numpy array:"
   ]
  },
  {
   "cell_type": "code",
   "execution_count": 2,
   "id": "973a918a",
   "metadata": {},
   "outputs": [],
   "source": [
    "a = [1, 2, 3]\n",
    "b = np.array([4, 5, 6], dtype=np.int32)\n",
    "\n",
    "t_a = torch.tensor(a)      # tensor from list\n",
    "t_b = torch.from_numpy(b)  # tensor from numpy array\n",
    "\n",
    "t_ones = torch.ones(2, 3)       # tensor of ones\n",
    "rand_tensor = torch.rand(2, 3)  # tensor of random values"
   ]
  },
  {
   "cell_type": "code",
   "execution_count": 3,
   "id": "b870a79e",
   "metadata": {},
   "outputs": [
    {
     "name": "stdout",
     "output_type": "stream",
     "text": [
      "tensor([1, 2, 3])\n",
      "tensor([4, 5, 6], dtype=torch.int32)\n",
      "tensor([[1., 1., 1.],\n",
      "        [1., 1., 1.]])\n",
      "tensor([[0.7794, 0.1164, 0.3139],\n",
      "        [0.3971, 0.2793, 0.7157]])\n"
     ]
    }
   ],
   "source": [
    "print(t_a)\n",
    "print(t_b)\n",
    "print(t_ones)\n",
    "print(rand_tensor)"
   ]
  },
  {
   "cell_type": "markdown",
   "id": "381809cd",
   "metadata": {},
   "source": [
    "## 2. Manipulating data type and shape of tensor"
   ]
  },
  {
   "cell_type": "markdown",
   "id": "c67f62ae",
   "metadata": {},
   "source": [
    "##### Change data type:"
   ]
  },
  {
   "cell_type": "code",
   "execution_count": 4,
   "id": "465a77ac",
   "metadata": {},
   "outputs": [
    {
     "name": "stdout",
     "output_type": "stream",
     "text": [
      "torch.int64\n"
     ]
    }
   ],
   "source": [
    "t_a_new = t_a.to(torch.int64)\n",
    "print(t_a_new.dtype)"
   ]
  },
  {
   "cell_type": "markdown",
   "id": "de760c27",
   "metadata": {},
   "source": [
    "##### Transposing a tensor:"
   ]
  },
  {
   "cell_type": "code",
   "execution_count": 5,
   "id": "3394d27a",
   "metadata": {},
   "outputs": [
    {
     "name": "stdout",
     "output_type": "stream",
     "text": [
      "tensor([[0.1257, 0.9263, 0.1381, 0.8227, 0.7799],\n",
      "        [0.8724, 0.3193, 0.8371, 0.5845, 0.2296],\n",
      "        [0.1639, 0.9779, 0.6398, 0.3206, 0.7073]])\n",
      "torch.Size([3, 5])\n"
     ]
    }
   ],
   "source": [
    "t = torch.rand(3, 5)\n",
    "print(t)\n",
    "print(t.shape)"
   ]
  },
  {
   "cell_type": "code",
   "execution_count": 6,
   "id": "7a7c1278",
   "metadata": {},
   "outputs": [
    {
     "name": "stdout",
     "output_type": "stream",
     "text": [
      "tensor([[0.1257, 0.8724, 0.1639],\n",
      "        [0.9263, 0.3193, 0.9779],\n",
      "        [0.1381, 0.8371, 0.6398],\n",
      "        [0.8227, 0.5845, 0.3206],\n",
      "        [0.7799, 0.2296, 0.7073]])\n",
      "torch.Size([5, 3])\n"
     ]
    }
   ],
   "source": [
    "t_tr = torch.transpose(t, 0, 1)  # i.e. swapping dimensions 0 and 1\n",
    "print(t_tr)\n",
    "print(t_tr.shape)"
   ]
  },
  {
   "cell_type": "markdown",
   "id": "8a7fa650",
   "metadata": {},
   "source": [
    "##### Reshaping a tensor:"
   ]
  },
  {
   "cell_type": "code",
   "execution_count": 7,
   "id": "28395799",
   "metadata": {},
   "outputs": [
    {
     "name": "stdout",
     "output_type": "stream",
     "text": [
      "tensor([0., 0., 0., 0., 0., 0., 0., 0., 0., 0., 0., 0., 0., 0., 0., 0., 0., 0., 0., 0., 0., 0., 0., 0.,\n",
      "        0., 0., 0., 0., 0., 0.])\n"
     ]
    }
   ],
   "source": [
    "t = torch.zeros(30)\n",
    "print(t)"
   ]
  },
  {
   "cell_type": "code",
   "execution_count": 8,
   "id": "486cabd2",
   "metadata": {},
   "outputs": [
    {
     "name": "stdout",
     "output_type": "stream",
     "text": [
      "tensor([[0., 0., 0., 0., 0., 0.],\n",
      "        [0., 0., 0., 0., 0., 0.],\n",
      "        [0., 0., 0., 0., 0., 0.],\n",
      "        [0., 0., 0., 0., 0., 0.],\n",
      "        [0., 0., 0., 0., 0., 0.]])\n",
      "torch.Size([5, 6])\n"
     ]
    }
   ],
   "source": [
    "t_reshape = t.reshape(5, 6)\n",
    "print(t_reshape)\n",
    "print(t_reshape.shape)"
   ]
  },
  {
   "cell_type": "markdown",
   "id": "72143d58",
   "metadata": {},
   "source": [
    "##### Removing unnecessary dimensions:"
   ]
  },
  {
   "cell_type": "code",
   "execution_count": 9,
   "id": "ed9880b3",
   "metadata": {},
   "outputs": [
    {
     "name": "stdout",
     "output_type": "stream",
     "text": [
      "tensor([[[[[0.],\n",
      "           [0.],\n",
      "           [0.],\n",
      "           [0.],\n",
      "           [0.]]],\n",
      "\n",
      "\n",
      "         [[[0.],\n",
      "           [0.],\n",
      "           [0.],\n",
      "           [0.],\n",
      "           [0.]]]]])\n",
      "torch.Size([1, 2, 1, 5, 1])\n"
     ]
    }
   ],
   "source": [
    "t = torch.zeros(1, 2, 1, 5, 1)\n",
    "print(t)\n",
    "print(t.shape)"
   ]
  },
  {
   "cell_type": "code",
   "execution_count": 10,
   "id": "ef9ce185",
   "metadata": {},
   "outputs": [
    {
     "name": "stdout",
     "output_type": "stream",
     "text": [
      "tensor([[0., 0., 0., 0., 0.],\n",
      "        [0., 0., 0., 0., 0.]])\n",
      "torch.Size([2, 5])\n"
     ]
    }
   ],
   "source": [
    "t_sqz = torch.squeeze(t)\n",
    "print(t_sqz)\n",
    "print(t_sqz.shape)"
   ]
  },
  {
   "cell_type": "markdown",
   "id": "1c1ce7dc",
   "metadata": {},
   "source": [
    "## 3. Operations on tensors"
   ]
  },
  {
   "cell_type": "markdown",
   "id": "b886bca4",
   "metadata": {},
   "source": [
    "##### Instantiating random tensors"
   ]
  },
  {
   "cell_type": "code",
   "execution_count": 11,
   "id": "861300c9",
   "metadata": {},
   "outputs": [],
   "source": [
    "torch.manual_seed(1)\n",
    "t1 = 2 * torch.rand(5, 2) - 1\n",
    "t2 = torch.normal(mean=0, std=1, size=(5,2))  # Normally distributed random numbers"
   ]
  },
  {
   "cell_type": "code",
   "execution_count": 12,
   "id": "b9b2fde8",
   "metadata": {},
   "outputs": [
    {
     "data": {
      "text/plain": [
       "tensor([[ 0.5153, -0.4414],\n",
       "        [-0.1939,  0.4694],\n",
       "        [-0.9414,  0.5997],\n",
       "        [-0.2057,  0.5087],\n",
       "        [ 0.1390, -0.1224]])"
      ]
     },
     "execution_count": 12,
     "metadata": {},
     "output_type": "execute_result"
    }
   ],
   "source": [
    "t1"
   ]
  },
  {
   "cell_type": "code",
   "execution_count": 13,
   "id": "a102ba77",
   "metadata": {},
   "outputs": [
    {
     "data": {
      "text/plain": [
       "tensor([[ 0.8590,  0.7056],\n",
       "        [-0.3406, -1.2720],\n",
       "        [-1.1948,  0.0250],\n",
       "        [-0.7627,  1.3969],\n",
       "        [-0.3245,  0.2879]])"
      ]
     },
     "execution_count": 13,
     "metadata": {},
     "output_type": "execute_result"
    }
   ],
   "source": [
    "t2"
   ]
  },
  {
   "cell_type": "markdown",
   "id": "2cf5850c",
   "metadata": {},
   "source": [
    "##### Element-wise product"
   ]
  },
  {
   "cell_type": "code",
   "execution_count": 14,
   "id": "49076c1d",
   "metadata": {},
   "outputs": [
    {
     "data": {
      "text/plain": [
       "tensor([[ 0.4426, -0.3114],\n",
       "        [ 0.0660, -0.5970],\n",
       "        [ 1.1249,  0.0150],\n",
       "        [ 0.1569,  0.7107],\n",
       "        [-0.0451, -0.0352]])"
      ]
     },
     "execution_count": 14,
     "metadata": {},
     "output_type": "execute_result"
    }
   ],
   "source": [
    "t3 = torch.multiply(t1, t2) \n",
    "t3"
   ]
  },
  {
   "cell_type": "markdown",
   "id": "329dd4db",
   "metadata": {},
   "source": [
    "##### Mean, sum, standard deviation"
   ]
  },
  {
   "cell_type": "code",
   "execution_count": 15,
   "id": "bc669434",
   "metadata": {},
   "outputs": [
    {
     "name": "stdout",
     "output_type": "stream",
     "text": [
      "tensor(0.0327)\n"
     ]
    }
   ],
   "source": [
    "print(torch.mean(t1)) # Mean of all elements"
   ]
  },
  {
   "cell_type": "code",
   "execution_count": 16,
   "id": "58a9952c",
   "metadata": {},
   "outputs": [
    {
     "name": "stdout",
     "output_type": "stream",
     "text": [
      "tensor([-0.1373,  0.2028])\n"
     ]
    }
   ],
   "source": [
    "print(torch.mean(t1, axis=0))  # Mean of each column (i.e. averaging over row dimension 0)"
   ]
  },
  {
   "cell_type": "code",
   "execution_count": 17,
   "id": "3baa53ae",
   "metadata": {},
   "outputs": [
    {
     "name": "stdout",
     "output_type": "stream",
     "text": [
      "tensor([ 0.0369,  0.1378, -0.1709,  0.1515,  0.0083])\n"
     ]
    }
   ],
   "source": [
    "print(torch.mean(t1, axis=1))   # Mean of each row (i.e. averaging over column dimension 1)"
   ]
  },
  {
   "cell_type": "code",
   "execution_count": 18,
   "id": "a1ce3226",
   "metadata": {},
   "outputs": [
    {
     "name": "stdout",
     "output_type": "stream",
     "text": [
      "tensor(0.3273)\n"
     ]
    }
   ],
   "source": [
    "print(torch.sum(t1)) # Sum of all elements"
   ]
  },
  {
   "cell_type": "code",
   "execution_count": 19,
   "id": "d1809dd2",
   "metadata": {},
   "outputs": [
    {
     "name": "stdout",
     "output_type": "stream",
     "text": [
      "tensor([-0.6867,  1.0140])\n"
     ]
    }
   ],
   "source": [
    "print(torch.sum(t1, axis=0)) # Sum of each column (i.e. sum over each row dimension 0)"
   ]
  },
  {
   "cell_type": "code",
   "execution_count": 20,
   "id": "a8c76bfa",
   "metadata": {},
   "outputs": [
    {
     "name": "stdout",
     "output_type": "stream",
     "text": [
      "tensor([ 0.0739,  0.2755, -0.3417,  0.3030,  0.0166])\n"
     ]
    }
   ],
   "source": [
    "print(torch.sum(t1, axis=1)) # Sum of each row (i.e. sum over each column dimension 1)"
   ]
  },
  {
   "cell_type": "code",
   "execution_count": 21,
   "id": "bbf1c252",
   "metadata": {},
   "outputs": [
    {
     "name": "stdout",
     "output_type": "stream",
     "text": [
      "tensor([0.5378, 0.4591])\n"
     ]
    }
   ],
   "source": [
    "print(torch.std(t1, axis=0))"
   ]
  },
  {
   "cell_type": "markdown",
   "id": "a993804c",
   "metadata": {},
   "source": [
    "##### Matrix multiplication and norm"
   ]
  },
  {
   "cell_type": "code",
   "execution_count": 22,
   "id": "79bb4dc1",
   "metadata": {},
   "outputs": [
    {
     "name": "stdout",
     "output_type": "stream",
     "text": [
      "tensor([[ 0.5153, -0.4414],\n",
      "        [-0.1939,  0.4694],\n",
      "        [-0.9414,  0.5997],\n",
      "        [-0.2057,  0.5087],\n",
      "        [ 0.1390, -0.1224]])\n",
      "torch.Size([5, 2])\n"
     ]
    }
   ],
   "source": [
    "print(t1)\n",
    "print(t1.shape)"
   ]
  },
  {
   "cell_type": "code",
   "execution_count": 23,
   "id": "fc6b5279",
   "metadata": {},
   "outputs": [
    {
     "name": "stdout",
     "output_type": "stream",
     "text": [
      "tensor([[ 0.8590,  0.7056],\n",
      "        [-0.3406, -1.2720],\n",
      "        [-1.1948,  0.0250],\n",
      "        [-0.7627,  1.3969],\n",
      "        [-0.3245,  0.2879]])\n",
      "torch.Size([5, 2])\n"
     ]
    }
   ],
   "source": [
    "print(t2)\n",
    "print(t2.shape)"
   ]
  },
  {
   "cell_type": "markdown",
   "id": "7a555471",
   "metadata": {},
   "source": [
    "Can calculate product of matrices: $t_1 \\times t_2^T$, which will be a $5 \\times 5$ matrix:"
   ]
  },
  {
   "cell_type": "code",
   "execution_count": 24,
   "id": "54d4b00c",
   "metadata": {},
   "outputs": [
    {
     "name": "stdout",
     "output_type": "stream",
     "text": [
      "tensor([[ 0.1312,  0.3860, -0.6267, -1.0096, -0.2943],\n",
      "        [ 0.1647, -0.5310,  0.2434,  0.8035,  0.1980],\n",
      "        [-0.3855, -0.4422,  1.1399,  1.5558,  0.4781],\n",
      "        [ 0.1822, -0.5771,  0.2585,  0.8676,  0.2132],\n",
      "        [ 0.0330,  0.1084, -0.1692, -0.2771, -0.0804]])\n"
     ]
    }
   ],
   "source": [
    "t3 = torch.matmul(t1, torch.transpose(t2, 0, 1))\n",
    "print(t3)"
   ]
  },
  {
   "cell_type": "markdown",
   "id": "1c6d55bd",
   "metadata": {},
   "source": [
    "Can calculate product of matrices: $t_1^T \\times t_2$, which will be a $2 \\times 2$ matrix:"
   ]
  },
  {
   "cell_type": "code",
   "execution_count": 25,
   "id": "0ca78561",
   "metadata": {},
   "outputs": [
    {
     "name": "stdout",
     "output_type": "stream",
     "text": [
      "tensor([[ 1.7453,  0.3392],\n",
      "        [-1.6038, -0.2180]])\n"
     ]
    }
   ],
   "source": [
    "t4 = torch.matmul(torch.transpose(t1, 0, 1), t2)\n",
    "print(t4)"
   ]
  },
  {
   "cell_type": "code",
   "execution_count": 26,
   "id": "bf845640",
   "metadata": {},
   "outputs": [
    {
     "name": "stdout",
     "output_type": "stream",
     "text": [
      "tensor([0.6785, 0.5078, 1.1162, 0.5488, 0.1853])\n"
     ]
    }
   ],
   "source": [
    "norm_t1 = torch.linalg.norm(t1, ord=2, dim=1)   # t1 is (5, 2) tensor. To calc norm of each row, sum of squares of elements in column direction (dim=1).\n",
    "print(norm_t1)"
   ]
  },
  {
   "cell_type": "code",
   "execution_count": 27,
   "id": "b51ad01c",
   "metadata": {},
   "outputs": [
    {
     "data": {
      "text/plain": [
       "array([0.67846215, 0.5078282 , 1.1162277 , 0.5487652 , 0.18525197],\n",
       "      dtype=float32)"
      ]
     },
     "execution_count": 27,
     "metadata": {},
     "output_type": "execute_result"
    }
   ],
   "source": [
    "np.sqrt(np.sum(np.square(t1.numpy()), axis=1)) # Check that normalized tensor above matches numpy result"
   ]
  },
  {
   "cell_type": "markdown",
   "id": "23c002e5",
   "metadata": {},
   "source": [
    "##### Split, stack, concatenate tensors"
   ]
  },
  {
   "cell_type": "code",
   "execution_count": 28,
   "id": "ac0edfdb",
   "metadata": {},
   "outputs": [
    {
     "name": "stdout",
     "output_type": "stream",
     "text": [
      "tensor([0.6397, 0.9743, 0.8300, 0.0444, 0.0246, 0.2588])\n",
      "(tensor([0.6397, 0.9743]), tensor([0.8300, 0.0444]), tensor([0.0246, 0.2588]))\n"
     ]
    }
   ],
   "source": [
    "t = torch.rand(6)    \n",
    "print(t)\n",
    "t_splits = torch.chunk(t, 3)   # Split tensor t (with 6 elements) into m chunks with torch.chunk(t, m)\n",
    "print(t_splits)"
   ]
  },
  {
   "cell_type": "code",
   "execution_count": 29,
   "id": "3bf467fe",
   "metadata": {},
   "outputs": [
    {
     "name": "stdout",
     "output_type": "stream",
     "text": [
      "tensor([0.9391, 0.4167, 0.7140, 0.2676, 0.9906])\n",
      "(tensor([0.9391, 0.4167, 0.7140]), tensor([0.2676, 0.9906]))\n"
     ]
    }
   ],
   "source": [
    "t = torch.rand(5)\n",
    "print(t)\n",
    "t_splits = torch.split(t, split_size_or_sections=[3, 2])   # Can instead specify size of each split with torch.split()\n",
    "print(t_splits)"
   ]
  },
  {
   "cell_type": "code",
   "execution_count": 30,
   "id": "014e344f",
   "metadata": {},
   "outputs": [
    {
     "name": "stdout",
     "output_type": "stream",
     "text": [
      "tensor([1., 1., 1.])\n",
      "tensor([0., 0.])\n"
     ]
    }
   ],
   "source": [
    "A = torch.ones(3)\n",
    "print(A)\n",
    "\n",
    "B = torch.zeros(2)\n",
    "print(B)"
   ]
  },
  {
   "cell_type": "code",
   "execution_count": 31,
   "id": "90843a9b",
   "metadata": {},
   "outputs": [
    {
     "name": "stdout",
     "output_type": "stream",
     "text": [
      "tensor([1., 1., 1., 0., 0.])\n"
     ]
    }
   ],
   "source": [
    "C = torch.cat([A, B], axis=0)  # Concatenate row-wise\n",
    "print(C)"
   ]
  },
  {
   "cell_type": "code",
   "execution_count": 32,
   "id": "7e03df26",
   "metadata": {},
   "outputs": [
    {
     "name": "stdout",
     "output_type": "stream",
     "text": [
      "tensor([1., 1., 1.])\n",
      "tensor([0., 0., 0.])\n"
     ]
    }
   ],
   "source": [
    "D = torch.ones(3)\n",
    "print(D)\n",
    "\n",
    "E = torch.zeros(3)\n",
    "print(E)"
   ]
  },
  {
   "cell_type": "code",
   "execution_count": 33,
   "id": "839f6be8",
   "metadata": {},
   "outputs": [
    {
     "name": "stdout",
     "output_type": "stream",
     "text": [
      "tensor([[1., 0.],\n",
      "        [1., 0.],\n",
      "        [1., 0.]])\n"
     ]
    }
   ],
   "source": [
    "F = torch.stack([D, E], axis=1)    # Concatenate tensors (D and E, both 1-dimensional) along a new dimension (column direction, dim=1)\n",
    "print(F)                           # Now form a 2-dimensional tensor F"
   ]
  },
  {
   "cell_type": "code",
   "execution_count": null,
   "id": "c0b47e42",
   "metadata": {},
   "outputs": [],
   "source": []
  }
 ],
 "metadata": {
  "kernelspec": {
   "display_name": "Python 3 (ipykernel)",
   "language": "python",
   "name": "python3"
  },
  "language_info": {
   "codemirror_mode": {
    "name": "ipython",
    "version": 3
   },
   "file_extension": ".py",
   "mimetype": "text/x-python",
   "name": "python",
   "nbconvert_exporter": "python",
   "pygments_lexer": "ipython3",
   "version": "3.10.11"
  }
 },
 "nbformat": 4,
 "nbformat_minor": 5
}
