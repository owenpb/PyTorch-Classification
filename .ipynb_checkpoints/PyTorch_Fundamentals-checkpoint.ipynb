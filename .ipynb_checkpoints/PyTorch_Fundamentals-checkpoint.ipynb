{
 "cells": [
  {
   "cell_type": "markdown",
   "id": "a680f10f",
   "metadata": {},
   "source": [
    "# PyTorch Fundamentals"
   ]
  },
  {
   "cell_type": "markdown",
   "id": "f74aade7",
   "metadata": {},
   "source": [
    "In this notebook, I review basic tensor operations in PyTorch and building neural networks, mostly following Chapters 12 and 13 of <i>''Machine Learning with PyTorch and Scikit-Learn''</i> by Sebastian Raschka et al. This notebook covers:\n",
    "\n",
    "1. Creating tensors in PyTorch\n",
    "2. Manipulating data type and shape of tensor\n",
    "3. Operations on tensors\n",
    "4. Building input pipelines\n",
    "5. Simple linear regression model in PyTorch\n",
    "6. XOR classification with nn.Sequential\n",
    "7. XOR classification with nn.Module"
   ]
  },
  {
   "cell_type": "code",
   "execution_count": 1,
   "id": "261e9f3b",
   "metadata": {},
   "outputs": [],
   "source": [
    "import torch\n",
    "import torchvision\n",
    "import numpy as np\n",
    "import matplotlib.pyplot as plt"
   ]
  },
  {
   "cell_type": "markdown",
   "id": "abd46cdd",
   "metadata": {},
   "source": [
    "## 1. Creating tensors in PyTorch\n",
    "\n",
    "Creating a tensor from a list or numpy array:"
   ]
  },
  {
   "cell_type": "code",
   "execution_count": 2,
   "id": "4c786fe5",
   "metadata": {},
   "outputs": [],
   "source": [
    "a = [1, 2, 3]\n",
    "b = np.array([4, 5, 6], dtype=np.int32)\n",
    "\n",
    "t_a = torch.tensor(a)      # tensor from list\n",
    "t_b = torch.from_numpy(b)  # tensor from numpy array\n",
    "\n",
    "t_ones = torch.ones(2, 3)       # tensor of ones\n",
    "rand_tensor = torch.rand(2, 3)  # tensor of random values"
   ]
  },
  {
   "cell_type": "code",
   "execution_count": 3,
   "id": "a1e71266",
   "metadata": {},
   "outputs": [
    {
     "name": "stdout",
     "output_type": "stream",
     "text": [
      "tensor([1, 2, 3])\n",
      "tensor([4, 5, 6], dtype=torch.int32)\n",
      "tensor([[1., 1., 1.],\n",
      "        [1., 1., 1.]])\n",
      "tensor([[0.7794, 0.1164, 0.3139],\n",
      "        [0.3971, 0.2793, 0.7157]])\n"
     ]
    }
   ],
   "source": [
    "print(t_a)\n",
    "print(t_b)\n",
    "print(t_ones)\n",
    "print(rand_tensor)"
   ]
  },
  {
   "cell_type": "code",
   "execution_count": null,
   "id": "80b745bb",
   "metadata": {},
   "outputs": [],
   "source": []
  },
  {
   "cell_type": "markdown",
   "id": "ed1adaff",
   "metadata": {},
   "source": [
    "## 2. Manipulating data type and shape of tensor"
   ]
  },
  {
   "cell_type": "markdown",
   "id": "42933fcd",
   "metadata": {},
   "source": [
    "##### Change data type:"
   ]
  },
  {
   "cell_type": "code",
   "execution_count": 4,
   "id": "aecc8b72",
   "metadata": {},
   "outputs": [
    {
     "name": "stdout",
     "output_type": "stream",
     "text": [
      "torch.int64\n"
     ]
    }
   ],
   "source": [
    "t_a_new = t_a.to(torch.int64)\n",
    "print(t_a_new.dtype)"
   ]
  },
  {
   "cell_type": "markdown",
   "id": "175645c5",
   "metadata": {},
   "source": [
    "##### Transposing a tensor:"
   ]
  },
  {
   "cell_type": "code",
   "execution_count": 5,
   "id": "680a7892",
   "metadata": {},
   "outputs": [
    {
     "name": "stdout",
     "output_type": "stream",
     "text": [
      "tensor([[0.1257, 0.9263, 0.1381, 0.8227, 0.7799],\n",
      "        [0.8724, 0.3193, 0.8371, 0.5845, 0.2296],\n",
      "        [0.1639, 0.9779, 0.6398, 0.3206, 0.7073]])\n",
      "torch.Size([3, 5])\n"
     ]
    }
   ],
   "source": [
    "t = torch.rand(3, 5)\n",
    "print(t)\n",
    "print(t.shape)"
   ]
  },
  {
   "cell_type": "code",
   "execution_count": 6,
   "id": "aa52fa12",
   "metadata": {},
   "outputs": [
    {
     "name": "stdout",
     "output_type": "stream",
     "text": [
      "tensor([[0.1257, 0.8724, 0.1639],\n",
      "        [0.9263, 0.3193, 0.9779],\n",
      "        [0.1381, 0.8371, 0.6398],\n",
      "        [0.8227, 0.5845, 0.3206],\n",
      "        [0.7799, 0.2296, 0.7073]])\n",
      "torch.Size([5, 3])\n"
     ]
    }
   ],
   "source": [
    "t_tr = torch.transpose(t, 0, 1)  # i.e. swapping dimensions 0 and 1\n",
    "print(t_tr)\n",
    "print(t_tr.shape)"
   ]
  },
  {
   "cell_type": "markdown",
   "id": "47b90384",
   "metadata": {},
   "source": [
    "##### Reshaping a tensor:"
   ]
  },
  {
   "cell_type": "code",
   "execution_count": 7,
   "id": "af2e8456",
   "metadata": {},
   "outputs": [
    {
     "name": "stdout",
     "output_type": "stream",
     "text": [
      "tensor([0., 0., 0., 0., 0., 0., 0., 0., 0., 0., 0., 0., 0., 0., 0., 0., 0., 0., 0., 0., 0., 0., 0., 0.,\n",
      "        0., 0., 0., 0., 0., 0.])\n"
     ]
    }
   ],
   "source": [
    "t = torch.zeros(30)\n",
    "print(t)"
   ]
  },
  {
   "cell_type": "code",
   "execution_count": 8,
   "id": "fbde746a",
   "metadata": {},
   "outputs": [
    {
     "name": "stdout",
     "output_type": "stream",
     "text": [
      "tensor([[0., 0., 0., 0., 0., 0.],\n",
      "        [0., 0., 0., 0., 0., 0.],\n",
      "        [0., 0., 0., 0., 0., 0.],\n",
      "        [0., 0., 0., 0., 0., 0.],\n",
      "        [0., 0., 0., 0., 0., 0.]])\n",
      "torch.Size([5, 6])\n"
     ]
    }
   ],
   "source": [
    "t_reshape = t.reshape(5, 6)\n",
    "print(t_reshape)\n",
    "print(t_reshape.shape)"
   ]
  },
  {
   "cell_type": "markdown",
   "id": "a59f29eb",
   "metadata": {},
   "source": [
    "##### Removing unnecessary dimensions:"
   ]
  },
  {
   "cell_type": "code",
   "execution_count": 9,
   "id": "27e9bb55",
   "metadata": {},
   "outputs": [
    {
     "name": "stdout",
     "output_type": "stream",
     "text": [
      "tensor([[[[[0.],\n",
      "           [0.],\n",
      "           [0.],\n",
      "           [0.],\n",
      "           [0.]]],\n",
      "\n",
      "\n",
      "         [[[0.],\n",
      "           [0.],\n",
      "           [0.],\n",
      "           [0.],\n",
      "           [0.]]]]])\n",
      "torch.Size([1, 2, 1, 5, 1])\n"
     ]
    }
   ],
   "source": [
    "t = torch.zeros(1, 2, 1, 5, 1)\n",
    "print(t)\n",
    "print(t.shape)"
   ]
  },
  {
   "cell_type": "code",
   "execution_count": 10,
   "id": "99685a4d",
   "metadata": {},
   "outputs": [
    {
     "name": "stdout",
     "output_type": "stream",
     "text": [
      "tensor([[0., 0., 0., 0., 0.],\n",
      "        [0., 0., 0., 0., 0.]])\n",
      "torch.Size([2, 5])\n"
     ]
    }
   ],
   "source": [
    "t_sqz = torch.squeeze(t)\n",
    "print(t_sqz)\n",
    "print(t_sqz.shape)"
   ]
  },
  {
   "cell_type": "code",
   "execution_count": null,
   "id": "bef6a122",
   "metadata": {},
   "outputs": [],
   "source": []
  },
  {
   "cell_type": "markdown",
   "id": "dee0c1f0",
   "metadata": {},
   "source": [
    "## 3. Operations on tensors"
   ]
  },
  {
   "cell_type": "markdown",
   "id": "a84eea36",
   "metadata": {},
   "source": [
    "##### Instantiating random tensors"
   ]
  },
  {
   "cell_type": "code",
   "execution_count": 11,
   "id": "91beb001",
   "metadata": {},
   "outputs": [],
   "source": [
    "torch.manual_seed(1)\n",
    "t1 = 2 * torch.rand(5, 2) - 1\n",
    "t2 = torch.normal(mean=0, std=1, size=(5,2))  # Normally distributed random numbers"
   ]
  },
  {
   "cell_type": "code",
   "execution_count": 12,
   "id": "01ae4de8",
   "metadata": {},
   "outputs": [
    {
     "data": {
      "text/plain": [
       "tensor([[ 0.5153, -0.4414],\n",
       "        [-0.1939,  0.4694],\n",
       "        [-0.9414,  0.5997],\n",
       "        [-0.2057,  0.5087],\n",
       "        [ 0.1390, -0.1224]])"
      ]
     },
     "execution_count": 12,
     "metadata": {},
     "output_type": "execute_result"
    }
   ],
   "source": [
    "t1"
   ]
  },
  {
   "cell_type": "code",
   "execution_count": 13,
   "id": "acefee2b",
   "metadata": {},
   "outputs": [
    {
     "data": {
      "text/plain": [
       "tensor([[ 0.8590,  0.7056],\n",
       "        [-0.3406, -1.2720],\n",
       "        [-1.1948,  0.0250],\n",
       "        [-0.7627,  1.3969],\n",
       "        [-0.3245,  0.2879]])"
      ]
     },
     "execution_count": 13,
     "metadata": {},
     "output_type": "execute_result"
    }
   ],
   "source": [
    "t2"
   ]
  },
  {
   "cell_type": "markdown",
   "id": "6b8e6f35",
   "metadata": {},
   "source": [
    "##### Element-wise product"
   ]
  },
  {
   "cell_type": "code",
   "execution_count": 14,
   "id": "91111a4b",
   "metadata": {},
   "outputs": [
    {
     "data": {
      "text/plain": [
       "tensor([[ 0.4426, -0.3114],\n",
       "        [ 0.0660, -0.5970],\n",
       "        [ 1.1249,  0.0150],\n",
       "        [ 0.1569,  0.7107],\n",
       "        [-0.0451, -0.0352]])"
      ]
     },
     "execution_count": 14,
     "metadata": {},
     "output_type": "execute_result"
    }
   ],
   "source": [
    "t3 = torch.multiply(t1, t2) \n",
    "t3"
   ]
  },
  {
   "cell_type": "markdown",
   "id": "bd5f96b7",
   "metadata": {},
   "source": [
    "##### Mean, sum, standard deviation"
   ]
  },
  {
   "cell_type": "code",
   "execution_count": 15,
   "id": "1172b09c",
   "metadata": {},
   "outputs": [
    {
     "name": "stdout",
     "output_type": "stream",
     "text": [
      "tensor(0.0327)\n"
     ]
    }
   ],
   "source": [
    "print(torch.mean(t1)) # Mean of all elements"
   ]
  },
  {
   "cell_type": "code",
   "execution_count": 16,
   "id": "e637c197",
   "metadata": {},
   "outputs": [
    {
     "name": "stdout",
     "output_type": "stream",
     "text": [
      "tensor([-0.1373,  0.2028])\n"
     ]
    }
   ],
   "source": [
    "print(torch.mean(t1, axis=0))  # Mean of each column (i.e. averaging over row dimension 0)"
   ]
  },
  {
   "cell_type": "code",
   "execution_count": 17,
   "id": "c8a5426d",
   "metadata": {},
   "outputs": [
    {
     "name": "stdout",
     "output_type": "stream",
     "text": [
      "tensor([ 0.0369,  0.1378, -0.1709,  0.1515,  0.0083])\n"
     ]
    }
   ],
   "source": [
    "print(torch.mean(t1, axis=1))   # Mean of each row (i.e. averaging over column dimension 1)"
   ]
  },
  {
   "cell_type": "code",
   "execution_count": 18,
   "id": "aaa94e28",
   "metadata": {},
   "outputs": [
    {
     "name": "stdout",
     "output_type": "stream",
     "text": [
      "tensor(0.3273)\n"
     ]
    }
   ],
   "source": [
    "print(torch.sum(t1)) # Sum of all elements"
   ]
  },
  {
   "cell_type": "code",
   "execution_count": 19,
   "id": "0165816e",
   "metadata": {},
   "outputs": [
    {
     "name": "stdout",
     "output_type": "stream",
     "text": [
      "tensor([-0.6867,  1.0140])\n"
     ]
    }
   ],
   "source": [
    "print(torch.sum(t1, axis=0)) # Sum of each column (i.e. sum over each row dimension 0)"
   ]
  },
  {
   "cell_type": "code",
   "execution_count": 20,
   "id": "8ba22279",
   "metadata": {},
   "outputs": [
    {
     "name": "stdout",
     "output_type": "stream",
     "text": [
      "tensor([ 0.0739,  0.2755, -0.3417,  0.3030,  0.0166])\n"
     ]
    }
   ],
   "source": [
    "print(torch.sum(t1, axis=1)) # Sum of each row (i.e. sum over each column dimension 1)"
   ]
  },
  {
   "cell_type": "code",
   "execution_count": 21,
   "id": "6283b180",
   "metadata": {},
   "outputs": [
    {
     "name": "stdout",
     "output_type": "stream",
     "text": [
      "tensor([0.5378, 0.4591])\n"
     ]
    }
   ],
   "source": [
    "print(torch.std(t1, axis=0))"
   ]
  },
  {
   "cell_type": "markdown",
   "id": "f9be370a",
   "metadata": {},
   "source": [
    "##### Matrix multiplication and norm"
   ]
  },
  {
   "cell_type": "code",
   "execution_count": 22,
   "id": "4219ac20",
   "metadata": {},
   "outputs": [
    {
     "name": "stdout",
     "output_type": "stream",
     "text": [
      "tensor([[ 0.5153, -0.4414],\n",
      "        [-0.1939,  0.4694],\n",
      "        [-0.9414,  0.5997],\n",
      "        [-0.2057,  0.5087],\n",
      "        [ 0.1390, -0.1224]])\n",
      "torch.Size([5, 2])\n"
     ]
    }
   ],
   "source": [
    "print(t1)\n",
    "print(t1.shape)"
   ]
  },
  {
   "cell_type": "code",
   "execution_count": 23,
   "id": "d1e2793b",
   "metadata": {},
   "outputs": [
    {
     "name": "stdout",
     "output_type": "stream",
     "text": [
      "tensor([[ 0.8590,  0.7056],\n",
      "        [-0.3406, -1.2720],\n",
      "        [-1.1948,  0.0250],\n",
      "        [-0.7627,  1.3969],\n",
      "        [-0.3245,  0.2879]])\n",
      "torch.Size([5, 2])\n"
     ]
    }
   ],
   "source": [
    "print(t2)\n",
    "print(t2.shape)"
   ]
  },
  {
   "cell_type": "markdown",
   "id": "1564ced5",
   "metadata": {},
   "source": [
    "Can calculate product of matrices: $t_1 \\times t_2^T$, which will be a $5 \\times 5$ matrix:"
   ]
  },
  {
   "cell_type": "code",
   "execution_count": 24,
   "id": "c4596a64",
   "metadata": {},
   "outputs": [
    {
     "name": "stdout",
     "output_type": "stream",
     "text": [
      "tensor([[ 0.1312,  0.3860, -0.6267, -1.0096, -0.2943],\n",
      "        [ 0.1647, -0.5310,  0.2434,  0.8035,  0.1980],\n",
      "        [-0.3855, -0.4422,  1.1399,  1.5558,  0.4781],\n",
      "        [ 0.1822, -0.5771,  0.2585,  0.8676,  0.2132],\n",
      "        [ 0.0330,  0.1084, -0.1692, -0.2771, -0.0804]])\n"
     ]
    }
   ],
   "source": [
    "t3 = torch.matmul(t1, torch.transpose(t2, 0, 1))\n",
    "print(t3)"
   ]
  },
  {
   "cell_type": "markdown",
   "id": "7dec2071",
   "metadata": {},
   "source": [
    "Can calculate product of matrices: $t_1^T \\times t_2$, which will be a $2 \\times 2$ matrix:"
   ]
  },
  {
   "cell_type": "code",
   "execution_count": 25,
   "id": "a9e62c63",
   "metadata": {},
   "outputs": [
    {
     "name": "stdout",
     "output_type": "stream",
     "text": [
      "tensor([[ 1.7453,  0.3392],\n",
      "        [-1.6038, -0.2180]])\n"
     ]
    }
   ],
   "source": [
    "t4 = torch.matmul(torch.transpose(t1, 0, 1), t2)\n",
    "print(t4)"
   ]
  },
  {
   "cell_type": "code",
   "execution_count": 26,
   "id": "2b63f46a",
   "metadata": {},
   "outputs": [
    {
     "name": "stdout",
     "output_type": "stream",
     "text": [
      "tensor([0.6785, 0.5078, 1.1162, 0.5488, 0.1853])\n"
     ]
    }
   ],
   "source": [
    "norm_t1 = torch.linalg.norm(t1, ord=2, dim=1)   # t1 is (5, 2) tensor. To calc norm of each row, sum of squares of elements in column direction (dim=1).\n",
    "print(norm_t1)"
   ]
  },
  {
   "cell_type": "code",
   "execution_count": 27,
   "id": "565fdd7d",
   "metadata": {},
   "outputs": [
    {
     "data": {
      "text/plain": [
       "array([0.67846215, 0.5078282 , 1.1162277 , 0.5487652 , 0.18525197],\n",
       "      dtype=float32)"
      ]
     },
     "execution_count": 27,
     "metadata": {},
     "output_type": "execute_result"
    }
   ],
   "source": [
    "np.sqrt(np.sum(np.square(t1.numpy()), axis=1)) # Check that normalized tensor above matches numpy result"
   ]
  },
  {
   "cell_type": "markdown",
   "id": "d55f48d9",
   "metadata": {},
   "source": [
    "##### Split, stack, concatenate tensors"
   ]
  },
  {
   "cell_type": "code",
   "execution_count": 28,
   "id": "18975367",
   "metadata": {},
   "outputs": [
    {
     "name": "stdout",
     "output_type": "stream",
     "text": [
      "tensor([0.6397, 0.9743, 0.8300, 0.0444, 0.0246, 0.2588])\n",
      "(tensor([0.6397, 0.9743]), tensor([0.8300, 0.0444]), tensor([0.0246, 0.2588]))\n"
     ]
    }
   ],
   "source": [
    "t = torch.rand(6)    \n",
    "print(t)\n",
    "t_splits = torch.chunk(t, 3)   # Split tensor t (with 6 elements) into m chunks with torch.chunk(t, m)\n",
    "print(t_splits)"
   ]
  },
  {
   "cell_type": "code",
   "execution_count": 29,
   "id": "1faa9353",
   "metadata": {},
   "outputs": [
    {
     "name": "stdout",
     "output_type": "stream",
     "text": [
      "tensor([0.9391, 0.4167, 0.7140, 0.2676, 0.9906])\n",
      "(tensor([0.9391, 0.4167, 0.7140]), tensor([0.2676, 0.9906]))\n"
     ]
    }
   ],
   "source": [
    "t = torch.rand(5)\n",
    "print(t)\n",
    "t_splits = torch.split(t, split_size_or_sections=[3, 2])   # Can instead specify size of each split with torch.split()\n",
    "print(t_splits)"
   ]
  },
  {
   "cell_type": "code",
   "execution_count": 30,
   "id": "ee3b9cf3",
   "metadata": {},
   "outputs": [
    {
     "name": "stdout",
     "output_type": "stream",
     "text": [
      "tensor([1., 1., 1.])\n",
      "tensor([0., 0.])\n"
     ]
    }
   ],
   "source": [
    "A = torch.ones(3)\n",
    "print(A)\n",
    "\n",
    "B = torch.zeros(2)\n",
    "print(B)"
   ]
  },
  {
   "cell_type": "code",
   "execution_count": 31,
   "id": "f921e15f",
   "metadata": {},
   "outputs": [
    {
     "name": "stdout",
     "output_type": "stream",
     "text": [
      "tensor([1., 1., 1., 0., 0.])\n"
     ]
    }
   ],
   "source": [
    "C = torch.cat([A, B], axis=0)  # Concatenate row-wise\n",
    "print(C)"
   ]
  },
  {
   "cell_type": "code",
   "execution_count": 32,
   "id": "b9fbf6e1",
   "metadata": {},
   "outputs": [
    {
     "name": "stdout",
     "output_type": "stream",
     "text": [
      "tensor([1., 1., 1.])\n",
      "tensor([0., 0., 0.])\n"
     ]
    }
   ],
   "source": [
    "D = torch.ones(3)\n",
    "print(D)\n",
    "\n",
    "E = torch.zeros(3)\n",
    "print(E)"
   ]
  },
  {
   "cell_type": "code",
   "execution_count": 33,
   "id": "386330f5",
   "metadata": {},
   "outputs": [
    {
     "name": "stdout",
     "output_type": "stream",
     "text": [
      "tensor([[1., 0.],\n",
      "        [1., 0.],\n",
      "        [1., 0.]])\n"
     ]
    }
   ],
   "source": [
    "F = torch.stack([D, E], axis=1)    # Concatenate tensors (D and E, both 1-dimensional) along a new dimension (column direction, dim=1)\n",
    "print(F)                           # Now form a 2-dimensional tensor F"
   ]
  },
  {
   "cell_type": "code",
   "execution_count": null,
   "id": "540f4de1",
   "metadata": {},
   "outputs": [],
   "source": []
  },
  {
   "cell_type": "markdown",
   "id": "43375e18",
   "metadata": {},
   "source": [
    "## 4. Building input pipelines"
   ]
  },
  {
   "cell_type": "markdown",
   "id": "f672c31f",
   "metadata": {},
   "source": [
    "##### Creating a DataLoader from tensor"
   ]
  },
  {
   "cell_type": "code",
   "execution_count": 34,
   "id": "2eea3429",
   "metadata": {},
   "outputs": [],
   "source": [
    "from torch.utils.data import DataLoader"
   ]
  },
  {
   "cell_type": "code",
   "execution_count": 35,
   "id": "4f0fe61f",
   "metadata": {},
   "outputs": [
    {
     "name": "stdout",
     "output_type": "stream",
     "text": [
      "tensor([0., 1., 2., 3., 4., 5.])\n"
     ]
    }
   ],
   "source": [
    "t = torch.arange(6, dtype=torch.float32)\n",
    "print(t)"
   ]
  },
  {
   "cell_type": "markdown",
   "id": "c798b273",
   "metadata": {},
   "source": [
    "Our data is in the form of a tensor t. We can now create a dataset loader, which we use to iterate through each element of the dataset.\n",
    "\n",
    "Below, data_loader is an object of the DataLoader class."
   ]
  },
  {
   "cell_type": "code",
   "execution_count": 36,
   "id": "4345117a",
   "metadata": {},
   "outputs": [
    {
     "data": {
      "text/plain": [
       "<torch.utils.data.dataloader.DataLoader at 0x12559f7d3c0>"
      ]
     },
     "execution_count": 36,
     "metadata": {},
     "output_type": "execute_result"
    }
   ],
   "source": [
    "data_loader = DataLoader(t)\n",
    "data_loader"
   ]
  },
  {
   "cell_type": "code",
   "execution_count": 37,
   "id": "5977fefe",
   "metadata": {},
   "outputs": [
    {
     "name": "stdout",
     "output_type": "stream",
     "text": [
      "tensor([0.])\n",
      "tensor([1.])\n",
      "tensor([2.])\n",
      "tensor([3.])\n",
      "tensor([4.])\n",
      "tensor([5.])\n"
     ]
    }
   ],
   "source": [
    "for item in data_loader:\n",
    "    print(item)"
   ]
  },
  {
   "cell_type": "markdown",
   "id": "cc849c53",
   "metadata": {},
   "source": [
    "We can specify the batch_size argument, which will give us batches of a desired size as we iterate:"
   ]
  },
  {
   "cell_type": "code",
   "execution_count": 38,
   "id": "cd945297",
   "metadata": {},
   "outputs": [
    {
     "name": "stdout",
     "output_type": "stream",
     "text": [
      "tensor([0., 1., 2.])\n",
      "tensor([3., 4., 5.])\n"
     ]
    }
   ],
   "source": [
    "data_loader = DataLoader(t, batch_size=3, drop_last=False)\n",
    "\n",
    "for item in data_loader:\n",
    "    print(item)"
   ]
  },
  {
   "cell_type": "markdown",
   "id": "ffd839a2",
   "metadata": {},
   "source": [
    "##### Combining two tensors into joint dataset"
   ]
  },
  {
   "cell_type": "code",
   "execution_count": 39,
   "id": "21d08577",
   "metadata": {},
   "outputs": [
    {
     "name": "stdout",
     "output_type": "stream",
     "text": [
      "tensor([[0.7570, 0.2346, 0.6471],\n",
      "        [0.3556, 0.4452, 0.0193],\n",
      "        [0.2616, 0.7713, 0.3785],\n",
      "        [0.9980, 0.9008, 0.4766]])\n",
      "tensor([0, 1, 2, 3])\n"
     ]
    }
   ],
   "source": [
    "t_x = torch.rand([4, 3], dtype=torch.float32)    # Input data: 4 samples, each with 3 features. X is (4, 3) tensor.\n",
    "t_y = torch.arange(4)   # Labels, i.e. Y (has 4 elements only)\n",
    "\n",
    "print(t_x)\n",
    "print(t_y)"
   ]
  },
  {
   "cell_type": "code",
   "execution_count": 40,
   "id": "8cb78a60",
   "metadata": {},
   "outputs": [],
   "source": [
    "from torch.utils.data import Dataset"
   ]
  },
  {
   "cell_type": "code",
   "execution_count": 41,
   "id": "40675fa1",
   "metadata": {},
   "outputs": [],
   "source": [
    "class JointDataset(Dataset):\n",
    "    def __init__(self, x, y):\n",
    "        self.x = x\n",
    "        self.y = y\n",
    "        \n",
    "    def __len__(self):\n",
    "        return len(self.x)\n",
    "    \n",
    "    def __getitem__(self, idx):\n",
    "        return self.x[idx], self.y[idx]"
   ]
  },
  {
   "cell_type": "code",
   "execution_count": 42,
   "id": "e2fc4f9a",
   "metadata": {},
   "outputs": [],
   "source": [
    "joint_dataset = JointDataset(t_x, t_y)"
   ]
  },
  {
   "cell_type": "code",
   "execution_count": 43,
   "id": "0c17bd66",
   "metadata": {},
   "outputs": [
    {
     "name": "stdout",
     "output_type": "stream",
     "text": [
      "(tensor([0.7570, 0.2346, 0.6471]), tensor(0))\n",
      "(tensor([0.3556, 0.4452, 0.0193]), tensor(1))\n",
      "(tensor([0.2616, 0.7713, 0.3785]), tensor(2))\n",
      "(tensor([0.9980, 0.9008, 0.4766]), tensor(3))\n"
     ]
    }
   ],
   "source": [
    "for sample in joint_dataset:\n",
    "    print(sample)"
   ]
  },
  {
   "cell_type": "markdown",
   "id": "ce7c1e87",
   "metadata": {},
   "source": [
    "We can also simply use the TensorDataset class to create our joint dataset:"
   ]
  },
  {
   "cell_type": "code",
   "execution_count": 44,
   "id": "8155f98e",
   "metadata": {},
   "outputs": [
    {
     "name": "stdout",
     "output_type": "stream",
     "text": [
      "(tensor([0.7570, 0.2346, 0.6471]), tensor(0))\n",
      "(tensor([0.3556, 0.4452, 0.0193]), tensor(1))\n",
      "(tensor([0.2616, 0.7713, 0.3785]), tensor(2))\n",
      "(tensor([0.9980, 0.9008, 0.4766]), tensor(3))\n"
     ]
    }
   ],
   "source": [
    "from torch.utils.data import TensorDataset\n",
    "\n",
    "joint_dataset = TensorDataset(t_x, t_y)   \n",
    "\n",
    "for sample in joint_dataset:\n",
    "    print(sample)"
   ]
  },
  {
   "cell_type": "markdown",
   "id": "fca5b7d3",
   "metadata": {},
   "source": [
    "##### Shuffle, batch, and repeat"
   ]
  },
  {
   "cell_type": "code",
   "execution_count": 45,
   "id": "afa4d60c",
   "metadata": {},
   "outputs": [],
   "source": [
    "data_loader = DataLoader(dataset=joint_dataset, batch_size=2, shuffle=True)   # Create data loader from our dataset"
   ]
  },
  {
   "cell_type": "code",
   "execution_count": 46,
   "id": "ddba2bdf",
   "metadata": {},
   "outputs": [
    {
     "name": "stdout",
     "output_type": "stream",
     "text": [
      "[tensor([[0.9980, 0.9008, 0.4766],\n",
      "        [0.3556, 0.4452, 0.0193]]), tensor([3, 1])]\n",
      "[tensor([[0.2616, 0.7713, 0.3785],\n",
      "        [0.7570, 0.2346, 0.6471]]), tensor([2, 0])]\n"
     ]
    }
   ],
   "source": [
    "for batch in data_loader:   # Batches (of size 2) returned in shuffled order, keeping correspondence between x and y.\n",
    "    print(batch)"
   ]
  },
  {
   "cell_type": "markdown",
   "id": "ba1945d8",
   "metadata": {},
   "source": [
    "We can pass through the full dataset in batches, for multiple epochs:"
   ]
  },
  {
   "cell_type": "code",
   "execution_count": 47,
   "id": "b185b3d7",
   "metadata": {},
   "outputs": [
    {
     "name": "stdout",
     "output_type": "stream",
     "text": [
      "epoch 1: \n",
      "\n",
      "    batch 1:  x: tensor([[0.9980, 0.9008, 0.4766],\n",
      "        [0.2616, 0.7713, 0.3785]]) \n",
      "     y: tensor([3, 2]) \n",
      "\n",
      "    batch 2:  x: tensor([[0.7570, 0.2346, 0.6471],\n",
      "        [0.3556, 0.4452, 0.0193]]) \n",
      "     y: tensor([0, 1]) \n",
      "\n",
      "\n",
      "\n",
      "epoch 2: \n",
      "\n",
      "    batch 1:  x: tensor([[0.2616, 0.7713, 0.3785],\n",
      "        [0.9980, 0.9008, 0.4766]]) \n",
      "     y: tensor([2, 3]) \n",
      "\n",
      "    batch 2:  x: tensor([[0.7570, 0.2346, 0.6471],\n",
      "        [0.3556, 0.4452, 0.0193]]) \n",
      "     y: tensor([0, 1]) \n",
      "\n",
      "\n",
      "\n"
     ]
    }
   ],
   "source": [
    "for epoch in range(2):\n",
    "    \n",
    "    print(f'epoch {epoch+1}: \\n')\n",
    "    \n",
    "    for i, batch in enumerate(data_loader, 1):\n",
    "        print(f'    batch {i}:  x: {batch[0]} \\n     y: {batch[1]} \\n')\n",
    "        \n",
    "    print('\\n')"
   ]
  },
  {
   "cell_type": "markdown",
   "id": "3f2ccacb",
   "metadata": {},
   "source": [
    "##### Fetching datasets from torchvision.datasets"
   ]
  },
  {
   "cell_type": "code",
   "execution_count": 48,
   "id": "43b5d724",
   "metadata": {},
   "outputs": [
    {
     "name": "stdout",
     "output_type": "stream",
     "text": [
      "Downloading http://yann.lecun.com/exdb/mnist/train-images-idx3-ubyte.gz\n",
      "Downloading http://yann.lecun.com/exdb/mnist/train-images-idx3-ubyte.gz to ./MNIST\\raw\\train-images-idx3-ubyte.gz\n"
     ]
    },
    {
     "name": "stderr",
     "output_type": "stream",
     "text": [
      "100.0%\n"
     ]
    },
    {
     "name": "stdout",
     "output_type": "stream",
     "text": [
      "Extracting ./MNIST\\raw\\train-images-idx3-ubyte.gz to ./MNIST\\raw\n"
     ]
    },
    {
     "name": "stderr",
     "output_type": "stream",
     "text": [
      "\r",
      "100.0%"
     ]
    },
    {
     "name": "stdout",
     "output_type": "stream",
     "text": [
      "\n",
      "Downloading http://yann.lecun.com/exdb/mnist/train-labels-idx1-ubyte.gz\n",
      "Downloading http://yann.lecun.com/exdb/mnist/train-labels-idx1-ubyte.gz to ./MNIST\\raw\\train-labels-idx1-ubyte.gz\n",
      "Extracting ./MNIST\\raw\\train-labels-idx1-ubyte.gz to ./MNIST\\raw\n",
      "\n",
      "Downloading http://yann.lecun.com/exdb/mnist/t10k-images-idx3-ubyte.gz\n",
      "Downloading http://yann.lecun.com/exdb/mnist/t10k-images-idx3-ubyte.gz to ./MNIST\\raw\\t10k-images-idx3-ubyte.gz\n"
     ]
    },
    {
     "name": "stderr",
     "output_type": "stream",
     "text": [
      "\n",
      "100.0%\n",
      "100.0%"
     ]
    },
    {
     "name": "stdout",
     "output_type": "stream",
     "text": [
      "Extracting ./MNIST\\raw\\t10k-images-idx3-ubyte.gz to ./MNIST\\raw\n",
      "\n",
      "Downloading http://yann.lecun.com/exdb/mnist/t10k-labels-idx1-ubyte.gz\n",
      "Downloading http://yann.lecun.com/exdb/mnist/t10k-labels-idx1-ubyte.gz to ./MNIST\\raw\\t10k-labels-idx1-ubyte.gz\n",
      "Extracting ./MNIST\\raw\\t10k-labels-idx1-ubyte.gz to ./MNIST\\raw\n",
      "\n"
     ]
    },
    {
     "name": "stderr",
     "output_type": "stream",
     "text": [
      "\n"
     ]
    }
   ],
   "source": [
    "image_path = './'\n",
    "mnist_dataset = torchvision.datasets.MNIST(image_path, 'train', download=True)"
   ]
  },
  {
   "cell_type": "code",
   "execution_count": 49,
   "id": "e3380965",
   "metadata": {},
   "outputs": [
    {
     "name": "stdout",
     "output_type": "stream",
     "text": [
      "(<PIL.Image.Image image mode=L size=28x28 at 0x1254F42F130>, 5)\n"
     ]
    }
   ],
   "source": [
    "example = next(iter(mnist_dataset))\n",
    "print(example)"
   ]
  },
  {
   "cell_type": "code",
   "execution_count": 50,
   "id": "3cd299ed",
   "metadata": {},
   "outputs": [
    {
     "data": {
      "image/png": "[encoded data removed]",
      "text/plain": [
       "<Figure size 400x400 with 1 Axes>"
      ]
     },
     "metadata": {},
     "output_type": "display_data"
    }
   ],
   "source": [
    "plt.figure(figsize=(4,4))\n",
    "plt.imshow(example[0], cmap='binary')\n",
    "plt.title(f'Label: {example[1]}')\n",
    "plt.show()"
   ]
  },
  {
   "cell_type": "code",
   "execution_count": null,
   "id": "eb760df8",
   "metadata": {},
   "outputs": [],
   "source": []
  },
  {
   "cell_type": "markdown",
   "id": "e2247dc3",
   "metadata": {},
   "source": [
    "## 5. Simple linear regression model with PyTorch"
   ]
  },
  {
   "cell_type": "markdown",
   "id": "125ad2d9",
   "metadata": {},
   "source": [
    "##### X and y data:"
   ]
  },
  {
   "cell_type": "code",
   "execution_count": 51,
   "id": "e6c5239e",
   "metadata": {},
   "outputs": [
    {
     "data": {
      "image/png": "[encoded data removed]",
      "text/plain": [
       "<Figure size 500x300 with 1 Axes>"
      ]
     },
     "metadata": {},
     "output_type": "display_data"
    }
   ],
   "source": [
    "X_train = np.arange(10, dtype='float32').reshape((10, 1))\n",
    "y_train = np.array([1.0, 1.3, 3.1, 2.0, 5.0, 6.3, 6.6, 7.4, 8.0, 9.0], dtype='float32')\n",
    "plt.figure(figsize=(5,3))\n",
    "plt.plot(X_train, y_train, 'o')\n",
    "plt.xlabel('x')\n",
    "plt.ylabel('y')\n",
    "plt.show()"
   ]
  },
  {
   "cell_type": "markdown",
   "id": "e1f2ee50",
   "metadata": {},
   "source": [
    "##### Standardize data and create a Dataset and DataLoader:"
   ]
  },
  {
   "cell_type": "code",
   "execution_count": 52,
   "id": "7d52094f",
   "metadata": {},
   "outputs": [],
   "source": [
    "from torch.utils.data import TensorDataset\n",
    "X_train_norm = (X_train - np.mean(X_train)) / np.std(X_train)\n",
    "X_train_norm = torch.from_numpy(X_train_norm)\n",
    "y_train = torch.from_numpy(y_train)\n",
    "train_ds = TensorDataset(X_train_norm, y_train)\n",
    "batch_size = 1\n",
    "train_dl = DataLoader(train_ds, batch_size, shuffle=True)"
   ]
  },
  {
   "cell_type": "code",
   "execution_count": 53,
   "id": "ad1fd246",
   "metadata": {},
   "outputs": [
    {
     "data": {
      "text/plain": [
       "[tensor([[-0.5222]]), tensor([2.])]"
      ]
     },
     "execution_count": 53,
     "metadata": {},
     "output_type": "execute_result"
    }
   ],
   "source": [
    "next(iter(train_dl))"
   ]
  },
  {
   "cell_type": "markdown",
   "id": "777149bc",
   "metadata": {},
   "source": [
    "##### Linear regression without torch.nn"
   ]
  },
  {
   "cell_type": "markdown",
   "id": "2af36c75",
   "metadata": {},
   "source": [
    "Model: $z = wx + b$. First, let's define our model from scratch without using torch.nn. "
   ]
  },
  {
   "cell_type": "code",
   "execution_count": 54,
   "id": "7f45254e",
   "metadata": {},
   "outputs": [],
   "source": [
    "def model(xb):\n",
    "    return xb @ weight + bias"
   ]
  },
  {
   "cell_type": "code",
   "execution_count": 55,
   "id": "7bfadfe4",
   "metadata": {},
   "outputs": [],
   "source": [
    "def loss_fn(inpt, target):\n",
    "    return (inpt - target).pow(2).mean()   # mean squared error"
   ]
  },
  {
   "cell_type": "code",
   "execution_count": 56,
   "id": "3fc3d133",
   "metadata": {},
   "outputs": [
    {
     "name": "stdout",
     "output_type": "stream",
     "text": [
      "Epoch 0  Loss 46.5720\n",
      "Epoch 10  Loss 27.1502\n",
      "Epoch 20  Loss 1.6446\n",
      "Epoch 30  Loss 14.4571\n",
      "Epoch 40  Loss 11.7827\n",
      "Epoch 50  Loss 6.4122\n",
      "Epoch 60  Loss 0.6339\n",
      "Epoch 70  Loss 3.1562\n",
      "Epoch 80  Loss 2.0100\n",
      "Epoch 90  Loss 0.3107\n",
      "Epoch 100  Loss 0.7625\n",
      "Epoch 110  Loss 1.0024\n",
      "Epoch 120  Loss 0.0232\n",
      "Epoch 130  Loss 0.5138\n",
      "Epoch 140  Loss 0.0741\n",
      "Epoch 150  Loss 1.8712\n",
      "Epoch 160  Loss 0.0007\n",
      "Epoch 170  Loss 0.0850\n",
      "Epoch 180  Loss 0.0634\n",
      "Epoch 190  Loss 0.0012\n"
     ]
    }
   ],
   "source": [
    "torch.manual_seed(1)\n",
    "weight = torch.randn(1)  # Initialized weight and bias\n",
    "weight.requires_grad_()\n",
    "bias = torch.zeros(1, requires_grad=True)\n",
    "\n",
    "learning_rate = 0.001\n",
    "num_epochs = 200\n",
    "\n",
    "for epoch in range(num_epochs):\n",
    "    \n",
    "    for x_batch, y_batch in train_dl:\n",
    "        pred = model(x_batch)\n",
    "        loss = loss_fn(pred, y_batch)\n",
    "        loss.backward()\n",
    "        \n",
    "    with torch.no_grad():   # Disable gradient calculation, since we do not need this for below update\n",
    "        weight -= weight.grad * learning_rate\n",
    "        bias -= bias.grad * learning_rate\n",
    "        \n",
    "    weight.grad.zero_()    # Set grads to zero so they are not accumulated in subsequent backward passes \n",
    "    bias.grad.zero_()\n",
    "        \n",
    "    if epoch % 10 == 0:\n",
    "        print(f'Epoch {epoch}  Loss {loss.item():.4f}')\n",
    "        "
   ]
  },
  {
   "cell_type": "code",
   "execution_count": 58,
   "id": "1505d653",
   "metadata": {},
   "outputs": [
    {
     "name": "stdout",
     "output_type": "stream",
     "text": [
      "Weight: 2.670930862426758\n"
     ]
    }
   ],
   "source": [
    "print(f'Weight: {weight.item()}')"
   ]
  },
  {
   "cell_type": "code",
   "execution_count": 59,
   "id": "62bbe35c",
   "metadata": {},
   "outputs": [
    {
     "name": "stdout",
     "output_type": "stream",
     "text": [
      "Bias: 4.88258695602417\n"
     ]
    }
   ],
   "source": [
    "print(f'Bias: {bias.item()}')"
   ]
  },
  {
   "cell_type": "code",
   "execution_count": 64,
   "id": "ad4bea51",
   "metadata": {},
   "outputs": [
    {
     "data": {
      "image/png": "[encoded data removed]",
      "text/plain": [
       "<Figure size 500x300 with 1 Axes>"
      ]
     },
     "metadata": {},
     "output_type": "display_data"
    }
   ],
   "source": [
    "X_test = np.linspace(0, 9, num=100, dtype='float32').reshape(-1, 1)\n",
    "X_test_norm = (X_test - np.mean(X_train)) / np.std(X_train)\n",
    "X_test_norm = torch.from_numpy(X_test_norm)\n",
    "y_pred = model(X_test_norm).detach().numpy()\n",
    "plt.figure(figsize=(5,3))\n",
    "plt.plot(X_train_norm, y_train, 'o', label='Training examples')\n",
    "plt.plot(X_test_norm, y_pred, '--', label='Linear Regression')\n",
    "plt.xlabel('x')\n",
    "plt.ylabel('y')\n",
    "plt.legend()\n",
    "plt.show()"
   ]
  },
  {
   "cell_type": "markdown",
   "id": "93e13c31",
   "metadata": {},
   "source": [
    "##### Linear Regression with torch.nn and torch.optim"
   ]
  },
  {
   "cell_type": "code",
   "execution_count": 65,
   "id": "4ac52db8",
   "metadata": {},
   "outputs": [],
   "source": [
    "import torch.nn as nn\n",
    "loss_fn = nn.MSELoss(reduction='mean')\n",
    "input_size = 1\n",
    "output_size = 1\n",
    "model2 = nn.Linear(input_size, output_size)\n",
    "optimizer = torch.optim.SGD(model2.parameters(), lr=learning_rate)"
   ]
  },
  {
   "cell_type": "code",
   "execution_count": 72,
   "id": "5f25fe52",
   "metadata": {},
   "outputs": [
    {
     "name": "stdout",
     "output_type": "stream",
     "text": [
      "Epoch 0  Loss 2.4346\n",
      "Epoch 10  Loss 0.1395\n",
      "Epoch 20  Loss 0.0743\n",
      "Epoch 30  Loss 0.0055\n",
      "Epoch 40  Loss 0.2379\n",
      "Epoch 50  Loss 0.7407\n",
      "Epoch 60  Loss 0.0742\n",
      "Epoch 70  Loss 0.0471\n",
      "Epoch 80  Loss 0.1395\n",
      "Epoch 90  Loss 0.2523\n",
      "Epoch 100  Loss 0.0055\n",
      "Epoch 110  Loss 0.2379\n",
      "Epoch 120  Loss 0.0055\n",
      "Epoch 130  Loss 0.0471\n",
      "Epoch 140  Loss 0.1395\n",
      "Epoch 150  Loss 0.0743\n",
      "Epoch 160  Loss 0.7408\n",
      "Epoch 170  Loss 0.2379\n",
      "Epoch 180  Loss 0.7408\n",
      "Epoch 190  Loss 0.2522\n"
     ]
    }
   ],
   "source": [
    "for epoch in range(num_epochs):\n",
    "    for x_batch, y_batch in train_dl:\n",
    "        \n",
    "        pred = model2(x_batch)[:, 0]    # [:, 0] so prediction has shape [1], not [1, 1], so it matches y_batch shape.\n",
    "        \n",
    "        loss = loss_fn(pred, y_batch)    # calc loss\n",
    "        \n",
    "        loss.backward()    # compute gradients\n",
    "        \n",
    "        optimizer.step()   # update parameters\n",
    "         \n",
    "        optimizer.zero_grad()    # reset grads to zero\n",
    "        \n",
    "    if epoch % 10 == 0:\n",
    "        print(f'Epoch {epoch}  Loss {loss.item():.4f}')"
   ]
  },
  {
   "cell_type": "code",
   "execution_count": 73,
   "id": "86da2743",
   "metadata": {},
   "outputs": [
    {
     "name": "stdout",
     "output_type": "stream",
     "text": [
      "Weight: 2.7066938877105713\n"
     ]
    }
   ],
   "source": [
    "print(f'Weight: {model2.weight.item()}')"
   ]
  },
  {
   "cell_type": "code",
   "execution_count": 74,
   "id": "69bf69c8",
   "metadata": {},
   "outputs": [
    {
     "name": "stdout",
     "output_type": "stream",
     "text": [
      "Bias: 4.969970703125\n"
     ]
    }
   ],
   "source": [
    "print(f'Bias: {model2.bias.item()}')"
   ]
  },
  {
   "cell_type": "code",
   "execution_count": 75,
   "id": "c3e09497",
   "metadata": {},
   "outputs": [
    {
     "data": {
      "image/png": "[encoded data removed]",
      "text/plain": [
       "<Figure size 500x300 with 1 Axes>"
      ]
     },
     "metadata": {},
     "output_type": "display_data"
    }
   ],
   "source": [
    "X_test = np.linspace(0, 9, num=100, dtype='float32').reshape(-1, 1)\n",
    "X_test_norm = (X_test - np.mean(X_train)) / np.std(X_train)\n",
    "X_test_norm = torch.from_numpy(X_test_norm)\n",
    "y_pred = model2(X_test_norm).detach().numpy()\n",
    "plt.figure(figsize=(5,3))\n",
    "plt.plot(X_train_norm, y_train, 'o', label='Training examples')\n",
    "plt.plot(X_test_norm, y_pred, '--', label='Linear Regression')\n",
    "plt.xlabel('x')\n",
    "plt.ylabel('y')\n",
    "plt.legend()\n",
    "plt.show()"
   ]
  },
  {
   "cell_type": "code",
   "execution_count": null,
   "id": "efa8a098",
   "metadata": {},
   "outputs": [],
   "source": []
  }
 ],
 "metadata": {
  "kernelspec": {
   "display_name": "Python 3 (ipykernel)",
   "language": "python",
   "name": "python3"
  },
  "language_info": {
   "codemirror_mode": {
    "name": "ipython",
    "version": 3
   },
   "file_extension": ".py",
   "mimetype": "text/x-python",
   "name": "python",
   "nbconvert_exporter": "python",
   "pygments_lexer": "ipython3",
   "version": "3.10.11"
  }
 },
 "nbformat": 4,
 "nbformat_minor": 5
}
