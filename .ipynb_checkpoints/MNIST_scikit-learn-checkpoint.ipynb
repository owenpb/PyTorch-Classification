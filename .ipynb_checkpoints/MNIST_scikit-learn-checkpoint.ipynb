{
 "cells": [
  {
   "cell_type": "markdown",
   "id": "cbee340f",
   "metadata": {},
   "source": [
    "## MNIST digit recognition: a multiclass classification task\n",
    "\n",
    "Before getting into building neural networks with PyTorch, let's first try tackling the MNIST digit recognition task with several classification algorithms from the scikit-learn and XGBoost libraries:\n",
    "1. K Nearest Neighbors\n",
    "2. Random Forest\n",
    "3. Logistic Regression\n",
    "4. XGBClassifier"
   ]
  },
  {
   "cell_type": "code",
   "execution_count": 1,
   "id": "82543f7c",
   "metadata": {},
   "outputs": [],
   "source": [
    "import numpy as np\n",
    "import matplotlib.pyplot as plt\n",
    "import seaborn as sns\n",
    "\n",
    "from sklearn import datasets\n",
    "from sklearn.model_selection import train_test_split\n",
    "from sklearn.model_selection import GridSearchCV\n",
    "from sklearn.preprocessing import StandardScaler\n",
    "\n",
    "from sklearn.linear_model import LogisticRegression\n",
    "from sklearn.neighbors import KNeighborsClassifier\n",
    "from sklearn.ensemble import RandomForestClassifier\n",
    "from xgboost import XGBClassifier\n",
    "import xgboost\n",
    "\n",
    "from sklearn.metrics import confusion_matrix\n",
    "from sklearn.metrics import classification_report\n",
    "from sklearn.model_selection import cross_val_score"
   ]
  },
  {
   "cell_type": "markdown",
   "id": "65ad2c10",
   "metadata": {},
   "source": [
    "#### Fetching the MNIST dataset:"
   ]
  },
  {
   "cell_type": "code",
   "execution_count": 2,
   "id": "699728e7",
   "metadata": {},
   "outputs": [],
   "source": [
    "from sklearn.datasets import fetch_openml\n",
    "mnist = fetch_openml('mnist_784')"
   ]
  },
  {
   "cell_type": "markdown",
   "id": "fb68e7ef",
   "metadata": {},
   "source": [
    "#### Examining the data:\n",
    "\n",
    "The MNIST dataset consists of 70000 images of digits. Each image is 28x28 pixels in size (784 total pixels), with pixel intensity ranging from 0 to 255. The target values are integers from 0 to 9."
   ]
  },
  {
   "cell_type": "code",
   "execution_count": 3,
   "id": "6be1bd8d",
   "metadata": {},
   "outputs": [
    {
     "data": {
      "text/plain": [
       "0        5\n",
       "1        0\n",
       "2        4\n",
       "3        1\n",
       "4        9\n",
       "        ..\n",
       "69995    2\n",
       "69996    3\n",
       "69997    4\n",
       "69998    5\n",
       "69999    6\n",
       "Name: class, Length: 70000, dtype: category\n",
       "Categories (10, object): ['0', '1', '2', '3', ..., '6', '7', '8', '9']"
      ]
     },
     "execution_count": 3,
     "metadata": {},
     "output_type": "execute_result"
    }
   ],
   "source": [
    "mnist.target"
   ]
  },
  {
   "cell_type": "code",
   "execution_count": 4,
   "id": "ef743d6e",
   "metadata": {},
   "outputs": [
    {
     "data": {
      "text/html": [
       "<div>\n",
       "<style scoped>\n",
       "    .dataframe tbody tr th:only-of-type {\n",
       "        vertical-align: middle;\n",
       "    }\n",
       "\n",
       "    .dataframe tbody tr th {\n",
       "        vertical-align: top;\n",
       "    }\n",
       "\n",
       "    .dataframe thead th {\n",
       "        text-align: right;\n",
       "    }\n",
       "</style>\n",
       "<table border=\"1\" class=\"dataframe\">\n",
       "  <thead>\n",
       "    <tr style=\"text-align: right;\">\n",
       "      <th></th>\n",
       "      <th>pixel1</th>\n",
       "      <th>pixel2</th>\n",
       "      <th>pixel3</th>\n",
       "      <th>pixel4</th>\n",
       "      <th>pixel5</th>\n",
       "      <th>pixel6</th>\n",
       "      <th>pixel7</th>\n",
       "      <th>pixel8</th>\n",
       "      <th>pixel9</th>\n",
       "      <th>pixel10</th>\n",
       "      <th>...</th>\n",
       "      <th>pixel775</th>\n",
       "      <th>pixel776</th>\n",
       "      <th>pixel777</th>\n",
       "      <th>pixel778</th>\n",
       "      <th>pixel779</th>\n",
       "      <th>pixel780</th>\n",
       "      <th>pixel781</th>\n",
       "      <th>pixel782</th>\n",
       "      <th>pixel783</th>\n",
       "      <th>pixel784</th>\n",
       "    </tr>\n",
       "  </thead>\n",
       "  <tbody>\n",
       "    <tr>\n",
       "      <th>0</th>\n",
       "      <td>0.0</td>\n",
       "      <td>0.0</td>\n",
       "      <td>0.0</td>\n",
       "      <td>0.0</td>\n",
       "      <td>0.0</td>\n",
       "      <td>0.0</td>\n",
       "      <td>0.0</td>\n",
       "      <td>0.0</td>\n",
       "      <td>0.0</td>\n",
       "      <td>0.0</td>\n",
       "      <td>...</td>\n",
       "      <td>0.0</td>\n",
       "      <td>0.0</td>\n",
       "      <td>0.0</td>\n",
       "      <td>0.0</td>\n",
       "      <td>0.0</td>\n",
       "      <td>0.0</td>\n",
       "      <td>0.0</td>\n",
       "      <td>0.0</td>\n",
       "      <td>0.0</td>\n",
       "      <td>0.0</td>\n",
       "    </tr>\n",
       "    <tr>\n",
       "      <th>1</th>\n",
       "      <td>0.0</td>\n",
       "      <td>0.0</td>\n",
       "      <td>0.0</td>\n",
       "      <td>0.0</td>\n",
       "      <td>0.0</td>\n",
       "      <td>0.0</td>\n",
       "      <td>0.0</td>\n",
       "      <td>0.0</td>\n",
       "      <td>0.0</td>\n",
       "      <td>0.0</td>\n",
       "      <td>...</td>\n",
       "      <td>0.0</td>\n",
       "      <td>0.0</td>\n",
       "      <td>0.0</td>\n",
       "      <td>0.0</td>\n",
       "      <td>0.0</td>\n",
       "      <td>0.0</td>\n",
       "      <td>0.0</td>\n",
       "      <td>0.0</td>\n",
       "      <td>0.0</td>\n",
       "      <td>0.0</td>\n",
       "    </tr>\n",
       "    <tr>\n",
       "      <th>2</th>\n",
       "      <td>0.0</td>\n",
       "      <td>0.0</td>\n",
       "      <td>0.0</td>\n",
       "      <td>0.0</td>\n",
       "      <td>0.0</td>\n",
       "      <td>0.0</td>\n",
       "      <td>0.0</td>\n",
       "      <td>0.0</td>\n",
       "      <td>0.0</td>\n",
       "      <td>0.0</td>\n",
       "      <td>...</td>\n",
       "      <td>0.0</td>\n",
       "      <td>0.0</td>\n",
       "      <td>0.0</td>\n",
       "      <td>0.0</td>\n",
       "      <td>0.0</td>\n",
       "      <td>0.0</td>\n",
       "      <td>0.0</td>\n",
       "      <td>0.0</td>\n",
       "      <td>0.0</td>\n",
       "      <td>0.0</td>\n",
       "    </tr>\n",
       "    <tr>\n",
       "      <th>3</th>\n",
       "      <td>0.0</td>\n",
       "      <td>0.0</td>\n",
       "      <td>0.0</td>\n",
       "      <td>0.0</td>\n",
       "      <td>0.0</td>\n",
       "      <td>0.0</td>\n",
       "      <td>0.0</td>\n",
       "      <td>0.0</td>\n",
       "      <td>0.0</td>\n",
       "      <td>0.0</td>\n",
       "      <td>...</td>\n",
       "      <td>0.0</td>\n",
       "      <td>0.0</td>\n",
       "      <td>0.0</td>\n",
       "      <td>0.0</td>\n",
       "      <td>0.0</td>\n",
       "      <td>0.0</td>\n",
       "      <td>0.0</td>\n",
       "      <td>0.0</td>\n",
       "      <td>0.0</td>\n",
       "      <td>0.0</td>\n",
       "    </tr>\n",
       "    <tr>\n",
       "      <th>4</th>\n",
       "      <td>0.0</td>\n",
       "      <td>0.0</td>\n",
       "      <td>0.0</td>\n",
       "      <td>0.0</td>\n",
       "      <td>0.0</td>\n",
       "      <td>0.0</td>\n",
       "      <td>0.0</td>\n",
       "      <td>0.0</td>\n",
       "      <td>0.0</td>\n",
       "      <td>0.0</td>\n",
       "      <td>...</td>\n",
       "      <td>0.0</td>\n",
       "      <td>0.0</td>\n",
       "      <td>0.0</td>\n",
       "      <td>0.0</td>\n",
       "      <td>0.0</td>\n",
       "      <td>0.0</td>\n",
       "      <td>0.0</td>\n",
       "      <td>0.0</td>\n",
       "      <td>0.0</td>\n",
       "      <td>0.0</td>\n",
       "    </tr>\n",
       "    <tr>\n",
       "      <th>...</th>\n",
       "      <td>...</td>\n",
       "      <td>...</td>\n",
       "      <td>...</td>\n",
       "      <td>...</td>\n",
       "      <td>...</td>\n",
       "      <td>...</td>\n",
       "      <td>...</td>\n",
       "      <td>...</td>\n",
       "      <td>...</td>\n",
       "      <td>...</td>\n",
       "      <td>...</td>\n",
       "      <td>...</td>\n",
       "      <td>...</td>\n",
       "      <td>...</td>\n",
       "      <td>...</td>\n",
       "      <td>...</td>\n",
       "      <td>...</td>\n",
       "      <td>...</td>\n",
       "      <td>...</td>\n",
       "      <td>...</td>\n",
       "      <td>...</td>\n",
       "    </tr>\n",
       "    <tr>\n",
       "      <th>69995</th>\n",
       "      <td>0.0</td>\n",
       "      <td>0.0</td>\n",
       "      <td>0.0</td>\n",
       "      <td>0.0</td>\n",
       "      <td>0.0</td>\n",
       "      <td>0.0</td>\n",
       "      <td>0.0</td>\n",
       "      <td>0.0</td>\n",
       "      <td>0.0</td>\n",
       "      <td>0.0</td>\n",
       "      <td>...</td>\n",
       "      <td>0.0</td>\n",
       "      <td>0.0</td>\n",
       "      <td>0.0</td>\n",
       "      <td>0.0</td>\n",
       "      <td>0.0</td>\n",
       "      <td>0.0</td>\n",
       "      <td>0.0</td>\n",
       "      <td>0.0</td>\n",
       "      <td>0.0</td>\n",
       "      <td>0.0</td>\n",
       "    </tr>\n",
       "    <tr>\n",
       "      <th>69996</th>\n",
       "      <td>0.0</td>\n",
       "      <td>0.0</td>\n",
       "      <td>0.0</td>\n",
       "      <td>0.0</td>\n",
       "      <td>0.0</td>\n",
       "      <td>0.0</td>\n",
       "      <td>0.0</td>\n",
       "      <td>0.0</td>\n",
       "      <td>0.0</td>\n",
       "      <td>0.0</td>\n",
       "      <td>...</td>\n",
       "      <td>0.0</td>\n",
       "      <td>0.0</td>\n",
       "      <td>0.0</td>\n",
       "      <td>0.0</td>\n",
       "      <td>0.0</td>\n",
       "      <td>0.0</td>\n",
       "      <td>0.0</td>\n",
       "      <td>0.0</td>\n",
       "      <td>0.0</td>\n",
       "      <td>0.0</td>\n",
       "    </tr>\n",
       "    <tr>\n",
       "      <th>69997</th>\n",
       "      <td>0.0</td>\n",
       "      <td>0.0</td>\n",
       "      <td>0.0</td>\n",
       "      <td>0.0</td>\n",
       "      <td>0.0</td>\n",
       "      <td>0.0</td>\n",
       "      <td>0.0</td>\n",
       "      <td>0.0</td>\n",
       "      <td>0.0</td>\n",
       "      <td>0.0</td>\n",
       "      <td>...</td>\n",
       "      <td>0.0</td>\n",
       "      <td>0.0</td>\n",
       "      <td>0.0</td>\n",
       "      <td>0.0</td>\n",
       "      <td>0.0</td>\n",
       "      <td>0.0</td>\n",
       "      <td>0.0</td>\n",
       "      <td>0.0</td>\n",
       "      <td>0.0</td>\n",
       "      <td>0.0</td>\n",
       "    </tr>\n",
       "    <tr>\n",
       "      <th>69998</th>\n",
       "      <td>0.0</td>\n",
       "      <td>0.0</td>\n",
       "      <td>0.0</td>\n",
       "      <td>0.0</td>\n",
       "      <td>0.0</td>\n",
       "      <td>0.0</td>\n",
       "      <td>0.0</td>\n",
       "      <td>0.0</td>\n",
       "      <td>0.0</td>\n",
       "      <td>0.0</td>\n",
       "      <td>...</td>\n",
       "      <td>0.0</td>\n",
       "      <td>0.0</td>\n",
       "      <td>0.0</td>\n",
       "      <td>0.0</td>\n",
       "      <td>0.0</td>\n",
       "      <td>0.0</td>\n",
       "      <td>0.0</td>\n",
       "      <td>0.0</td>\n",
       "      <td>0.0</td>\n",
       "      <td>0.0</td>\n",
       "    </tr>\n",
       "    <tr>\n",
       "      <th>69999</th>\n",
       "      <td>0.0</td>\n",
       "      <td>0.0</td>\n",
       "      <td>0.0</td>\n",
       "      <td>0.0</td>\n",
       "      <td>0.0</td>\n",
       "      <td>0.0</td>\n",
       "      <td>0.0</td>\n",
       "      <td>0.0</td>\n",
       "      <td>0.0</td>\n",
       "      <td>0.0</td>\n",
       "      <td>...</td>\n",
       "      <td>0.0</td>\n",
       "      <td>0.0</td>\n",
       "      <td>0.0</td>\n",
       "      <td>0.0</td>\n",
       "      <td>0.0</td>\n",
       "      <td>0.0</td>\n",
       "      <td>0.0</td>\n",
       "      <td>0.0</td>\n",
       "      <td>0.0</td>\n",
       "      <td>0.0</td>\n",
       "    </tr>\n",
       "  </tbody>\n",
       "</table>\n",
       "<p>70000 rows × 784 columns</p>\n",
       "</div>"
      ],
      "text/plain": [
       "       pixel1  pixel2  pixel3  pixel4  pixel5  pixel6  pixel7  pixel8  pixel9  \\\n",
       "0         0.0     0.0     0.0     0.0     0.0     0.0     0.0     0.0     0.0   \n",
       "1         0.0     0.0     0.0     0.0     0.0     0.0     0.0     0.0     0.0   \n",
       "2         0.0     0.0     0.0     0.0     0.0     0.0     0.0     0.0     0.0   \n",
       "3         0.0     0.0     0.0     0.0     0.0     0.0     0.0     0.0     0.0   \n",
       "4         0.0     0.0     0.0     0.0     0.0     0.0     0.0     0.0     0.0   \n",
       "...       ...     ...     ...     ...     ...     ...     ...     ...     ...   \n",
       "69995     0.0     0.0     0.0     0.0     0.0     0.0     0.0     0.0     0.0   \n",
       "69996     0.0     0.0     0.0     0.0     0.0     0.0     0.0     0.0     0.0   \n",
       "69997     0.0     0.0     0.0     0.0     0.0     0.0     0.0     0.0     0.0   \n",
       "69998     0.0     0.0     0.0     0.0     0.0     0.0     0.0     0.0     0.0   \n",
       "69999     0.0     0.0     0.0     0.0     0.0     0.0     0.0     0.0     0.0   \n",
       "\n",
       "       pixel10  ...  pixel775  pixel776  pixel777  pixel778  pixel779  \\\n",
       "0          0.0  ...       0.0       0.0       0.0       0.0       0.0   \n",
       "1          0.0  ...       0.0       0.0       0.0       0.0       0.0   \n",
       "2          0.0  ...       0.0       0.0       0.0       0.0       0.0   \n",
       "3          0.0  ...       0.0       0.0       0.0       0.0       0.0   \n",
       "4          0.0  ...       0.0       0.0       0.0       0.0       0.0   \n",
       "...        ...  ...       ...       ...       ...       ...       ...   \n",
       "69995      0.0  ...       0.0       0.0       0.0       0.0       0.0   \n",
       "69996      0.0  ...       0.0       0.0       0.0       0.0       0.0   \n",
       "69997      0.0  ...       0.0       0.0       0.0       0.0       0.0   \n",
       "69998      0.0  ...       0.0       0.0       0.0       0.0       0.0   \n",
       "69999      0.0  ...       0.0       0.0       0.0       0.0       0.0   \n",
       "\n",
       "       pixel780  pixel781  pixel782  pixel783  pixel784  \n",
       "0           0.0       0.0       0.0       0.0       0.0  \n",
       "1           0.0       0.0       0.0       0.0       0.0  \n",
       "2           0.0       0.0       0.0       0.0       0.0  \n",
       "3           0.0       0.0       0.0       0.0       0.0  \n",
       "4           0.0       0.0       0.0       0.0       0.0  \n",
       "...         ...       ...       ...       ...       ...  \n",
       "69995       0.0       0.0       0.0       0.0       0.0  \n",
       "69996       0.0       0.0       0.0       0.0       0.0  \n",
       "69997       0.0       0.0       0.0       0.0       0.0  \n",
       "69998       0.0       0.0       0.0       0.0       0.0  \n",
       "69999       0.0       0.0       0.0       0.0       0.0  \n",
       "\n",
       "[70000 rows x 784 columns]"
      ]
     },
     "execution_count": 4,
     "metadata": {},
     "output_type": "execute_result"
    }
   ],
   "source": [
    "mnist.data"
   ]
  },
  {
   "cell_type": "code",
   "execution_count": 5,
   "id": "a7e7df34",
   "metadata": {},
   "outputs": [],
   "source": [
    "X, y = mnist.data, mnist.target\n",
    "X = X.to_numpy()    # Store X and y data as numpy arrays"
   ]
  },
  {
   "cell_type": "code",
   "execution_count": 6,
   "id": "b702c2e8",
   "metadata": {},
   "outputs": [
    {
     "data": {
      "text/plain": [
       "(70000, 784)"
      ]
     },
     "execution_count": 6,
     "metadata": {},
     "output_type": "execute_result"
    }
   ],
   "source": [
    "X.shape"
   ]
  },
  {
   "cell_type": "code",
   "execution_count": 7,
   "id": "e3f726c9",
   "metadata": {},
   "outputs": [
    {
     "data": {
      "text/plain": [
       "(70000,)"
      ]
     },
     "execution_count": 7,
     "metadata": {},
     "output_type": "execute_result"
    }
   ],
   "source": [
    "y.shape"
   ]
  },
  {
   "cell_type": "markdown",
   "id": "40f74488",
   "metadata": {},
   "source": [
    "#### Display an example image:"
   ]
  },
  {
   "cell_type": "code",
   "execution_count": 8,
   "id": "6ba3aa32",
   "metadata": {},
   "outputs": [
    {
     "data": {
      "image/png": "[encoded data removed]",
      "text/plain": [
       "<Figure size 640x480 with 1 Axes>"
      ]
     },
     "metadata": {},
     "output_type": "display_data"
    }
   ],
   "source": [
    "plt.imshow(X[0].reshape(28, 28), cmap=\"binary\")\n",
    "plt.title(f'Target label for this image: {y[0]}')\n",
    "plt.show()"
   ]
  },
  {
   "cell_type": "markdown",
   "id": "a41d37f0",
   "metadata": {},
   "source": [
    "#### Let's display some more examples from the MNIST dataset:"
   ]
  },
  {
   "cell_type": "code",
   "execution_count": 9,
   "id": "3f0709df",
   "metadata": {},
   "outputs": [
    {
     "data": {
      "image/png": "[encoded data removed]",
      "text/plain": [
       "<Figure size 1200x1200 with 64 Axes>"
      ]
     },
     "metadata": {},
     "output_type": "display_data"
    }
   ],
   "source": [
    "fig, axs = plt.subplots(8, 8, figsize=(12, 12))\n",
    "index = 0\n",
    "\n",
    "for i in range(8):\n",
    "    for j in range(8):\n",
    "\n",
    "        axs[i, j].imshow(X[index].reshape(28, 28), cmap=\"binary\")\n",
    "        axs[i, j].set_xticks([])\n",
    "        axs[i, j].set_yticks([])\n",
    "        index += 1"
   ]
  },
  {
   "cell_type": "markdown",
   "id": "ad1f9e6e",
   "metadata": {},
   "source": [
    "#### Split into train and test sets:"
   ]
  },
  {
   "cell_type": "code",
   "execution_count": 10,
   "id": "8065a5ae",
   "metadata": {},
   "outputs": [],
   "source": [
    "# 60000 in train set, 10000 in test set:\n",
    "\n",
    "X_train, X_test, y_train, y_test = train_test_split(X, y, test_size=1/7, random_state=1)\n",
    "\n",
    "\n",
    "# Standardize pixel value to range [0, 1]:\n",
    "\n",
    "X_train_std = X_train / 255\n",
    "X_test_std = X_test / 255"
   ]
  },
  {
   "cell_type": "code",
   "execution_count": 11,
   "id": "5234dc90",
   "metadata": {},
   "outputs": [
    {
     "data": {
      "text/plain": [
       "(60000, 784)"
      ]
     },
     "execution_count": 11,
     "metadata": {},
     "output_type": "execute_result"
    }
   ],
   "source": [
    "X_train_std.shape"
   ]
  },
  {
   "cell_type": "code",
   "execution_count": 12,
   "id": "72c30f61",
   "metadata": {},
   "outputs": [
    {
     "data": {
      "text/plain": [
       "(10000, 784)"
      ]
     },
     "execution_count": 12,
     "metadata": {},
     "output_type": "execute_result"
    }
   ],
   "source": [
    "X_test_std.shape"
   ]
  },
  {
   "cell_type": "code",
   "execution_count": 13,
   "id": "cc009f3d",
   "metadata": {},
   "outputs": [
    {
     "data": {
      "text/plain": [
       "(60000,)"
      ]
     },
     "execution_count": 13,
     "metadata": {},
     "output_type": "execute_result"
    }
   ],
   "source": [
    "y_train.shape"
   ]
  },
  {
   "cell_type": "code",
   "execution_count": 14,
   "id": "a09ff238",
   "metadata": {},
   "outputs": [
    {
     "data": {
      "text/plain": [
       "(10000,)"
      ]
     },
     "execution_count": 14,
     "metadata": {},
     "output_type": "execute_result"
    }
   ],
   "source": [
    "y_test.shape"
   ]
  },
  {
   "cell_type": "markdown",
   "id": "a054a628",
   "metadata": {},
   "source": [
    "## 1. KNN Classifier:"
   ]
  },
  {
   "cell_type": "markdown",
   "id": "2637d98c",
   "metadata": {},
   "source": [
    "#### Training model:"
   ]
  },
  {
   "cell_type": "markdown",
   "id": "9f4668cd",
   "metadata": {},
   "source": [
    "We can perform 5-fold cross-validation to find the optimal value of hyperparameter k:"
   ]
  },
  {
   "cell_type": "code",
   "execution_count": 15,
   "id": "c9895559",
   "metadata": {},
   "outputs": [
    {
     "name": "stdout",
     "output_type": "stream",
     "text": [
      "Fitting 5 folds for each of 18 candidates, totalling 90 fits\n",
      "[CV 1/5] END ....n_neighbors=1, weights=uniform;, score=0.972 total time=   9.2s\n",
      "[CV 2/5] END ....n_neighbors=1, weights=uniform;, score=0.971 total time=   9.8s\n",
      "[CV 3/5] END ....n_neighbors=1, weights=uniform;, score=0.971 total time=   9.9s\n",
      "[CV 4/5] END ....n_neighbors=1, weights=uniform;, score=0.973 total time=   8.6s\n",
      "[CV 5/5] END ....n_neighbors=1, weights=uniform;, score=0.973 total time=  10.0s\n",
      "[CV 1/5] END ...n_neighbors=1, weights=distance;, score=0.972 total time=   9.2s\n",
      "[CV 2/5] END ...n_neighbors=1, weights=distance;, score=0.971 total time=   8.5s\n",
      "[CV 3/5] END ...n_neighbors=1, weights=distance;, score=0.971 total time=   8.5s\n",
      "[CV 4/5] END ...n_neighbors=1, weights=distance;, score=0.973 total time=   8.5s\n",
      "[CV 5/5] END ...n_neighbors=1, weights=distance;, score=0.973 total time=   9.0s\n",
      "[CV 1/5] END ....n_neighbors=2, weights=uniform;, score=0.965 total time=   9.4s\n",
      "[CV 2/5] END ....n_neighbors=2, weights=uniform;, score=0.965 total time=   9.9s\n",
      "[CV 3/5] END ....n_neighbors=2, weights=uniform;, score=0.963 total time=  11.2s\n",
      "[CV 4/5] END ....n_neighbors=2, weights=uniform;, score=0.966 total time=  12.5s\n",
      "[CV 5/5] END ....n_neighbors=2, weights=uniform;, score=0.965 total time=  11.2s\n",
      "[CV 1/5] END ...n_neighbors=2, weights=distance;, score=0.972 total time=   9.4s\n",
      "[CV 2/5] END ...n_neighbors=2, weights=distance;, score=0.971 total time=   9.6s\n",
      "[CV 3/5] END ...n_neighbors=2, weights=distance;, score=0.971 total time=  10.2s\n",
      "[CV 4/5] END ...n_neighbors=2, weights=distance;, score=0.973 total time=  10.3s\n",
      "[CV 5/5] END ...n_neighbors=2, weights=distance;, score=0.973 total time=  10.1s\n",
      "[CV 1/5] END ....n_neighbors=3, weights=uniform;, score=0.970 total time=  11.4s\n",
      "[CV 2/5] END ....n_neighbors=3, weights=uniform;, score=0.971 total time=  11.1s\n",
      "[CV 3/5] END ....n_neighbors=3, weights=uniform;, score=0.968 total time=  10.8s\n",
      "[CV 4/5] END ....n_neighbors=3, weights=uniform;, score=0.973 total time=  10.9s\n",
      "[CV 5/5] END ....n_neighbors=3, weights=uniform;, score=0.972 total time=  10.8s\n",
      "[CV 1/5] END ...n_neighbors=3, weights=distance;, score=0.972 total time=  10.3s\n",
      "[CV 2/5] END ...n_neighbors=3, weights=distance;, score=0.973 total time=  10.4s\n",
      "[CV 3/5] END ...n_neighbors=3, weights=distance;, score=0.970 total time=  10.5s\n",
      "[CV 4/5] END ...n_neighbors=3, weights=distance;, score=0.974 total time=  10.4s\n",
      "[CV 5/5] END ...n_neighbors=3, weights=distance;, score=0.973 total time=  10.4s\n",
      "[CV 1/5] END ....n_neighbors=4, weights=uniform;, score=0.969 total time=  11.3s\n",
      "[CV 2/5] END ....n_neighbors=4, weights=uniform;, score=0.970 total time=  11.0s\n",
      "[CV 3/5] END ....n_neighbors=4, weights=uniform;, score=0.968 total time=  10.8s\n",
      "[CV 4/5] END ....n_neighbors=4, weights=uniform;, score=0.970 total time=  10.8s\n",
      "[CV 5/5] END ....n_neighbors=4, weights=uniform;, score=0.970 total time=  10.8s\n",
      "[CV 1/5] END ...n_neighbors=4, weights=distance;, score=0.972 total time=  10.2s\n",
      "[CV 2/5] END ...n_neighbors=4, weights=distance;, score=0.973 total time=  10.7s\n",
      "[CV 3/5] END ...n_neighbors=4, weights=distance;, score=0.971 total time=  10.8s\n",
      "[CV 4/5] END ...n_neighbors=4, weights=distance;, score=0.975 total time=  11.2s\n",
      "[CV 5/5] END ...n_neighbors=4, weights=distance;, score=0.974 total time=  10.5s\n",
      "[CV 1/5] END ....n_neighbors=5, weights=uniform;, score=0.967 total time=  10.9s\n",
      "[CV 2/5] END ....n_neighbors=5, weights=uniform;, score=0.969 total time=  10.8s\n",
      "[CV 3/5] END ....n_neighbors=5, weights=uniform;, score=0.968 total time=  10.6s\n",
      "[CV 4/5] END ....n_neighbors=5, weights=uniform;, score=0.972 total time=  10.8s\n",
      "[CV 5/5] END ....n_neighbors=5, weights=uniform;, score=0.972 total time=  10.8s\n",
      "[CV 1/5] END ...n_neighbors=5, weights=distance;, score=0.969 total time=  10.3s\n",
      "[CV 2/5] END ...n_neighbors=5, weights=distance;, score=0.971 total time=  10.4s\n",
      "[CV 3/5] END ...n_neighbors=5, weights=distance;, score=0.969 total time=  10.5s\n",
      "[CV 4/5] END ...n_neighbors=5, weights=distance;, score=0.973 total time=  10.7s\n",
      "[CV 5/5] END ...n_neighbors=5, weights=distance;, score=0.972 total time=  10.5s\n",
      "[CV 1/5] END ....n_neighbors=6, weights=uniform;, score=0.968 total time=  11.4s\n",
      "[CV 2/5] END ....n_neighbors=6, weights=uniform;, score=0.969 total time=  11.4s\n",
      "[CV 3/5] END ....n_neighbors=6, weights=uniform;, score=0.968 total time=  11.3s\n",
      "[CV 4/5] END ....n_neighbors=6, weights=uniform;, score=0.970 total time=  11.1s\n",
      "[CV 5/5] END ....n_neighbors=6, weights=uniform;, score=0.971 total time=  10.8s\n",
      "[CV 1/5] END ...n_neighbors=6, weights=distance;, score=0.970 total time=  10.3s\n",
      "[CV 2/5] END ...n_neighbors=6, weights=distance;, score=0.972 total time=  10.7s\n",
      "[CV 3/5] END ...n_neighbors=6, weights=distance;, score=0.971 total time=  10.5s\n",
      "[CV 4/5] END ...n_neighbors=6, weights=distance;, score=0.974 total time=  10.5s\n",
      "[CV 5/5] END ...n_neighbors=6, weights=distance;, score=0.974 total time=  10.5s\n",
      "[CV 1/5] END ....n_neighbors=7, weights=uniform;, score=0.967 total time=  10.9s\n",
      "[CV 2/5] END ....n_neighbors=7, weights=uniform;, score=0.969 total time=  11.1s\n",
      "[CV 3/5] END ....n_neighbors=7, weights=uniform;, score=0.967 total time=  10.6s\n",
      "[CV 4/5] END ....n_neighbors=7, weights=uniform;, score=0.971 total time=  10.8s\n",
      "[CV 5/5] END ....n_neighbors=7, weights=uniform;, score=0.971 total time=  10.6s\n",
      "[CV 1/5] END ...n_neighbors=7, weights=distance;, score=0.968 total time=  10.6s\n",
      "[CV 2/5] END ...n_neighbors=7, weights=distance;, score=0.970 total time=  11.4s\n",
      "[CV 3/5] END ...n_neighbors=7, weights=distance;, score=0.968 total time=  10.4s\n",
      "[CV 4/5] END ...n_neighbors=7, weights=distance;, score=0.972 total time=  10.5s\n",
      "[CV 5/5] END ...n_neighbors=7, weights=distance;, score=0.972 total time=  10.6s\n",
      "[CV 1/5] END ....n_neighbors=8, weights=uniform;, score=0.966 total time=  11.2s\n",
      "[CV 2/5] END ....n_neighbors=8, weights=uniform;, score=0.967 total time=  11.1s\n",
      "[CV 3/5] END ....n_neighbors=8, weights=uniform;, score=0.965 total time=  10.8s\n",
      "[CV 4/5] END ....n_neighbors=8, weights=uniform;, score=0.969 total time=  10.7s\n",
      "[CV 5/5] END ....n_neighbors=8, weights=uniform;, score=0.970 total time=  10.6s\n",
      "[CV 1/5] END ...n_neighbors=8, weights=distance;, score=0.970 total time=  10.4s\n",
      "[CV 2/5] END ...n_neighbors=8, weights=distance;, score=0.971 total time=  10.5s\n",
      "[CV 3/5] END ...n_neighbors=8, weights=distance;, score=0.968 total time=  11.0s\n",
      "[CV 4/5] END ...n_neighbors=8, weights=distance;, score=0.972 total time=  10.6s\n",
      "[CV 5/5] END ...n_neighbors=8, weights=distance;, score=0.973 total time=  12.9s\n",
      "[CV 1/5] END ....n_neighbors=9, weights=uniform;, score=0.967 total time=  11.4s\n",
      "[CV 2/5] END ....n_neighbors=9, weights=uniform;, score=0.967 total time=  12.3s\n",
      "[CV 3/5] END ....n_neighbors=9, weights=uniform;, score=0.965 total time=  11.4s\n",
      "[CV 4/5] END ....n_neighbors=9, weights=uniform;, score=0.969 total time=  11.9s\n",
      "[CV 5/5] END ....n_neighbors=9, weights=uniform;, score=0.969 total time=  12.0s\n",
      "[CV 1/5] END ...n_neighbors=9, weights=distance;, score=0.968 total time=  10.8s\n",
      "[CV 2/5] END ...n_neighbors=9, weights=distance;, score=0.969 total time=  11.1s\n",
      "[CV 3/5] END ...n_neighbors=9, weights=distance;, score=0.966 total time=  11.1s\n",
      "[CV 4/5] END ...n_neighbors=9, weights=distance;, score=0.971 total time=  10.5s\n",
      "[CV 5/5] END ...n_neighbors=9, weights=distance;, score=0.970 total time=  11.3s\n"
     ]
    },
    {
     "data": {
      "text/html": [
       "<style>#sk-container-id-1 {color: black;background-color: white;}#sk-container-id-1 pre{padding: 0;}#sk-container-id-1 div.sk-toggleable {background-color: white;}#sk-container-id-1 label.sk-toggleable__label {cursor: pointer;display: block;width: 100%;margin-bottom: 0;padding: 0.3em;box-sizing: border-box;text-align: center;}#sk-container-id-1 label.sk-toggleable__label-arrow:before {content: \"▸\";float: left;margin-right: 0.25em;color: #696969;}#sk-container-id-1 label.sk-toggleable__label-arrow:hover:before {color: black;}#sk-container-id-1 div.sk-estimator:hover label.sk-toggleable__label-arrow:before {color: black;}#sk-container-id-1 div.sk-toggleable__content {max-height: 0;max-width: 0;overflow: hidden;text-align: left;background-color: #f0f8ff;}#sk-container-id-1 div.sk-toggleable__content pre {margin: 0.2em;color: black;border-radius: 0.25em;background-color: #f0f8ff;}#sk-container-id-1 input.sk-toggleable__control:checked~div.sk-toggleable__content {max-height: 200px;max-width: 100%;overflow: auto;}#sk-container-id-1 input.sk-toggleable__control:checked~label.sk-toggleable__label-arrow:before {content: \"▾\";}#sk-container-id-1 div.sk-estimator input.sk-toggleable__control:checked~label.sk-toggleable__label {background-color: #d4ebff;}#sk-container-id-1 div.sk-label input.sk-toggleable__control:checked~label.sk-toggleable__label {background-color: #d4ebff;}#sk-container-id-1 input.sk-hidden--visually {border: 0;clip: rect(1px 1px 1px 1px);clip: rect(1px, 1px, 1px, 1px);height: 1px;margin: -1px;overflow: hidden;padding: 0;position: absolute;width: 1px;}#sk-container-id-1 div.sk-estimator {font-family: monospace;background-color: #f0f8ff;border: 1px dotted black;border-radius: 0.25em;box-sizing: border-box;margin-bottom: 0.5em;}#sk-container-id-1 div.sk-estimator:hover {background-color: #d4ebff;}#sk-container-id-1 div.sk-parallel-item::after {content: \"\";width: 100%;border-bottom: 1px solid gray;flex-grow: 1;}#sk-container-id-1 div.sk-label:hover label.sk-toggleable__label {background-color: #d4ebff;}#sk-container-id-1 div.sk-serial::before {content: \"\";position: absolute;border-left: 1px solid gray;box-sizing: border-box;top: 0;bottom: 0;left: 50%;z-index: 0;}#sk-container-id-1 div.sk-serial {display: flex;flex-direction: column;align-items: center;background-color: white;padding-right: 0.2em;padding-left: 0.2em;position: relative;}#sk-container-id-1 div.sk-item {position: relative;z-index: 1;}#sk-container-id-1 div.sk-parallel {display: flex;align-items: stretch;justify-content: center;background-color: white;position: relative;}#sk-container-id-1 div.sk-item::before, #sk-container-id-1 div.sk-parallel-item::before {content: \"\";position: absolute;border-left: 1px solid gray;box-sizing: border-box;top: 0;bottom: 0;left: 50%;z-index: -1;}#sk-container-id-1 div.sk-parallel-item {display: flex;flex-direction: column;z-index: 1;position: relative;background-color: white;}#sk-container-id-1 div.sk-parallel-item:first-child::after {align-self: flex-end;width: 50%;}#sk-container-id-1 div.sk-parallel-item:last-child::after {align-self: flex-start;width: 50%;}#sk-container-id-1 div.sk-parallel-item:only-child::after {width: 0;}#sk-container-id-1 div.sk-dashed-wrapped {border: 1px dashed gray;margin: 0 0.4em 0.5em 0.4em;box-sizing: border-box;padding-bottom: 0.4em;background-color: white;}#sk-container-id-1 div.sk-label label {font-family: monospace;font-weight: bold;display: inline-block;line-height: 1.2em;}#sk-container-id-1 div.sk-label-container {text-align: center;}#sk-container-id-1 div.sk-container {/* jupyter's `normalize.less` sets `[hidden] { display: none; }` but bootstrap.min.css set `[hidden] { display: none !important; }` so we also need the `!important` here to be able to override the default hidden behavior on the sphinx rendered scikit-learn.org. See: https://github.com/scikit-learn/scikit-learn/issues/21755 */display: inline-block !important;position: relative;}#sk-container-id-1 div.sk-text-repr-fallback {display: none;}</style><div id=\"sk-container-id-1\" class=\"sk-top-container\"><div class=\"sk-text-repr-fallback\"><pre>GridSearchCV(cv=5, estimator=KNeighborsClassifier(),\n",
       "             param_grid={&#x27;n_neighbors&#x27;: [1, 2, 3, 4, 5, 6, 7, 8, 9],\n",
       "                         &#x27;weights&#x27;: [&#x27;uniform&#x27;, &#x27;distance&#x27;]},\n",
       "             scoring=&#x27;accuracy&#x27;, verbose=3)</pre><b>In a Jupyter environment, please rerun this cell to show the HTML representation or trust the notebook. <br />On GitHub, the HTML representation is unable to render, please try loading this page with nbviewer.org.</b></div><div class=\"sk-container\" hidden><div class=\"sk-item sk-dashed-wrapped\"><div class=\"sk-label-container\"><div class=\"sk-label sk-toggleable\"><input class=\"sk-toggleable__control sk-hidden--visually\" id=\"sk-estimator-id-1\" type=\"checkbox\" ><label for=\"sk-estimator-id-1\" class=\"sk-toggleable__label sk-toggleable__label-arrow\">GridSearchCV</label><div class=\"sk-toggleable__content\"><pre>GridSearchCV(cv=5, estimator=KNeighborsClassifier(),\n",
       "             param_grid={&#x27;n_neighbors&#x27;: [1, 2, 3, 4, 5, 6, 7, 8, 9],\n",
       "                         &#x27;weights&#x27;: [&#x27;uniform&#x27;, &#x27;distance&#x27;]},\n",
       "             scoring=&#x27;accuracy&#x27;, verbose=3)</pre></div></div></div><div class=\"sk-parallel\"><div class=\"sk-parallel-item\"><div class=\"sk-item\"><div class=\"sk-label-container\"><div class=\"sk-label sk-toggleable\"><input class=\"sk-toggleable__control sk-hidden--visually\" id=\"sk-estimator-id-2\" type=\"checkbox\" ><label for=\"sk-estimator-id-2\" class=\"sk-toggleable__label sk-toggleable__label-arrow\">estimator: KNeighborsClassifier</label><div class=\"sk-toggleable__content\"><pre>KNeighborsClassifier()</pre></div></div></div><div class=\"sk-serial\"><div class=\"sk-item\"><div class=\"sk-estimator sk-toggleable\"><input class=\"sk-toggleable__control sk-hidden--visually\" id=\"sk-estimator-id-3\" type=\"checkbox\" ><label for=\"sk-estimator-id-3\" class=\"sk-toggleable__label sk-toggleable__label-arrow\">KNeighborsClassifier</label><div class=\"sk-toggleable__content\"><pre>KNeighborsClassifier()</pre></div></div></div></div></div></div></div></div></div></div>"
      ],
      "text/plain": [
       "GridSearchCV(cv=5, estimator=KNeighborsClassifier(),\n",
       "             param_grid={'n_neighbors': [1, 2, 3, 4, 5, 6, 7, 8, 9],\n",
       "                         'weights': ['uniform', 'distance']},\n",
       "             scoring='accuracy', verbose=3)"
      ]
     },
     "execution_count": 15,
     "metadata": {},
     "output_type": "execute_result"
    }
   ],
   "source": [
    "knn = GridSearchCV(KNeighborsClassifier(), param_grid={\"n_neighbors\":list(range(1, 10)), \"weights\":[\"uniform\", \"distance\"]}, cv=5, scoring=\"accuracy\", verbose=3)\n",
    "knn.fit(X_train, y_train)"
   ]
  },
  {
   "cell_type": "code",
   "execution_count": 16,
   "id": "5294db00",
   "metadata": {},
   "outputs": [
    {
     "name": "stdout",
     "output_type": "stream",
     "text": [
      "KNN best parameters: \n",
      "{'n_neighbors': 4, 'weights': 'distance'}\n"
     ]
    }
   ],
   "source": [
    "print(\"KNN best parameters: \")\n",
    "print(knn.best_params_)"
   ]
  },
  {
   "cell_type": "code",
   "execution_count": 17,
   "id": "0357e952",
   "metadata": {},
   "outputs": [
    {
     "data": {
      "text/html": [
       "<style>#sk-container-id-2 {color: black;background-color: white;}#sk-container-id-2 pre{padding: 0;}#sk-container-id-2 div.sk-toggleable {background-color: white;}#sk-container-id-2 label.sk-toggleable__label {cursor: pointer;display: block;width: 100%;margin-bottom: 0;padding: 0.3em;box-sizing: border-box;text-align: center;}#sk-container-id-2 label.sk-toggleable__label-arrow:before {content: \"▸\";float: left;margin-right: 0.25em;color: #696969;}#sk-container-id-2 label.sk-toggleable__label-arrow:hover:before {color: black;}#sk-container-id-2 div.sk-estimator:hover label.sk-toggleable__label-arrow:before {color: black;}#sk-container-id-2 div.sk-toggleable__content {max-height: 0;max-width: 0;overflow: hidden;text-align: left;background-color: #f0f8ff;}#sk-container-id-2 div.sk-toggleable__content pre {margin: 0.2em;color: black;border-radius: 0.25em;background-color: #f0f8ff;}#sk-container-id-2 input.sk-toggleable__control:checked~div.sk-toggleable__content {max-height: 200px;max-width: 100%;overflow: auto;}#sk-container-id-2 input.sk-toggleable__control:checked~label.sk-toggleable__label-arrow:before {content: \"▾\";}#sk-container-id-2 div.sk-estimator input.sk-toggleable__control:checked~label.sk-toggleable__label {background-color: #d4ebff;}#sk-container-id-2 div.sk-label input.sk-toggleable__control:checked~label.sk-toggleable__label {background-color: #d4ebff;}#sk-container-id-2 input.sk-hidden--visually {border: 0;clip: rect(1px 1px 1px 1px);clip: rect(1px, 1px, 1px, 1px);height: 1px;margin: -1px;overflow: hidden;padding: 0;position: absolute;width: 1px;}#sk-container-id-2 div.sk-estimator {font-family: monospace;background-color: #f0f8ff;border: 1px dotted black;border-radius: 0.25em;box-sizing: border-box;margin-bottom: 0.5em;}#sk-container-id-2 div.sk-estimator:hover {background-color: #d4ebff;}#sk-container-id-2 div.sk-parallel-item::after {content: \"\";width: 100%;border-bottom: 1px solid gray;flex-grow: 1;}#sk-container-id-2 div.sk-label:hover label.sk-toggleable__label {background-color: #d4ebff;}#sk-container-id-2 div.sk-serial::before {content: \"\";position: absolute;border-left: 1px solid gray;box-sizing: border-box;top: 0;bottom: 0;left: 50%;z-index: 0;}#sk-container-id-2 div.sk-serial {display: flex;flex-direction: column;align-items: center;background-color: white;padding-right: 0.2em;padding-left: 0.2em;position: relative;}#sk-container-id-2 div.sk-item {position: relative;z-index: 1;}#sk-container-id-2 div.sk-parallel {display: flex;align-items: stretch;justify-content: center;background-color: white;position: relative;}#sk-container-id-2 div.sk-item::before, #sk-container-id-2 div.sk-parallel-item::before {content: \"\";position: absolute;border-left: 1px solid gray;box-sizing: border-box;top: 0;bottom: 0;left: 50%;z-index: -1;}#sk-container-id-2 div.sk-parallel-item {display: flex;flex-direction: column;z-index: 1;position: relative;background-color: white;}#sk-container-id-2 div.sk-parallel-item:first-child::after {align-self: flex-end;width: 50%;}#sk-container-id-2 div.sk-parallel-item:last-child::after {align-self: flex-start;width: 50%;}#sk-container-id-2 div.sk-parallel-item:only-child::after {width: 0;}#sk-container-id-2 div.sk-dashed-wrapped {border: 1px dashed gray;margin: 0 0.4em 0.5em 0.4em;box-sizing: border-box;padding-bottom: 0.4em;background-color: white;}#sk-container-id-2 div.sk-label label {font-family: monospace;font-weight: bold;display: inline-block;line-height: 1.2em;}#sk-container-id-2 div.sk-label-container {text-align: center;}#sk-container-id-2 div.sk-container {/* jupyter's `normalize.less` sets `[hidden] { display: none; }` but bootstrap.min.css set `[hidden] { display: none !important; }` so we also need the `!important` here to be able to override the default hidden behavior on the sphinx rendered scikit-learn.org. See: https://github.com/scikit-learn/scikit-learn/issues/21755 */display: inline-block !important;position: relative;}#sk-container-id-2 div.sk-text-repr-fallback {display: none;}</style><div id=\"sk-container-id-2\" class=\"sk-top-container\"><div class=\"sk-text-repr-fallback\"><pre>KNeighborsClassifier(n_neighbors=4, weights=&#x27;distance&#x27;)</pre><b>In a Jupyter environment, please rerun this cell to show the HTML representation or trust the notebook. <br />On GitHub, the HTML representation is unable to render, please try loading this page with nbviewer.org.</b></div><div class=\"sk-container\" hidden><div class=\"sk-item\"><div class=\"sk-estimator sk-toggleable\"><input class=\"sk-toggleable__control sk-hidden--visually\" id=\"sk-estimator-id-4\" type=\"checkbox\" checked><label for=\"sk-estimator-id-4\" class=\"sk-toggleable__label sk-toggleable__label-arrow\">KNeighborsClassifier</label><div class=\"sk-toggleable__content\"><pre>KNeighborsClassifier(n_neighbors=4, weights=&#x27;distance&#x27;)</pre></div></div></div></div></div>"
      ],
      "text/plain": [
       "KNeighborsClassifier(n_neighbors=4, weights='distance')"
      ]
     },
     "execution_count": 17,
     "metadata": {},
     "output_type": "execute_result"
    }
   ],
   "source": [
    "best_knn = KNeighborsClassifier(n_neighbors=4, weights='distance')\n",
    "best_knn.fit(X_train_std, y_train)"
   ]
  },
  {
   "cell_type": "markdown",
   "id": "520121aa",
   "metadata": {},
   "source": [
    "#### Evaluate model on test set:"
   ]
  },
  {
   "cell_type": "code",
   "execution_count": 18,
   "id": "60663835",
   "metadata": {},
   "outputs": [
    {
     "name": "stdout",
     "output_type": "stream",
     "text": [
      "0.9748\n"
     ]
    }
   ],
   "source": [
    "y_pred_best_knn = best_knn.predict(X_test_std)\n",
    "best_knn_accuracy = best_knn.score(X_test_std, y_test)\n",
    "print(best_knn_accuracy)"
   ]
  },
  {
   "cell_type": "markdown",
   "id": "2b3b378b",
   "metadata": {},
   "source": [
    "We see that the KNN classifier achieves an accuracy of <b>97.48%</b> on the test dataset."
   ]
  },
  {
   "cell_type": "markdown",
   "id": "fb75585f",
   "metadata": {},
   "source": [
    "#### Classification report and confusion matrix:"
   ]
  },
  {
   "cell_type": "code",
   "execution_count": 19,
   "id": "5047132d",
   "metadata": {},
   "outputs": [
    {
     "name": "stdout",
     "output_type": "stream",
     "text": [
      "\n",
      "\n",
      "\n",
      "\n",
      "Classification Report for KNN classifier: \n",
      "\n",
      "              precision    recall  f1-score   support\n",
      "\n",
      "           0       0.99      0.99      0.99       959\n",
      "           1       0.97      1.00      0.98      1186\n",
      "           2       0.99      0.97      0.98      1035\n",
      "           3       0.98      0.96      0.97      1031\n",
      "           4       0.98      0.97      0.97       941\n",
      "           5       0.97      0.97      0.97       930\n",
      "           6       0.98      0.99      0.99       942\n",
      "           7       0.96      0.98      0.97      1050\n",
      "           8       0.99      0.95      0.97       936\n",
      "           9       0.95      0.97      0.96       990\n",
      "\n",
      "    accuracy                           0.97     10000\n",
      "   macro avg       0.98      0.97      0.97     10000\n",
      "weighted avg       0.98      0.97      0.97     10000\n",
      "\n",
      "\n",
      "\n",
      "\n",
      "Confusion Matrix for KNN classifier: \n",
      "\n"
     ]
    },
    {
     "data": {
      "image/png": "[encoded data removed]",
      "text/plain": [
       "<Figure size 600x600 with 1 Axes>"
      ]
     },
     "metadata": {},
     "output_type": "display_data"
    }
   ],
   "source": [
    "print('\\n\\n\\n')\n",
    "print('Classification Report for KNN classifier: \\n')\n",
    "print(classification_report(y_test, y_pred_best_knn))\n",
    "print('\\n\\n')\n",
    "print('Confusion Matrix for KNN classifier: \\n')\n",
    "plt.figure(figsize=(6,6))\n",
    "sns.heatmap(confusion_matrix(y_test, y_pred_best_knn), annot=True, fmt='g', cmap='Blues', cbar=False)\n",
    "plt.show()"
   ]
  },
  {
   "cell_type": "markdown",
   "id": "cb3c5203",
   "metadata": {},
   "source": [
    "#### Misclassification analysis:"
   ]
  },
  {
   "cell_type": "markdown",
   "id": "2ba40b42",
   "metadata": {},
   "source": [
    "Let's take a look at some of the misclassified samples along with their true label:"
   ]
  },
  {
   "cell_type": "code",
   "execution_count": 20,
   "id": "57fa8e86",
   "metadata": {},
   "outputs": [],
   "source": [
    "correct_pred = np.asarray(y_test == y_pred_best_knn)\n",
    "misclassified = np.where(correct_pred == False)[0]"
   ]
  },
  {
   "cell_type": "code",
   "execution_count": 21,
   "id": "ef8ef6c4",
   "metadata": {},
   "outputs": [
    {
     "data": {
      "image/png": "[encoded data removed]",
      "text/plain": [
       "<Figure size 400x400 with 1 Axes>"
      ]
     },
     "metadata": {},
     "output_type": "display_data"
    },
    {
     "data": {
      "image/png": "[encoded data removed]",
      "text/plain": [
       "<Figure size 400x400 with 1 Axes>"
      ]
     },
     "metadata": {},
     "output_type": "display_data"
    },
    {
     "data": {
      "image/png": "[encoded data removed]",
      "text/plain": [
       "<Figure size 400x400 with 1 Axes>"
      ]
     },
     "metadata": {},
     "output_type": "display_data"
    }
   ],
   "source": [
    "for i in range(3):\n",
    "    image_idx = misclassified[i]\n",
    "    plt.figure(figsize=(4,4))\n",
    "    plt.imshow(X_test[image_idx].reshape(28, 28), cmap=\"binary\")\n",
    "    plt.title('Predicted: ' + str(y_pred_best_knn[image_idx]) + ', True label: ' + str(np.asarray(y_test)[image_idx]))\n",
    "    plt.show()\n"
   ]
  },
  {
   "cell_type": "code",
   "execution_count": null,
   "id": "d30832c7",
   "metadata": {},
   "outputs": [],
   "source": []
  },
  {
   "cell_type": "markdown",
   "id": "10a619ca",
   "metadata": {},
   "source": [
    "## 2. Random Forest Classifier"
   ]
  },
  {
   "cell_type": "markdown",
   "id": "5cc1874c",
   "metadata": {},
   "source": [
    "#### Training model:"
   ]
  },
  {
   "cell_type": "markdown",
   "id": "7cda5d0d",
   "metadata": {},
   "source": [
    "We can perform 5-fold cross-validation to find the optimal value of hyperparameter n_estimators:"
   ]
  },
  {
   "cell_type": "code",
   "execution_count": 22,
   "id": "1f81c04c",
   "metadata": {},
   "outputs": [
    {
     "data": {
      "text/html": [
       "<style>#sk-container-id-3 {color: black;background-color: white;}#sk-container-id-3 pre{padding: 0;}#sk-container-id-3 div.sk-toggleable {background-color: white;}#sk-container-id-3 label.sk-toggleable__label {cursor: pointer;display: block;width: 100%;margin-bottom: 0;padding: 0.3em;box-sizing: border-box;text-align: center;}#sk-container-id-3 label.sk-toggleable__label-arrow:before {content: \"▸\";float: left;margin-right: 0.25em;color: #696969;}#sk-container-id-3 label.sk-toggleable__label-arrow:hover:before {color: black;}#sk-container-id-3 div.sk-estimator:hover label.sk-toggleable__label-arrow:before {color: black;}#sk-container-id-3 div.sk-toggleable__content {max-height: 0;max-width: 0;overflow: hidden;text-align: left;background-color: #f0f8ff;}#sk-container-id-3 div.sk-toggleable__content pre {margin: 0.2em;color: black;border-radius: 0.25em;background-color: #f0f8ff;}#sk-container-id-3 input.sk-toggleable__control:checked~div.sk-toggleable__content {max-height: 200px;max-width: 100%;overflow: auto;}#sk-container-id-3 input.sk-toggleable__control:checked~label.sk-toggleable__label-arrow:before {content: \"▾\";}#sk-container-id-3 div.sk-estimator input.sk-toggleable__control:checked~label.sk-toggleable__label {background-color: #d4ebff;}#sk-container-id-3 div.sk-label input.sk-toggleable__control:checked~label.sk-toggleable__label {background-color: #d4ebff;}#sk-container-id-3 input.sk-hidden--visually {border: 0;clip: rect(1px 1px 1px 1px);clip: rect(1px, 1px, 1px, 1px);height: 1px;margin: -1px;overflow: hidden;padding: 0;position: absolute;width: 1px;}#sk-container-id-3 div.sk-estimator {font-family: monospace;background-color: #f0f8ff;border: 1px dotted black;border-radius: 0.25em;box-sizing: border-box;margin-bottom: 0.5em;}#sk-container-id-3 div.sk-estimator:hover {background-color: #d4ebff;}#sk-container-id-3 div.sk-parallel-item::after {content: \"\";width: 100%;border-bottom: 1px solid gray;flex-grow: 1;}#sk-container-id-3 div.sk-label:hover label.sk-toggleable__label {background-color: #d4ebff;}#sk-container-id-3 div.sk-serial::before {content: \"\";position: absolute;border-left: 1px solid gray;box-sizing: border-box;top: 0;bottom: 0;left: 50%;z-index: 0;}#sk-container-id-3 div.sk-serial {display: flex;flex-direction: column;align-items: center;background-color: white;padding-right: 0.2em;padding-left: 0.2em;position: relative;}#sk-container-id-3 div.sk-item {position: relative;z-index: 1;}#sk-container-id-3 div.sk-parallel {display: flex;align-items: stretch;justify-content: center;background-color: white;position: relative;}#sk-container-id-3 div.sk-item::before, #sk-container-id-3 div.sk-parallel-item::before {content: \"\";position: absolute;border-left: 1px solid gray;box-sizing: border-box;top: 0;bottom: 0;left: 50%;z-index: -1;}#sk-container-id-3 div.sk-parallel-item {display: flex;flex-direction: column;z-index: 1;position: relative;background-color: white;}#sk-container-id-3 div.sk-parallel-item:first-child::after {align-self: flex-end;width: 50%;}#sk-container-id-3 div.sk-parallel-item:last-child::after {align-self: flex-start;width: 50%;}#sk-container-id-3 div.sk-parallel-item:only-child::after {width: 0;}#sk-container-id-3 div.sk-dashed-wrapped {border: 1px dashed gray;margin: 0 0.4em 0.5em 0.4em;box-sizing: border-box;padding-bottom: 0.4em;background-color: white;}#sk-container-id-3 div.sk-label label {font-family: monospace;font-weight: bold;display: inline-block;line-height: 1.2em;}#sk-container-id-3 div.sk-label-container {text-align: center;}#sk-container-id-3 div.sk-container {/* jupyter's `normalize.less` sets `[hidden] { display: none; }` but bootstrap.min.css set `[hidden] { display: none !important; }` so we also need the `!important` here to be able to override the default hidden behavior on the sphinx rendered scikit-learn.org. See: https://github.com/scikit-learn/scikit-learn/issues/21755 */display: inline-block !important;position: relative;}#sk-container-id-3 div.sk-text-repr-fallback {display: none;}</style><div id=\"sk-container-id-3\" class=\"sk-top-container\"><div class=\"sk-text-repr-fallback\"><pre>GridSearchCV(cv=5, estimator=RandomForestClassifier(),\n",
       "             param_grid={&#x27;n_estimators&#x27;: [10, 50, 100]}, scoring=&#x27;accuracy&#x27;)</pre><b>In a Jupyter environment, please rerun this cell to show the HTML representation or trust the notebook. <br />On GitHub, the HTML representation is unable to render, please try loading this page with nbviewer.org.</b></div><div class=\"sk-container\" hidden><div class=\"sk-item sk-dashed-wrapped\"><div class=\"sk-label-container\"><div class=\"sk-label sk-toggleable\"><input class=\"sk-toggleable__control sk-hidden--visually\" id=\"sk-estimator-id-5\" type=\"checkbox\" ><label for=\"sk-estimator-id-5\" class=\"sk-toggleable__label sk-toggleable__label-arrow\">GridSearchCV</label><div class=\"sk-toggleable__content\"><pre>GridSearchCV(cv=5, estimator=RandomForestClassifier(),\n",
       "             param_grid={&#x27;n_estimators&#x27;: [10, 50, 100]}, scoring=&#x27;accuracy&#x27;)</pre></div></div></div><div class=\"sk-parallel\"><div class=\"sk-parallel-item\"><div class=\"sk-item\"><div class=\"sk-label-container\"><div class=\"sk-label sk-toggleable\"><input class=\"sk-toggleable__control sk-hidden--visually\" id=\"sk-estimator-id-6\" type=\"checkbox\" ><label for=\"sk-estimator-id-6\" class=\"sk-toggleable__label sk-toggleable__label-arrow\">estimator: RandomForestClassifier</label><div class=\"sk-toggleable__content\"><pre>RandomForestClassifier()</pre></div></div></div><div class=\"sk-serial\"><div class=\"sk-item\"><div class=\"sk-estimator sk-toggleable\"><input class=\"sk-toggleable__control sk-hidden--visually\" id=\"sk-estimator-id-7\" type=\"checkbox\" ><label for=\"sk-estimator-id-7\" class=\"sk-toggleable__label sk-toggleable__label-arrow\">RandomForestClassifier</label><div class=\"sk-toggleable__content\"><pre>RandomForestClassifier()</pre></div></div></div></div></div></div></div></div></div></div>"
      ],
      "text/plain": [
       "GridSearchCV(cv=5, estimator=RandomForestClassifier(),\n",
       "             param_grid={'n_estimators': [10, 50, 100]}, scoring='accuracy')"
      ]
     },
     "execution_count": 22,
     "metadata": {},
     "output_type": "execute_result"
    }
   ],
   "source": [
    "rfc = GridSearchCV(RandomForestClassifier(), param_grid={\"n_estimators\":[10, 50, 100]}, cv=5, scoring=\"accuracy\")\n",
    "rfc.fit(X_train_std, y_train)"
   ]
  },
  {
   "cell_type": "code",
   "execution_count": 23,
   "id": "03f0c3e7",
   "metadata": {},
   "outputs": [
    {
     "name": "stdout",
     "output_type": "stream",
     "text": [
      "RFC best parameters: \n",
      "{'n_estimators': 100}\n"
     ]
    }
   ],
   "source": [
    "print(\"RFC best parameters: \")\n",
    "print(rfc.best_params_)"
   ]
  },
  {
   "cell_type": "code",
   "execution_count": 24,
   "id": "47330f42",
   "metadata": {},
   "outputs": [
    {
     "data": {
      "text/html": [
       "<style>#sk-container-id-4 {color: black;background-color: white;}#sk-container-id-4 pre{padding: 0;}#sk-container-id-4 div.sk-toggleable {background-color: white;}#sk-container-id-4 label.sk-toggleable__label {cursor: pointer;display: block;width: 100%;margin-bottom: 0;padding: 0.3em;box-sizing: border-box;text-align: center;}#sk-container-id-4 label.sk-toggleable__label-arrow:before {content: \"▸\";float: left;margin-right: 0.25em;color: #696969;}#sk-container-id-4 label.sk-toggleable__label-arrow:hover:before {color: black;}#sk-container-id-4 div.sk-estimator:hover label.sk-toggleable__label-arrow:before {color: black;}#sk-container-id-4 div.sk-toggleable__content {max-height: 0;max-width: 0;overflow: hidden;text-align: left;background-color: #f0f8ff;}#sk-container-id-4 div.sk-toggleable__content pre {margin: 0.2em;color: black;border-radius: 0.25em;background-color: #f0f8ff;}#sk-container-id-4 input.sk-toggleable__control:checked~div.sk-toggleable__content {max-height: 200px;max-width: 100%;overflow: auto;}#sk-container-id-4 input.sk-toggleable__control:checked~label.sk-toggleable__label-arrow:before {content: \"▾\";}#sk-container-id-4 div.sk-estimator input.sk-toggleable__control:checked~label.sk-toggleable__label {background-color: #d4ebff;}#sk-container-id-4 div.sk-label input.sk-toggleable__control:checked~label.sk-toggleable__label {background-color: #d4ebff;}#sk-container-id-4 input.sk-hidden--visually {border: 0;clip: rect(1px 1px 1px 1px);clip: rect(1px, 1px, 1px, 1px);height: 1px;margin: -1px;overflow: hidden;padding: 0;position: absolute;width: 1px;}#sk-container-id-4 div.sk-estimator {font-family: monospace;background-color: #f0f8ff;border: 1px dotted black;border-radius: 0.25em;box-sizing: border-box;margin-bottom: 0.5em;}#sk-container-id-4 div.sk-estimator:hover {background-color: #d4ebff;}#sk-container-id-4 div.sk-parallel-item::after {content: \"\";width: 100%;border-bottom: 1px solid gray;flex-grow: 1;}#sk-container-id-4 div.sk-label:hover label.sk-toggleable__label {background-color: #d4ebff;}#sk-container-id-4 div.sk-serial::before {content: \"\";position: absolute;border-left: 1px solid gray;box-sizing: border-box;top: 0;bottom: 0;left: 50%;z-index: 0;}#sk-container-id-4 div.sk-serial {display: flex;flex-direction: column;align-items: center;background-color: white;padding-right: 0.2em;padding-left: 0.2em;position: relative;}#sk-container-id-4 div.sk-item {position: relative;z-index: 1;}#sk-container-id-4 div.sk-parallel {display: flex;align-items: stretch;justify-content: center;background-color: white;position: relative;}#sk-container-id-4 div.sk-item::before, #sk-container-id-4 div.sk-parallel-item::before {content: \"\";position: absolute;border-left: 1px solid gray;box-sizing: border-box;top: 0;bottom: 0;left: 50%;z-index: -1;}#sk-container-id-4 div.sk-parallel-item {display: flex;flex-direction: column;z-index: 1;position: relative;background-color: white;}#sk-container-id-4 div.sk-parallel-item:first-child::after {align-self: flex-end;width: 50%;}#sk-container-id-4 div.sk-parallel-item:last-child::after {align-self: flex-start;width: 50%;}#sk-container-id-4 div.sk-parallel-item:only-child::after {width: 0;}#sk-container-id-4 div.sk-dashed-wrapped {border: 1px dashed gray;margin: 0 0.4em 0.5em 0.4em;box-sizing: border-box;padding-bottom: 0.4em;background-color: white;}#sk-container-id-4 div.sk-label label {font-family: monospace;font-weight: bold;display: inline-block;line-height: 1.2em;}#sk-container-id-4 div.sk-label-container {text-align: center;}#sk-container-id-4 div.sk-container {/* jupyter's `normalize.less` sets `[hidden] { display: none; }` but bootstrap.min.css set `[hidden] { display: none !important; }` so we also need the `!important` here to be able to override the default hidden behavior on the sphinx rendered scikit-learn.org. See: https://github.com/scikit-learn/scikit-learn/issues/21755 */display: inline-block !important;position: relative;}#sk-container-id-4 div.sk-text-repr-fallback {display: none;}</style><div id=\"sk-container-id-4\" class=\"sk-top-container\"><div class=\"sk-text-repr-fallback\"><pre>RandomForestClassifier()</pre><b>In a Jupyter environment, please rerun this cell to show the HTML representation or trust the notebook. <br />On GitHub, the HTML representation is unable to render, please try loading this page with nbviewer.org.</b></div><div class=\"sk-container\" hidden><div class=\"sk-item\"><div class=\"sk-estimator sk-toggleable\"><input class=\"sk-toggleable__control sk-hidden--visually\" id=\"sk-estimator-id-8\" type=\"checkbox\" checked><label for=\"sk-estimator-id-8\" class=\"sk-toggleable__label sk-toggleable__label-arrow\">RandomForestClassifier</label><div class=\"sk-toggleable__content\"><pre>RandomForestClassifier()</pre></div></div></div></div></div>"
      ],
      "text/plain": [
       "RandomForestClassifier()"
      ]
     },
     "execution_count": 24,
     "metadata": {},
     "output_type": "execute_result"
    }
   ],
   "source": [
    "best_rfc = RandomForestClassifier(n_estimators=100)\n",
    "best_rfc.fit(X_train_std, y_train)"
   ]
  },
  {
   "cell_type": "markdown",
   "id": "3091fbc0",
   "metadata": {},
   "source": [
    "#### Evaluate model on test set:"
   ]
  },
  {
   "cell_type": "code",
   "execution_count": 25,
   "id": "99dfec19",
   "metadata": {},
   "outputs": [
    {
     "name": "stdout",
     "output_type": "stream",
     "text": [
      "0.9684\n"
     ]
    }
   ],
   "source": [
    "y_pred_best_rfc = best_rfc.predict(X_test_std)\n",
    "best_rfc_accuracy = best_rfc.score(X_test_std, y_test)\n",
    "print(best_rfc_accuracy)"
   ]
  },
  {
   "cell_type": "markdown",
   "id": "16848c1a",
   "metadata": {},
   "source": [
    "Our random forest classifier achieves an accuracy of <b>96.84%</b> on the test dataset."
   ]
  },
  {
   "cell_type": "markdown",
   "id": "283d90f3",
   "metadata": {},
   "source": [
    "#### Classification report and confusion matrix:"
   ]
  },
  {
   "cell_type": "code",
   "execution_count": 26,
   "id": "def6091a",
   "metadata": {},
   "outputs": [
    {
     "name": "stdout",
     "output_type": "stream",
     "text": [
      "\n",
      "\n",
      "\n",
      "\n",
      "Classification Report for Random Forest classifier: \n",
      "\n",
      "              precision    recall  f1-score   support\n",
      "\n",
      "           0       0.98      0.98      0.98       959\n",
      "           1       0.98      0.98      0.98      1186\n",
      "           2       0.97      0.97      0.97      1035\n",
      "           3       0.97      0.94      0.96      1031\n",
      "           4       0.97      0.96      0.97       941\n",
      "           5       0.97      0.97      0.97       930\n",
      "           6       0.97      0.99      0.98       942\n",
      "           7       0.96      0.98      0.97      1050\n",
      "           8       0.96      0.95      0.95       936\n",
      "           9       0.94      0.96      0.95       990\n",
      "\n",
      "    accuracy                           0.97     10000\n",
      "   macro avg       0.97      0.97      0.97     10000\n",
      "weighted avg       0.97      0.97      0.97     10000\n",
      "\n",
      "\n",
      "\n",
      "\n",
      "Confusion Matrix for Random Forest classifier: \n",
      "\n"
     ]
    },
    {
     "data": {
      "image/png": "[encoded data removed]",
      "text/plain": [
       "<Figure size 600x600 with 1 Axes>"
      ]
     },
     "metadata": {},
     "output_type": "display_data"
    }
   ],
   "source": [
    "print('\\n\\n\\n')\n",
    "print('Classification Report for Random Forest classifier: \\n')\n",
    "print(classification_report(y_test, y_pred_best_rfc))\n",
    "print('\\n\\n')\n",
    "print('Confusion Matrix for Random Forest classifier: \\n')\n",
    "plt.figure(figsize=(6,6))\n",
    "sns.heatmap(confusion_matrix(y_test, y_pred_best_rfc), annot=True, fmt='g', cmap='Blues', cbar=False)\n",
    "plt.show()"
   ]
  },
  {
   "cell_type": "code",
   "execution_count": null,
   "id": "18071b90",
   "metadata": {},
   "outputs": [],
   "source": []
  },
  {
   "cell_type": "markdown",
   "id": "7cbb3437",
   "metadata": {},
   "source": [
    "## 3. Logistic Regression:"
   ]
  },
  {
   "cell_type": "markdown",
   "id": "9c218c9a",
   "metadata": {},
   "source": [
    "#### Training model:"
   ]
  },
  {
   "cell_type": "code",
   "execution_count": 27,
   "id": "18c3da5b",
   "metadata": {},
   "outputs": [
    {
     "data": {
      "text/html": [
       "<style>#sk-container-id-5 {color: black;background-color: white;}#sk-container-id-5 pre{padding: 0;}#sk-container-id-5 div.sk-toggleable {background-color: white;}#sk-container-id-5 label.sk-toggleable__label {cursor: pointer;display: block;width: 100%;margin-bottom: 0;padding: 0.3em;box-sizing: border-box;text-align: center;}#sk-container-id-5 label.sk-toggleable__label-arrow:before {content: \"▸\";float: left;margin-right: 0.25em;color: #696969;}#sk-container-id-5 label.sk-toggleable__label-arrow:hover:before {color: black;}#sk-container-id-5 div.sk-estimator:hover label.sk-toggleable__label-arrow:before {color: black;}#sk-container-id-5 div.sk-toggleable__content {max-height: 0;max-width: 0;overflow: hidden;text-align: left;background-color: #f0f8ff;}#sk-container-id-5 div.sk-toggleable__content pre {margin: 0.2em;color: black;border-radius: 0.25em;background-color: #f0f8ff;}#sk-container-id-5 input.sk-toggleable__control:checked~div.sk-toggleable__content {max-height: 200px;max-width: 100%;overflow: auto;}#sk-container-id-5 input.sk-toggleable__control:checked~label.sk-toggleable__label-arrow:before {content: \"▾\";}#sk-container-id-5 div.sk-estimator input.sk-toggleable__control:checked~label.sk-toggleable__label {background-color: #d4ebff;}#sk-container-id-5 div.sk-label input.sk-toggleable__control:checked~label.sk-toggleable__label {background-color: #d4ebff;}#sk-container-id-5 input.sk-hidden--visually {border: 0;clip: rect(1px 1px 1px 1px);clip: rect(1px, 1px, 1px, 1px);height: 1px;margin: -1px;overflow: hidden;padding: 0;position: absolute;width: 1px;}#sk-container-id-5 div.sk-estimator {font-family: monospace;background-color: #f0f8ff;border: 1px dotted black;border-radius: 0.25em;box-sizing: border-box;margin-bottom: 0.5em;}#sk-container-id-5 div.sk-estimator:hover {background-color: #d4ebff;}#sk-container-id-5 div.sk-parallel-item::after {content: \"\";width: 100%;border-bottom: 1px solid gray;flex-grow: 1;}#sk-container-id-5 div.sk-label:hover label.sk-toggleable__label {background-color: #d4ebff;}#sk-container-id-5 div.sk-serial::before {content: \"\";position: absolute;border-left: 1px solid gray;box-sizing: border-box;top: 0;bottom: 0;left: 50%;z-index: 0;}#sk-container-id-5 div.sk-serial {display: flex;flex-direction: column;align-items: center;background-color: white;padding-right: 0.2em;padding-left: 0.2em;position: relative;}#sk-container-id-5 div.sk-item {position: relative;z-index: 1;}#sk-container-id-5 div.sk-parallel {display: flex;align-items: stretch;justify-content: center;background-color: white;position: relative;}#sk-container-id-5 div.sk-item::before, #sk-container-id-5 div.sk-parallel-item::before {content: \"\";position: absolute;border-left: 1px solid gray;box-sizing: border-box;top: 0;bottom: 0;left: 50%;z-index: -1;}#sk-container-id-5 div.sk-parallel-item {display: flex;flex-direction: column;z-index: 1;position: relative;background-color: white;}#sk-container-id-5 div.sk-parallel-item:first-child::after {align-self: flex-end;width: 50%;}#sk-container-id-5 div.sk-parallel-item:last-child::after {align-self: flex-start;width: 50%;}#sk-container-id-5 div.sk-parallel-item:only-child::after {width: 0;}#sk-container-id-5 div.sk-dashed-wrapped {border: 1px dashed gray;margin: 0 0.4em 0.5em 0.4em;box-sizing: border-box;padding-bottom: 0.4em;background-color: white;}#sk-container-id-5 div.sk-label label {font-family: monospace;font-weight: bold;display: inline-block;line-height: 1.2em;}#sk-container-id-5 div.sk-label-container {text-align: center;}#sk-container-id-5 div.sk-container {/* jupyter's `normalize.less` sets `[hidden] { display: none; }` but bootstrap.min.css set `[hidden] { display: none !important; }` so we also need the `!important` here to be able to override the default hidden behavior on the sphinx rendered scikit-learn.org. See: https://github.com/scikit-learn/scikit-learn/issues/21755 */display: inline-block !important;position: relative;}#sk-container-id-5 div.sk-text-repr-fallback {display: none;}</style><div id=\"sk-container-id-5\" class=\"sk-top-container\"><div class=\"sk-text-repr-fallback\"><pre>LogisticRegression(max_iter=3000, multi_class=&#x27;multinomial&#x27;)</pre><b>In a Jupyter environment, please rerun this cell to show the HTML representation or trust the notebook. <br />On GitHub, the HTML representation is unable to render, please try loading this page with nbviewer.org.</b></div><div class=\"sk-container\" hidden><div class=\"sk-item\"><div class=\"sk-estimator sk-toggleable\"><input class=\"sk-toggleable__control sk-hidden--visually\" id=\"sk-estimator-id-9\" type=\"checkbox\" checked><label for=\"sk-estimator-id-9\" class=\"sk-toggleable__label sk-toggleable__label-arrow\">LogisticRegression</label><div class=\"sk-toggleable__content\"><pre>LogisticRegression(max_iter=3000, multi_class=&#x27;multinomial&#x27;)</pre></div></div></div></div></div>"
      ],
      "text/plain": [
       "LogisticRegression(max_iter=3000, multi_class='multinomial')"
      ]
     },
     "execution_count": 27,
     "metadata": {},
     "output_type": "execute_result"
    }
   ],
   "source": [
    "lr = LogisticRegression(multi_class=\"multinomial\", solver='lbfgs', max_iter=3000)\n",
    "lr.fit(X_train_std, y_train)"
   ]
  },
  {
   "cell_type": "markdown",
   "id": "9f8a1db8",
   "metadata": {},
   "source": [
    "#### Evaluate model on test set:"
   ]
  },
  {
   "cell_type": "code",
   "execution_count": 28,
   "id": "db65bcd6",
   "metadata": {},
   "outputs": [
    {
     "name": "stdout",
     "output_type": "stream",
     "text": [
      "0.918\n"
     ]
    }
   ],
   "source": [
    "y_pred_lr = lr.predict(X_test_std)\n",
    "lr_accuracy = lr.score(X_test_std, y_test)\n",
    "print(lr_accuracy)"
   ]
  },
  {
   "cell_type": "markdown",
   "id": "3d74e469",
   "metadata": {},
   "source": [
    "Logistic regression achieves an accuracy of <b>91.8%</b> on the test dataset. We see that both random forest and KNN classifiers perform better for this task."
   ]
  },
  {
   "cell_type": "markdown",
   "id": "6f40ae04",
   "metadata": {},
   "source": [
    "#### Classification report and confusion matrix:"
   ]
  },
  {
   "cell_type": "code",
   "execution_count": 29,
   "id": "cb984639",
   "metadata": {},
   "outputs": [
    {
     "name": "stdout",
     "output_type": "stream",
     "text": [
      "\n",
      "\n",
      "\n",
      "\n",
      "Classification Report for logistic regression: \n",
      "\n",
      "              precision    recall  f1-score   support\n",
      "\n",
      "           0       0.96      0.96      0.96       959\n",
      "           1       0.96      0.98      0.97      1186\n",
      "           2       0.93      0.90      0.91      1035\n",
      "           3       0.90      0.89      0.89      1031\n",
      "           4       0.91      0.91      0.91       941\n",
      "           5       0.89      0.87      0.88       930\n",
      "           6       0.94      0.95      0.94       942\n",
      "           7       0.93      0.93      0.93      1050\n",
      "           8       0.88      0.87      0.87       936\n",
      "           9       0.88      0.91      0.89       990\n",
      "\n",
      "    accuracy                           0.92     10000\n",
      "   macro avg       0.92      0.92      0.92     10000\n",
      "weighted avg       0.92      0.92      0.92     10000\n",
      "\n",
      "\n",
      "\n",
      "\n",
      "Confusion Matrix for logistic regrssion: \n",
      "\n"
     ]
    },
    {
     "data": {
      "image/png": "[encoded data removed]",
      "text/plain": [
       "<Figure size 600x600 with 1 Axes>"
      ]
     },
     "metadata": {},
     "output_type": "display_data"
    }
   ],
   "source": [
    "print('\\n\\n\\n')\n",
    "print('Classification Report for logistic regression: \\n')\n",
    "print(classification_report(y_test, y_pred_lr))\n",
    "print('\\n\\n')\n",
    "print('Confusion Matrix for logistic regrssion: \\n')\n",
    "plt.figure(figsize=(6,6))\n",
    "sns.heatmap(confusion_matrix(y_test, y_pred_lr), annot=True, fmt='g', cmap='Blues', cbar=False)\n",
    "plt.show()"
   ]
  },
  {
   "cell_type": "code",
   "execution_count": null,
   "id": "b36a9187",
   "metadata": {},
   "outputs": [],
   "source": []
  },
  {
   "cell_type": "markdown",
   "id": "c027b694",
   "metadata": {},
   "source": [
    "## 4. XGBoost Classifier"
   ]
  },
  {
   "cell_type": "markdown",
   "id": "23cc14d5",
   "metadata": {},
   "source": [
    "#### Training model:"
   ]
  },
  {
   "cell_type": "markdown",
   "id": "e385d847",
   "metadata": {},
   "source": [
    "We can perform 5-fold cross-validation to find the optimal values of learning_rate, max_depth, and min_child_weight:"
   ]
  },
  {
   "cell_type": "code",
   "execution_count": 30,
   "id": "be74284e",
   "metadata": {},
   "outputs": [
    {
     "name": "stdout",
     "output_type": "stream",
     "text": [
      "Fitting 5 folds for each of 48 candidates, totalling 240 fits\n",
      "[CV 1/5] END learning_rate=0.3, max_depth=2, min_child_weight=1;, score=0.939 total time= 2.0min\n",
      "[CV 2/5] END learning_rate=0.3, max_depth=2, min_child_weight=1;, score=0.939 total time= 2.1min\n",
      "[CV 3/5] END learning_rate=0.3, max_depth=2, min_child_weight=1;, score=0.938 total time= 2.1min\n",
      "[CV 4/5] END learning_rate=0.3, max_depth=2, min_child_weight=1;, score=0.939 total time= 2.1min\n",
      "[CV 5/5] END learning_rate=0.3, max_depth=2, min_child_weight=1;, score=0.939 total time= 2.0min\n",
      "[CV 1/5] END learning_rate=0.3, max_depth=2, min_child_weight=2;, score=0.938 total time= 2.0min\n",
      "[CV 2/5] END learning_rate=0.3, max_depth=2, min_child_weight=2;, score=0.937 total time= 2.1min\n",
      "[CV 3/5] END learning_rate=0.3, max_depth=2, min_child_weight=2;, score=0.938 total time= 2.1min\n",
      "[CV 4/5] END learning_rate=0.3, max_depth=2, min_child_weight=2;, score=0.937 total time= 2.1min\n",
      "[CV 5/5] END learning_rate=0.3, max_depth=2, min_child_weight=2;, score=0.939 total time= 2.0min\n",
      "[CV 1/5] END learning_rate=0.3, max_depth=2, min_child_weight=4;, score=0.939 total time= 2.1min\n",
      "[CV 2/5] END learning_rate=0.3, max_depth=2, min_child_weight=4;, score=0.937 total time= 2.0min\n",
      "[CV 3/5] END learning_rate=0.3, max_depth=2, min_child_weight=4;, score=0.939 total time= 2.0min\n",
      "[CV 4/5] END learning_rate=0.3, max_depth=2, min_child_weight=4;, score=0.937 total time= 2.0min\n",
      "[CV 5/5] END learning_rate=0.3, max_depth=2, min_child_weight=4;, score=0.940 total time= 2.0min\n",
      "[CV 1/5] END learning_rate=0.3, max_depth=2, min_child_weight=8;, score=0.938 total time= 2.1min\n",
      "[CV 2/5] END learning_rate=0.3, max_depth=2, min_child_weight=8;, score=0.938 total time= 2.0min\n",
      "[CV 3/5] END learning_rate=0.3, max_depth=2, min_child_weight=8;, score=0.938 total time= 2.0min\n",
      "[CV 4/5] END learning_rate=0.3, max_depth=2, min_child_weight=8;, score=0.940 total time= 2.0min\n",
      "[CV 5/5] END learning_rate=0.3, max_depth=2, min_child_weight=8;, score=0.940 total time= 2.0min\n",
      "[CV 1/5] END learning_rate=0.3, max_depth=4, min_child_weight=1;, score=0.971 total time= 4.2min\n",
      "[CV 2/5] END learning_rate=0.3, max_depth=4, min_child_weight=1;, score=0.970 total time= 4.1min\n",
      "[CV 3/5] END learning_rate=0.3, max_depth=4, min_child_weight=1;, score=0.971 total time= 4.1min\n",
      "[CV 4/5] END learning_rate=0.3, max_depth=4, min_child_weight=1;, score=0.973 total time= 4.1min\n",
      "[CV 5/5] END learning_rate=0.3, max_depth=4, min_child_weight=1;, score=0.971 total time= 4.2min\n",
      "[CV 1/5] END learning_rate=0.3, max_depth=4, min_child_weight=2;, score=0.971 total time= 4.1min\n",
      "[CV 2/5] END learning_rate=0.3, max_depth=4, min_child_weight=2;, score=0.972 total time= 4.1min\n",
      "[CV 3/5] END learning_rate=0.3, max_depth=4, min_child_weight=2;, score=0.971 total time= 4.2min\n",
      "[CV 4/5] END learning_rate=0.3, max_depth=4, min_child_weight=2;, score=0.973 total time= 4.1min\n",
      "[CV 5/5] END learning_rate=0.3, max_depth=4, min_child_weight=2;, score=0.971 total time= 4.1min\n",
      "[CV 1/5] END learning_rate=0.3, max_depth=4, min_child_weight=4;, score=0.971 total time= 4.6min\n",
      "[CV 2/5] END learning_rate=0.3, max_depth=4, min_child_weight=4;, score=0.971 total time= 4.4min\n",
      "[CV 3/5] END learning_rate=0.3, max_depth=4, min_child_weight=4;, score=0.972 total time= 4.1min\n",
      "[CV 4/5] END learning_rate=0.3, max_depth=4, min_child_weight=4;, score=0.972 total time= 4.1min\n",
      "[CV 5/5] END learning_rate=0.3, max_depth=4, min_child_weight=4;, score=0.972 total time= 4.1min\n",
      "[CV 1/5] END learning_rate=0.3, max_depth=4, min_child_weight=8;, score=0.971 total time= 4.2min\n",
      "[CV 2/5] END learning_rate=0.3, max_depth=4, min_child_weight=8;, score=0.971 total time= 4.1min\n",
      "[CV 3/5] END learning_rate=0.3, max_depth=4, min_child_weight=8;, score=0.971 total time= 4.1min\n",
      "[CV 4/5] END learning_rate=0.3, max_depth=4, min_child_weight=8;, score=0.973 total time= 4.1min\n",
      "[CV 5/5] END learning_rate=0.3, max_depth=4, min_child_weight=8;, score=0.971 total time= 4.1min\n",
      "[CV 1/5] END learning_rate=0.3, max_depth=6, min_child_weight=1;, score=0.975 total time= 6.5min\n",
      "[CV 2/5] END learning_rate=0.3, max_depth=6, min_child_weight=1;, score=0.976 total time= 6.5min\n",
      "[CV 3/5] END learning_rate=0.3, max_depth=6, min_child_weight=1;, score=0.976 total time= 6.4min\n",
      "[CV 4/5] END learning_rate=0.3, max_depth=6, min_child_weight=1;, score=0.977 total time= 6.5min\n",
      "[CV 5/5] END learning_rate=0.3, max_depth=6, min_child_weight=1;, score=0.977 total time= 6.5min\n",
      "[CV 1/5] END learning_rate=0.3, max_depth=6, min_child_weight=2;, score=0.976 total time= 6.5min\n",
      "[CV 2/5] END learning_rate=0.3, max_depth=6, min_child_weight=2;, score=0.977 total time= 6.4min\n",
      "[CV 3/5] END learning_rate=0.3, max_depth=6, min_child_weight=2;, score=0.976 total time= 6.4min\n",
      "[CV 4/5] END learning_rate=0.3, max_depth=6, min_child_weight=2;, score=0.976 total time= 6.3min\n",
      "[CV 5/5] END learning_rate=0.3, max_depth=6, min_child_weight=2;, score=0.977 total time= 6.4min\n",
      "[CV 1/5] END learning_rate=0.3, max_depth=6, min_child_weight=4;, score=0.975 total time= 6.3min\n",
      "[CV 2/5] END learning_rate=0.3, max_depth=6, min_child_weight=4;, score=0.976 total time= 6.3min\n",
      "[CV 3/5] END learning_rate=0.3, max_depth=6, min_child_weight=4;, score=0.975 total time= 6.3min\n",
      "[CV 4/5] END learning_rate=0.3, max_depth=6, min_child_weight=4;, score=0.976 total time= 6.4min\n",
      "[CV 5/5] END learning_rate=0.3, max_depth=6, min_child_weight=4;, score=0.976 total time= 6.3min\n",
      "[CV 1/5] END learning_rate=0.3, max_depth=6, min_child_weight=8;, score=0.975 total time= 6.2min\n",
      "[CV 2/5] END learning_rate=0.3, max_depth=6, min_child_weight=8;, score=0.975 total time= 6.3min\n",
      "[CV 3/5] END learning_rate=0.3, max_depth=6, min_child_weight=8;, score=0.975 total time= 6.2min\n",
      "[CV 4/5] END learning_rate=0.3, max_depth=6, min_child_weight=8;, score=0.974 total time= 6.2min\n",
      "[CV 5/5] END learning_rate=0.3, max_depth=6, min_child_weight=8;, score=0.976 total time= 6.3min\n",
      "[CV 1/5] END learning_rate=0.3, max_depth=8, min_child_weight=1;, score=0.975 total time= 8.2min\n",
      "[CV 2/5] END learning_rate=0.3, max_depth=8, min_child_weight=1;, score=0.976 total time= 8.1min\n",
      "[CV 3/5] END learning_rate=0.3, max_depth=8, min_child_weight=1;, score=0.977 total time= 8.4min\n",
      "[CV 4/5] END learning_rate=0.3, max_depth=8, min_child_weight=1;, score=0.976 total time= 8.2min\n",
      "[CV 5/5] END learning_rate=0.3, max_depth=8, min_child_weight=1;, score=0.976 total time= 8.4min\n",
      "[CV 1/5] END learning_rate=0.3, max_depth=8, min_child_weight=2;, score=0.974 total time= 7.9min\n",
      "[CV 2/5] END learning_rate=0.3, max_depth=8, min_child_weight=2;, score=0.976 total time= 8.4min\n",
      "[CV 3/5] END learning_rate=0.3, max_depth=8, min_child_weight=2;, score=0.976 total time= 9.1min\n",
      "[CV 4/5] END learning_rate=0.3, max_depth=8, min_child_weight=2;, score=0.975 total time= 8.9min\n",
      "[CV 5/5] END learning_rate=0.3, max_depth=8, min_child_weight=2;, score=0.977 total time= 8.9min\n",
      "[CV 1/5] END learning_rate=0.3, max_depth=8, min_child_weight=4;, score=0.975 total time= 8.6min\n",
      "[CV 2/5] END learning_rate=0.3, max_depth=8, min_child_weight=4;, score=0.975 total time= 7.6min\n",
      "[CV 3/5] END learning_rate=0.3, max_depth=8, min_child_weight=4;, score=0.976 total time= 7.5min\n",
      "[CV 4/5] END learning_rate=0.3, max_depth=8, min_child_weight=4;, score=0.975 total time= 7.6min\n",
      "[CV 5/5] END learning_rate=0.3, max_depth=8, min_child_weight=4;, score=0.975 total time= 7.6min\n",
      "[CV 1/5] END learning_rate=0.3, max_depth=8, min_child_weight=8;, score=0.974 total time= 7.5min\n",
      "[CV 2/5] END learning_rate=0.3, max_depth=8, min_child_weight=8;, score=0.975 total time= 7.4min\n",
      "[CV 3/5] END learning_rate=0.3, max_depth=8, min_child_weight=8;, score=0.974 total time= 7.5min\n",
      "[CV 4/5] END learning_rate=0.3, max_depth=8, min_child_weight=8;, score=0.975 total time= 7.4min\n",
      "[CV 5/5] END learning_rate=0.3, max_depth=8, min_child_weight=8;, score=0.975 total time= 7.6min\n",
      "[CV 1/5] END learning_rate=0.1, max_depth=2, min_child_weight=1;, score=0.895 total time= 2.0min\n",
      "[CV 2/5] END learning_rate=0.1, max_depth=2, min_child_weight=1;, score=0.897 total time= 2.0min\n",
      "[CV 3/5] END learning_rate=0.1, max_depth=2, min_child_weight=1;, score=0.901 total time= 2.0min\n",
      "[CV 4/5] END learning_rate=0.1, max_depth=2, min_child_weight=1;, score=0.900 total time= 2.0min\n"
     ]
    },
    {
     "name": "stdout",
     "output_type": "stream",
     "text": [
      "[CV 5/5] END learning_rate=0.1, max_depth=2, min_child_weight=1;, score=0.899 total time= 2.0min\n",
      "[CV 1/5] END learning_rate=0.1, max_depth=2, min_child_weight=2;, score=0.896 total time= 2.0min\n",
      "[CV 2/5] END learning_rate=0.1, max_depth=2, min_child_weight=2;, score=0.896 total time= 2.0min\n",
      "[CV 3/5] END learning_rate=0.1, max_depth=2, min_child_weight=2;, score=0.901 total time= 2.0min\n",
      "[CV 4/5] END learning_rate=0.1, max_depth=2, min_child_weight=2;, score=0.899 total time= 2.0min\n",
      "[CV 5/5] END learning_rate=0.1, max_depth=2, min_child_weight=2;, score=0.900 total time= 2.0min\n",
      "[CV 1/5] END learning_rate=0.1, max_depth=2, min_child_weight=4;, score=0.895 total time= 2.0min\n",
      "[CV 2/5] END learning_rate=0.1, max_depth=2, min_child_weight=4;, score=0.896 total time= 2.0min\n",
      "[CV 3/5] END learning_rate=0.1, max_depth=2, min_child_weight=4;, score=0.902 total time= 2.0min\n",
      "[CV 4/5] END learning_rate=0.1, max_depth=2, min_child_weight=4;, score=0.901 total time= 2.0min\n",
      "[CV 5/5] END learning_rate=0.1, max_depth=2, min_child_weight=4;, score=0.899 total time= 2.0min\n",
      "[CV 1/5] END learning_rate=0.1, max_depth=2, min_child_weight=8;, score=0.895 total time= 2.0min\n",
      "[CV 2/5] END learning_rate=0.1, max_depth=2, min_child_weight=8;, score=0.896 total time= 2.0min\n",
      "[CV 3/5] END learning_rate=0.1, max_depth=2, min_child_weight=8;, score=0.901 total time= 2.0min\n",
      "[CV 4/5] END learning_rate=0.1, max_depth=2, min_child_weight=8;, score=0.900 total time= 2.0min\n",
      "[CV 5/5] END learning_rate=0.1, max_depth=2, min_child_weight=8;, score=0.899 total time= 2.0min\n",
      "[CV 1/5] END learning_rate=0.1, max_depth=4, min_child_weight=1;, score=0.953 total time= 4.2min\n",
      "[CV 2/5] END learning_rate=0.1, max_depth=4, min_child_weight=1;, score=0.951 total time= 4.1min\n",
      "[CV 3/5] END learning_rate=0.1, max_depth=4, min_child_weight=1;, score=0.954 total time= 4.1min\n",
      "[CV 4/5] END learning_rate=0.1, max_depth=4, min_child_weight=1;, score=0.952 total time= 4.2min\n",
      "[CV 5/5] END learning_rate=0.1, max_depth=4, min_child_weight=1;, score=0.953 total time= 4.1min\n",
      "[CV 1/5] END learning_rate=0.1, max_depth=4, min_child_weight=2;, score=0.953 total time= 4.1min\n",
      "[CV 2/5] END learning_rate=0.1, max_depth=4, min_child_weight=2;, score=0.951 total time= 4.1min\n",
      "[CV 3/5] END learning_rate=0.1, max_depth=4, min_child_weight=2;, score=0.954 total time= 4.1min\n",
      "[CV 4/5] END learning_rate=0.1, max_depth=4, min_child_weight=2;, score=0.952 total time= 4.1min\n",
      "[CV 5/5] END learning_rate=0.1, max_depth=4, min_child_weight=2;, score=0.952 total time= 4.1min\n",
      "[CV 1/5] END learning_rate=0.1, max_depth=4, min_child_weight=4;, score=0.953 total time= 4.1min\n",
      "[CV 2/5] END learning_rate=0.1, max_depth=4, min_child_weight=4;, score=0.952 total time= 4.1min\n",
      "[CV 3/5] END learning_rate=0.1, max_depth=4, min_child_weight=4;, score=0.953 total time= 4.1min\n",
      "[CV 4/5] END learning_rate=0.1, max_depth=4, min_child_weight=4;, score=0.951 total time= 4.1min\n",
      "[CV 5/5] END learning_rate=0.1, max_depth=4, min_child_weight=4;, score=0.954 total time= 4.1min\n",
      "[CV 1/5] END learning_rate=0.1, max_depth=4, min_child_weight=8;, score=0.952 total time= 4.1min\n",
      "[CV 2/5] END learning_rate=0.1, max_depth=4, min_child_weight=8;, score=0.952 total time= 4.1min\n",
      "[CV 3/5] END learning_rate=0.1, max_depth=4, min_child_weight=8;, score=0.953 total time= 4.2min\n",
      "[CV 4/5] END learning_rate=0.1, max_depth=4, min_child_weight=8;, score=0.952 total time= 4.1min\n",
      "[CV 5/5] END learning_rate=0.1, max_depth=4, min_child_weight=8;, score=0.952 total time= 4.1min\n",
      "[CV 1/5] END learning_rate=0.1, max_depth=6, min_child_weight=1;, score=0.967 total time= 6.5min\n",
      "[CV 2/5] END learning_rate=0.1, max_depth=6, min_child_weight=1;, score=0.969 total time= 6.6min\n",
      "[CV 3/5] END learning_rate=0.1, max_depth=6, min_child_weight=1;, score=0.970 total time= 6.6min\n",
      "[CV 4/5] END learning_rate=0.1, max_depth=6, min_child_weight=1;, score=0.970 total time= 6.6min\n",
      "[CV 5/5] END learning_rate=0.1, max_depth=6, min_child_weight=1;, score=0.968 total time= 6.6min\n",
      "[CV 1/5] END learning_rate=0.1, max_depth=6, min_child_weight=2;, score=0.968 total time= 6.5min\n",
      "[CV 2/5] END learning_rate=0.1, max_depth=6, min_child_weight=2;, score=0.969 total time= 6.7min\n",
      "[CV 3/5] END learning_rate=0.1, max_depth=6, min_child_weight=2;, score=0.969 total time= 6.7min\n",
      "[CV 4/5] END learning_rate=0.1, max_depth=6, min_child_weight=2;, score=0.968 total time= 6.5min\n",
      "[CV 5/5] END learning_rate=0.1, max_depth=6, min_child_weight=2;, score=0.968 total time= 6.6min\n",
      "[CV 1/5] END learning_rate=0.1, max_depth=6, min_child_weight=4;, score=0.967 total time= 6.6min\n",
      "[CV 2/5] END learning_rate=0.1, max_depth=6, min_child_weight=4;, score=0.968 total time= 6.5min\n",
      "[CV 3/5] END learning_rate=0.1, max_depth=6, min_child_weight=4;, score=0.968 total time= 6.5min\n",
      "[CV 4/5] END learning_rate=0.1, max_depth=6, min_child_weight=4;, score=0.968 total time= 6.6min\n",
      "[CV 5/5] END learning_rate=0.1, max_depth=6, min_child_weight=4;, score=0.967 total time= 6.5min\n",
      "[CV 1/5] END learning_rate=0.1, max_depth=6, min_child_weight=8;, score=0.967 total time= 6.5min\n",
      "[CV 2/5] END learning_rate=0.1, max_depth=6, min_child_weight=8;, score=0.968 total time= 6.6min\n",
      "[CV 3/5] END learning_rate=0.1, max_depth=6, min_child_weight=8;, score=0.969 total time= 6.5min\n",
      "[CV 4/5] END learning_rate=0.1, max_depth=6, min_child_weight=8;, score=0.969 total time= 6.5min\n",
      "[CV 5/5] END learning_rate=0.1, max_depth=6, min_child_weight=8;, score=0.967 total time= 6.5min\n",
      "[CV 1/5] END learning_rate=0.1, max_depth=8, min_child_weight=1;, score=0.969 total time= 9.3min\n",
      "[CV 2/5] END learning_rate=0.1, max_depth=8, min_child_weight=1;, score=0.970 total time= 9.2min\n",
      "[CV 3/5] END learning_rate=0.1, max_depth=8, min_child_weight=1;, score=0.971 total time= 9.2min\n",
      "[CV 4/5] END learning_rate=0.1, max_depth=8, min_child_weight=1;, score=0.971 total time= 9.3min\n",
      "[CV 5/5] END learning_rate=0.1, max_depth=8, min_child_weight=1;, score=0.969 total time= 9.1min\n",
      "[CV 1/5] END learning_rate=0.1, max_depth=8, min_child_weight=2;, score=0.969 total time= 9.0min\n",
      "[CV 2/5] END learning_rate=0.1, max_depth=8, min_child_weight=2;, score=0.970 total time= 9.0min\n",
      "[CV 3/5] END learning_rate=0.1, max_depth=8, min_child_weight=2;, score=0.971 total time= 8.9min\n",
      "[CV 4/5] END learning_rate=0.1, max_depth=8, min_child_weight=2;, score=0.972 total time= 8.9min\n",
      "[CV 5/5] END learning_rate=0.1, max_depth=8, min_child_weight=2;, score=0.971 total time= 8.9min\n",
      "[CV 1/5] END learning_rate=0.1, max_depth=8, min_child_weight=4;, score=0.970 total time= 8.9min\n",
      "[CV 2/5] END learning_rate=0.1, max_depth=8, min_child_weight=4;, score=0.970 total time= 8.8min\n",
      "[CV 3/5] END learning_rate=0.1, max_depth=8, min_child_weight=4;, score=0.972 total time= 8.9min\n",
      "[CV 4/5] END learning_rate=0.1, max_depth=8, min_child_weight=4;, score=0.973 total time= 9.0min\n",
      "[CV 5/5] END learning_rate=0.1, max_depth=8, min_child_weight=4;, score=0.971 total time= 8.9min\n",
      "[CV 1/5] END learning_rate=0.1, max_depth=8, min_child_weight=8;, score=0.970 total time= 8.9min\n",
      "[CV 2/5] END learning_rate=0.1, max_depth=8, min_child_weight=8;, score=0.971 total time= 8.9min\n",
      "[CV 3/5] END learning_rate=0.1, max_depth=8, min_child_weight=8;, score=0.971 total time= 9.1min\n",
      "[CV 4/5] END learning_rate=0.1, max_depth=8, min_child_weight=8;, score=0.971 total time= 9.3min\n",
      "[CV 5/5] END learning_rate=0.1, max_depth=8, min_child_weight=8;, score=0.971 total time= 9.0min\n",
      "[CV 1/5] END learning_rate=0.01, max_depth=2, min_child_weight=1;, score=0.781 total time= 2.1min\n",
      "[CV 2/5] END learning_rate=0.01, max_depth=2, min_child_weight=1;, score=0.781 total time= 2.0min\n",
      "[CV 3/5] END learning_rate=0.01, max_depth=2, min_child_weight=1;, score=0.780 total time= 2.0min\n",
      "[CV 4/5] END learning_rate=0.01, max_depth=2, min_child_weight=1;, score=0.785 total time= 2.0min\n",
      "[CV 5/5] END learning_rate=0.01, max_depth=2, min_child_weight=1;, score=0.781 total time= 2.1min\n",
      "[CV 1/5] END learning_rate=0.01, max_depth=2, min_child_weight=2;, score=0.781 total time= 2.0min\n",
      "[CV 2/5] END learning_rate=0.01, max_depth=2, min_child_weight=2;, score=0.781 total time= 2.0min\n",
      "[CV 3/5] END learning_rate=0.01, max_depth=2, min_child_weight=2;, score=0.780 total time= 2.0min\n",
      "[CV 4/5] END learning_rate=0.01, max_depth=2, min_child_weight=2;, score=0.785 total time= 2.0min\n"
     ]
    },
    {
     "name": "stdout",
     "output_type": "stream",
     "text": [
      "[CV 5/5] END learning_rate=0.01, max_depth=2, min_child_weight=2;, score=0.781 total time= 2.0min\n",
      "[CV 1/5] END learning_rate=0.01, max_depth=2, min_child_weight=4;, score=0.781 total time= 2.0min\n",
      "[CV 2/5] END learning_rate=0.01, max_depth=2, min_child_weight=4;, score=0.781 total time= 2.0min\n",
      "[CV 3/5] END learning_rate=0.01, max_depth=2, min_child_weight=4;, score=0.780 total time= 2.2min\n",
      "[CV 4/5] END learning_rate=0.01, max_depth=2, min_child_weight=4;, score=0.785 total time= 2.0min\n",
      "[CV 5/5] END learning_rate=0.01, max_depth=2, min_child_weight=4;, score=0.781 total time= 2.0min\n",
      "[CV 1/5] END learning_rate=0.01, max_depth=2, min_child_weight=8;, score=0.781 total time= 2.2min\n",
      "[CV 2/5] END learning_rate=0.01, max_depth=2, min_child_weight=8;, score=0.781 total time= 2.3min\n",
      "[CV 3/5] END learning_rate=0.01, max_depth=2, min_child_weight=8;, score=0.780 total time= 2.6min\n",
      "[CV 4/5] END learning_rate=0.01, max_depth=2, min_child_weight=8;, score=0.785 total time= 2.3min\n",
      "[CV 5/5] END learning_rate=0.01, max_depth=2, min_child_weight=8;, score=0.781 total time= 2.4min\n",
      "[CV 1/5] END learning_rate=0.01, max_depth=4, min_child_weight=1;, score=0.871 total time= 5.6min\n",
      "[CV 2/5] END learning_rate=0.01, max_depth=4, min_child_weight=1;, score=0.874 total time= 5.4min\n",
      "[CV 3/5] END learning_rate=0.01, max_depth=4, min_child_weight=1;, score=0.872 total time= 5.5min\n",
      "[CV 4/5] END learning_rate=0.01, max_depth=4, min_child_weight=1;, score=0.879 total time= 5.1min\n",
      "[CV 5/5] END learning_rate=0.01, max_depth=4, min_child_weight=1;, score=0.878 total time= 5.4min\n",
      "[CV 1/5] END learning_rate=0.01, max_depth=4, min_child_weight=2;, score=0.870 total time= 6.3min\n",
      "[CV 2/5] END learning_rate=0.01, max_depth=4, min_child_weight=2;, score=0.873 total time= 6.4min\n",
      "[CV 3/5] END learning_rate=0.01, max_depth=4, min_child_weight=2;, score=0.872 total time= 6.0min\n",
      "[CV 4/5] END learning_rate=0.01, max_depth=4, min_child_weight=2;, score=0.879 total time= 6.2min\n",
      "[CV 5/5] END learning_rate=0.01, max_depth=4, min_child_weight=2;, score=0.878 total time= 6.0min\n",
      "[CV 1/5] END learning_rate=0.01, max_depth=4, min_child_weight=4;, score=0.870 total time= 5.5min\n",
      "[CV 2/5] END learning_rate=0.01, max_depth=4, min_child_weight=4;, score=0.874 total time= 5.6min\n",
      "[CV 3/5] END learning_rate=0.01, max_depth=4, min_child_weight=4;, score=0.871 total time= 5.4min\n",
      "[CV 4/5] END learning_rate=0.01, max_depth=4, min_child_weight=4;, score=0.879 total time= 5.7min\n",
      "[CV 5/5] END learning_rate=0.01, max_depth=4, min_child_weight=4;, score=0.877 total time= 5.5min\n",
      "[CV 1/5] END learning_rate=0.01, max_depth=4, min_child_weight=8;, score=0.870 total time= 5.2min\n",
      "[CV 2/5] END learning_rate=0.01, max_depth=4, min_child_weight=8;, score=0.873 total time= 5.3min\n",
      "[CV 3/5] END learning_rate=0.01, max_depth=4, min_child_weight=8;, score=0.871 total time= 4.9min\n",
      "[CV 4/5] END learning_rate=0.01, max_depth=4, min_child_weight=8;, score=0.879 total time= 5.1min\n",
      "[CV 5/5] END learning_rate=0.01, max_depth=4, min_child_weight=8;, score=0.877 total time= 5.0min\n",
      "[CV 1/5] END learning_rate=0.01, max_depth=6, min_child_weight=1;, score=0.914 total time= 8.1min\n",
      "[CV 2/5] END learning_rate=0.01, max_depth=6, min_child_weight=1;, score=0.916 total time= 9.2min\n",
      "[CV 3/5] END learning_rate=0.01, max_depth=6, min_child_weight=1;, score=0.921 total time=12.9min\n",
      "[CV 4/5] END learning_rate=0.01, max_depth=6, min_child_weight=1;, score=0.920 total time= 7.4min\n",
      "[CV 5/5] END learning_rate=0.01, max_depth=6, min_child_weight=1;, score=0.921 total time= 7.1min\n",
      "[CV 1/5] END learning_rate=0.01, max_depth=6, min_child_weight=2;, score=0.914 total time= 6.9min\n",
      "[CV 2/5] END learning_rate=0.01, max_depth=6, min_child_weight=2;, score=0.916 total time= 6.9min\n",
      "[CV 3/5] END learning_rate=0.01, max_depth=6, min_child_weight=2;, score=0.920 total time= 7.4min\n",
      "[CV 4/5] END learning_rate=0.01, max_depth=6, min_child_weight=2;, score=0.920 total time= 8.1min\n",
      "[CV 5/5] END learning_rate=0.01, max_depth=6, min_child_weight=2;, score=0.921 total time= 8.5min\n",
      "[CV 1/5] END learning_rate=0.01, max_depth=6, min_child_weight=4;, score=0.914 total time= 8.5min\n",
      "[CV 2/5] END learning_rate=0.01, max_depth=6, min_child_weight=4;, score=0.916 total time= 8.5min\n",
      "[CV 3/5] END learning_rate=0.01, max_depth=6, min_child_weight=4;, score=0.920 total time= 7.2min\n",
      "[CV 4/5] END learning_rate=0.01, max_depth=6, min_child_weight=4;, score=0.920 total time= 7.0min\n",
      "[CV 5/5] END learning_rate=0.01, max_depth=6, min_child_weight=4;, score=0.921 total time= 7.3min\n",
      "[CV 1/5] END learning_rate=0.01, max_depth=6, min_child_weight=8;, score=0.913 total time= 8.2min\n",
      "[CV 2/5] END learning_rate=0.01, max_depth=6, min_child_weight=8;, score=0.915 total time= 8.7min\n",
      "[CV 3/5] END learning_rate=0.01, max_depth=6, min_child_weight=8;, score=0.919 total time= 8.8min\n",
      "[CV 4/5] END learning_rate=0.01, max_depth=6, min_child_weight=8;, score=0.919 total time= 8.7min\n",
      "[CV 5/5] END learning_rate=0.01, max_depth=6, min_child_weight=8;, score=0.919 total time= 7.7min\n",
      "[CV 1/5] END learning_rate=0.01, max_depth=8, min_child_weight=1;, score=0.931 total time=11.7min\n",
      "[CV 2/5] END learning_rate=0.01, max_depth=8, min_child_weight=1;, score=0.936 total time=10.4min\n",
      "[CV 3/5] END learning_rate=0.01, max_depth=8, min_child_weight=1;, score=0.937 total time= 9.5min\n",
      "[CV 4/5] END learning_rate=0.01, max_depth=8, min_child_weight=1;, score=0.937 total time= 9.5min\n",
      "[CV 5/5] END learning_rate=0.01, max_depth=8, min_child_weight=1;, score=0.939 total time= 9.3min\n",
      "[CV 1/5] END learning_rate=0.01, max_depth=8, min_child_weight=2;, score=0.932 total time= 9.2min\n",
      "[CV 2/5] END learning_rate=0.01, max_depth=8, min_child_weight=2;, score=0.937 total time= 9.2min\n",
      "[CV 3/5] END learning_rate=0.01, max_depth=8, min_child_weight=2;, score=0.936 total time= 9.3min\n",
      "[CV 4/5] END learning_rate=0.01, max_depth=8, min_child_weight=2;, score=0.937 total time= 9.4min\n",
      "[CV 5/5] END learning_rate=0.01, max_depth=8, min_child_weight=2;, score=0.939 total time= 9.4min\n",
      "[CV 1/5] END learning_rate=0.01, max_depth=8, min_child_weight=4;, score=0.930 total time= 9.3min\n",
      "[CV 2/5] END learning_rate=0.01, max_depth=8, min_child_weight=4;, score=0.935 total time= 9.3min\n",
      "[CV 3/5] END learning_rate=0.01, max_depth=8, min_child_weight=4;, score=0.937 total time= 9.3min\n",
      "[CV 4/5] END learning_rate=0.01, max_depth=8, min_child_weight=4;, score=0.937 total time= 9.3min\n",
      "[CV 5/5] END learning_rate=0.01, max_depth=8, min_child_weight=4;, score=0.938 total time= 9.4min\n",
      "[CV 1/5] END learning_rate=0.01, max_depth=8, min_child_weight=8;, score=0.927 total time= 9.1min\n",
      "[CV 2/5] END learning_rate=0.01, max_depth=8, min_child_weight=8;, score=0.933 total time= 9.2min\n",
      "[CV 3/5] END learning_rate=0.01, max_depth=8, min_child_weight=8;, score=0.936 total time=10.3min\n",
      "[CV 4/5] END learning_rate=0.01, max_depth=8, min_child_weight=8;, score=0.934 total time=12.1min\n",
      "[CV 5/5] END learning_rate=0.01, max_depth=8, min_child_weight=8;, score=0.936 total time=12.4min\n"
     ]
    },
    {
     "data": {
      "text/html": [
       "<style>#sk-container-id-6 {color: black;background-color: white;}#sk-container-id-6 pre{padding: 0;}#sk-container-id-6 div.sk-toggleable {background-color: white;}#sk-container-id-6 label.sk-toggleable__label {cursor: pointer;display: block;width: 100%;margin-bottom: 0;padding: 0.3em;box-sizing: border-box;text-align: center;}#sk-container-id-6 label.sk-toggleable__label-arrow:before {content: \"▸\";float: left;margin-right: 0.25em;color: #696969;}#sk-container-id-6 label.sk-toggleable__label-arrow:hover:before {color: black;}#sk-container-id-6 div.sk-estimator:hover label.sk-toggleable__label-arrow:before {color: black;}#sk-container-id-6 div.sk-toggleable__content {max-height: 0;max-width: 0;overflow: hidden;text-align: left;background-color: #f0f8ff;}#sk-container-id-6 div.sk-toggleable__content pre {margin: 0.2em;color: black;border-radius: 0.25em;background-color: #f0f8ff;}#sk-container-id-6 input.sk-toggleable__control:checked~div.sk-toggleable__content {max-height: 200px;max-width: 100%;overflow: auto;}#sk-container-id-6 input.sk-toggleable__control:checked~label.sk-toggleable__label-arrow:before {content: \"▾\";}#sk-container-id-6 div.sk-estimator input.sk-toggleable__control:checked~label.sk-toggleable__label {background-color: #d4ebff;}#sk-container-id-6 div.sk-label input.sk-toggleable__control:checked~label.sk-toggleable__label {background-color: #d4ebff;}#sk-container-id-6 input.sk-hidden--visually {border: 0;clip: rect(1px 1px 1px 1px);clip: rect(1px, 1px, 1px, 1px);height: 1px;margin: -1px;overflow: hidden;padding: 0;position: absolute;width: 1px;}#sk-container-id-6 div.sk-estimator {font-family: monospace;background-color: #f0f8ff;border: 1px dotted black;border-radius: 0.25em;box-sizing: border-box;margin-bottom: 0.5em;}#sk-container-id-6 div.sk-estimator:hover {background-color: #d4ebff;}#sk-container-id-6 div.sk-parallel-item::after {content: \"\";width: 100%;border-bottom: 1px solid gray;flex-grow: 1;}#sk-container-id-6 div.sk-label:hover label.sk-toggleable__label {background-color: #d4ebff;}#sk-container-id-6 div.sk-serial::before {content: \"\";position: absolute;border-left: 1px solid gray;box-sizing: border-box;top: 0;bottom: 0;left: 50%;z-index: 0;}#sk-container-id-6 div.sk-serial {display: flex;flex-direction: column;align-items: center;background-color: white;padding-right: 0.2em;padding-left: 0.2em;position: relative;}#sk-container-id-6 div.sk-item {position: relative;z-index: 1;}#sk-container-id-6 div.sk-parallel {display: flex;align-items: stretch;justify-content: center;background-color: white;position: relative;}#sk-container-id-6 div.sk-item::before, #sk-container-id-6 div.sk-parallel-item::before {content: \"\";position: absolute;border-left: 1px solid gray;box-sizing: border-box;top: 0;bottom: 0;left: 50%;z-index: -1;}#sk-container-id-6 div.sk-parallel-item {display: flex;flex-direction: column;z-index: 1;position: relative;background-color: white;}#sk-container-id-6 div.sk-parallel-item:first-child::after {align-self: flex-end;width: 50%;}#sk-container-id-6 div.sk-parallel-item:last-child::after {align-self: flex-start;width: 50%;}#sk-container-id-6 div.sk-parallel-item:only-child::after {width: 0;}#sk-container-id-6 div.sk-dashed-wrapped {border: 1px dashed gray;margin: 0 0.4em 0.5em 0.4em;box-sizing: border-box;padding-bottom: 0.4em;background-color: white;}#sk-container-id-6 div.sk-label label {font-family: monospace;font-weight: bold;display: inline-block;line-height: 1.2em;}#sk-container-id-6 div.sk-label-container {text-align: center;}#sk-container-id-6 div.sk-container {/* jupyter's `normalize.less` sets `[hidden] { display: none; }` but bootstrap.min.css set `[hidden] { display: none !important; }` so we also need the `!important` here to be able to override the default hidden behavior on the sphinx rendered scikit-learn.org. See: https://github.com/scikit-learn/scikit-learn/issues/21755 */display: inline-block !important;position: relative;}#sk-container-id-6 div.sk-text-repr-fallback {display: none;}</style><div id=\"sk-container-id-6\" class=\"sk-top-container\"><div class=\"sk-text-repr-fallback\"><pre>GridSearchCV(cv=5,\n",
       "             estimator=XGBClassifier(base_score=None, booster=None,\n",
       "                                     callbacks=None, colsample_bylevel=None,\n",
       "                                     colsample_bynode=None,\n",
       "                                     colsample_bytree=None,\n",
       "                                     early_stopping_rounds=None,\n",
       "                                     enable_categorical=False, eval_metric=None,\n",
       "                                     gamma=None, gpu_id=None, grow_policy=None,\n",
       "                                     importance_type=None,\n",
       "                                     interaction_constraints=None,\n",
       "                                     learning_rate=None, max_bin=None,\n",
       "                                     max_ca...\n",
       "                                     max_delta_step=None, max_depth=None,\n",
       "                                     max_leaves=None, min_child_weight=None,\n",
       "                                     missing=nan, monotone_constraints=None,\n",
       "                                     n_estimators=100, n_jobs=None,\n",
       "                                     num_parallel_tree=None, predictor=None,\n",
       "                                     random_state=None, reg_alpha=None,\n",
       "                                     reg_lambda=None, ...),\n",
       "             param_grid={&#x27;learning_rate&#x27;: [0.3, 0.1, 0.01],\n",
       "                         &#x27;max_depth&#x27;: [2, 4, 6, 8],\n",
       "                         &#x27;min_child_weight&#x27;: [1, 2, 4, 8]},\n",
       "             scoring=&#x27;accuracy&#x27;, verbose=5)</pre><b>In a Jupyter environment, please rerun this cell to show the HTML representation or trust the notebook. <br />On GitHub, the HTML representation is unable to render, please try loading this page with nbviewer.org.</b></div><div class=\"sk-container\" hidden><div class=\"sk-item sk-dashed-wrapped\"><div class=\"sk-label-container\"><div class=\"sk-label sk-toggleable\"><input class=\"sk-toggleable__control sk-hidden--visually\" id=\"sk-estimator-id-10\" type=\"checkbox\" ><label for=\"sk-estimator-id-10\" class=\"sk-toggleable__label sk-toggleable__label-arrow\">GridSearchCV</label><div class=\"sk-toggleable__content\"><pre>GridSearchCV(cv=5,\n",
       "             estimator=XGBClassifier(base_score=None, booster=None,\n",
       "                                     callbacks=None, colsample_bylevel=None,\n",
       "                                     colsample_bynode=None,\n",
       "                                     colsample_bytree=None,\n",
       "                                     early_stopping_rounds=None,\n",
       "                                     enable_categorical=False, eval_metric=None,\n",
       "                                     gamma=None, gpu_id=None, grow_policy=None,\n",
       "                                     importance_type=None,\n",
       "                                     interaction_constraints=None,\n",
       "                                     learning_rate=None, max_bin=None,\n",
       "                                     max_ca...\n",
       "                                     max_delta_step=None, max_depth=None,\n",
       "                                     max_leaves=None, min_child_weight=None,\n",
       "                                     missing=nan, monotone_constraints=None,\n",
       "                                     n_estimators=100, n_jobs=None,\n",
       "                                     num_parallel_tree=None, predictor=None,\n",
       "                                     random_state=None, reg_alpha=None,\n",
       "                                     reg_lambda=None, ...),\n",
       "             param_grid={&#x27;learning_rate&#x27;: [0.3, 0.1, 0.01],\n",
       "                         &#x27;max_depth&#x27;: [2, 4, 6, 8],\n",
       "                         &#x27;min_child_weight&#x27;: [1, 2, 4, 8]},\n",
       "             scoring=&#x27;accuracy&#x27;, verbose=5)</pre></div></div></div><div class=\"sk-parallel\"><div class=\"sk-parallel-item\"><div class=\"sk-item\"><div class=\"sk-label-container\"><div class=\"sk-label sk-toggleable\"><input class=\"sk-toggleable__control sk-hidden--visually\" id=\"sk-estimator-id-11\" type=\"checkbox\" ><label for=\"sk-estimator-id-11\" class=\"sk-toggleable__label sk-toggleable__label-arrow\">estimator: XGBClassifier</label><div class=\"sk-toggleable__content\"><pre>XGBClassifier(base_score=None, booster=None, callbacks=None,\n",
       "              colsample_bylevel=None, colsample_bynode=None,\n",
       "              colsample_bytree=None, early_stopping_rounds=None,\n",
       "              enable_categorical=False, eval_metric=None, gamma=None,\n",
       "              gpu_id=None, grow_policy=None, importance_type=None,\n",
       "              interaction_constraints=None, learning_rate=None, max_bin=None,\n",
       "              max_cat_to_onehot=None, max_delta_step=None, max_depth=None,\n",
       "              max_leaves=None, min_child_weight=None, missing=nan,\n",
       "              monotone_constraints=None, n_estimators=100, n_jobs=None,\n",
       "              num_parallel_tree=None, predictor=None, random_state=None,\n",
       "              reg_alpha=None, reg_lambda=None, ...)</pre></div></div></div><div class=\"sk-serial\"><div class=\"sk-item\"><div class=\"sk-estimator sk-toggleable\"><input class=\"sk-toggleable__control sk-hidden--visually\" id=\"sk-estimator-id-12\" type=\"checkbox\" ><label for=\"sk-estimator-id-12\" class=\"sk-toggleable__label sk-toggleable__label-arrow\">XGBClassifier</label><div class=\"sk-toggleable__content\"><pre>XGBClassifier(base_score=None, booster=None, callbacks=None,\n",
       "              colsample_bylevel=None, colsample_bynode=None,\n",
       "              colsample_bytree=None, early_stopping_rounds=None,\n",
       "              enable_categorical=False, eval_metric=None, gamma=None,\n",
       "              gpu_id=None, grow_policy=None, importance_type=None,\n",
       "              interaction_constraints=None, learning_rate=None, max_bin=None,\n",
       "              max_cat_to_onehot=None, max_delta_step=None, max_depth=None,\n",
       "              max_leaves=None, min_child_weight=None, missing=nan,\n",
       "              monotone_constraints=None, n_estimators=100, n_jobs=None,\n",
       "              num_parallel_tree=None, predictor=None, random_state=None,\n",
       "              reg_alpha=None, reg_lambda=None, ...)</pre></div></div></div></div></div></div></div></div></div></div>"
      ],
      "text/plain": [
       "GridSearchCV(cv=5,\n",
       "             estimator=XGBClassifier(base_score=None, booster=None,\n",
       "                                     callbacks=None, colsample_bylevel=None,\n",
       "                                     colsample_bynode=None,\n",
       "                                     colsample_bytree=None,\n",
       "                                     early_stopping_rounds=None,\n",
       "                                     enable_categorical=False, eval_metric=None,\n",
       "                                     gamma=None, gpu_id=None, grow_policy=None,\n",
       "                                     importance_type=None,\n",
       "                                     interaction_constraints=None,\n",
       "                                     learning_rate=None, max_bin=None,\n",
       "                                     max_ca...\n",
       "                                     max_delta_step=None, max_depth=None,\n",
       "                                     max_leaves=None, min_child_weight=None,\n",
       "                                     missing=nan, monotone_constraints=None,\n",
       "                                     n_estimators=100, n_jobs=None,\n",
       "                                     num_parallel_tree=None, predictor=None,\n",
       "                                     random_state=None, reg_alpha=None,\n",
       "                                     reg_lambda=None, ...),\n",
       "             param_grid={'learning_rate': [0.3, 0.1, 0.01],\n",
       "                         'max_depth': [2, 4, 6, 8],\n",
       "                         'min_child_weight': [1, 2, 4, 8]},\n",
       "             scoring='accuracy', verbose=5)"
      ]
     },
     "execution_count": 30,
     "metadata": {},
     "output_type": "execute_result"
    }
   ],
   "source": [
    "xgb_params = {\"learning_rate\":[0.3, 0.1, 0.01], \n",
    "              \"max_depth\":[2, 4, 6, 8],\n",
    "              \"min_child_weight\":[1, 2, 4, 8]}\n",
    "\n",
    "\n",
    "xgb = GridSearchCV(XGBClassifier(), param_grid=xgb_params, cv=5, scoring=\"accuracy\", verbose=5)\n",
    "xgb.fit(X_train_std, y_train.astype(int))"
   ]
  },
  {
   "cell_type": "code",
   "execution_count": 31,
   "id": "c83a6309",
   "metadata": {},
   "outputs": [
    {
     "name": "stdout",
     "output_type": "stream",
     "text": [
      "XGB best parameters: \n",
      "{'learning_rate': 0.3, 'max_depth': 6, 'min_child_weight': 2}\n"
     ]
    }
   ],
   "source": [
    "print(\"XGB best parameters: \")\n",
    "print(xgb.best_params_)"
   ]
  },
  {
   "cell_type": "code",
   "execution_count": 32,
   "id": "a197172c",
   "metadata": {},
   "outputs": [
    {
     "data": {
      "text/html": [
       "<style>#sk-container-id-7 {color: black;background-color: white;}#sk-container-id-7 pre{padding: 0;}#sk-container-id-7 div.sk-toggleable {background-color: white;}#sk-container-id-7 label.sk-toggleable__label {cursor: pointer;display: block;width: 100%;margin-bottom: 0;padding: 0.3em;box-sizing: border-box;text-align: center;}#sk-container-id-7 label.sk-toggleable__label-arrow:before {content: \"▸\";float: left;margin-right: 0.25em;color: #696969;}#sk-container-id-7 label.sk-toggleable__label-arrow:hover:before {color: black;}#sk-container-id-7 div.sk-estimator:hover label.sk-toggleable__label-arrow:before {color: black;}#sk-container-id-7 div.sk-toggleable__content {max-height: 0;max-width: 0;overflow: hidden;text-align: left;background-color: #f0f8ff;}#sk-container-id-7 div.sk-toggleable__content pre {margin: 0.2em;color: black;border-radius: 0.25em;background-color: #f0f8ff;}#sk-container-id-7 input.sk-toggleable__control:checked~div.sk-toggleable__content {max-height: 200px;max-width: 100%;overflow: auto;}#sk-container-id-7 input.sk-toggleable__control:checked~label.sk-toggleable__label-arrow:before {content: \"▾\";}#sk-container-id-7 div.sk-estimator input.sk-toggleable__control:checked~label.sk-toggleable__label {background-color: #d4ebff;}#sk-container-id-7 div.sk-label input.sk-toggleable__control:checked~label.sk-toggleable__label {background-color: #d4ebff;}#sk-container-id-7 input.sk-hidden--visually {border: 0;clip: rect(1px 1px 1px 1px);clip: rect(1px, 1px, 1px, 1px);height: 1px;margin: -1px;overflow: hidden;padding: 0;position: absolute;width: 1px;}#sk-container-id-7 div.sk-estimator {font-family: monospace;background-color: #f0f8ff;border: 1px dotted black;border-radius: 0.25em;box-sizing: border-box;margin-bottom: 0.5em;}#sk-container-id-7 div.sk-estimator:hover {background-color: #d4ebff;}#sk-container-id-7 div.sk-parallel-item::after {content: \"\";width: 100%;border-bottom: 1px solid gray;flex-grow: 1;}#sk-container-id-7 div.sk-label:hover label.sk-toggleable__label {background-color: #d4ebff;}#sk-container-id-7 div.sk-serial::before {content: \"\";position: absolute;border-left: 1px solid gray;box-sizing: border-box;top: 0;bottom: 0;left: 50%;z-index: 0;}#sk-container-id-7 div.sk-serial {display: flex;flex-direction: column;align-items: center;background-color: white;padding-right: 0.2em;padding-left: 0.2em;position: relative;}#sk-container-id-7 div.sk-item {position: relative;z-index: 1;}#sk-container-id-7 div.sk-parallel {display: flex;align-items: stretch;justify-content: center;background-color: white;position: relative;}#sk-container-id-7 div.sk-item::before, #sk-container-id-7 div.sk-parallel-item::before {content: \"\";position: absolute;border-left: 1px solid gray;box-sizing: border-box;top: 0;bottom: 0;left: 50%;z-index: -1;}#sk-container-id-7 div.sk-parallel-item {display: flex;flex-direction: column;z-index: 1;position: relative;background-color: white;}#sk-container-id-7 div.sk-parallel-item:first-child::after {align-self: flex-end;width: 50%;}#sk-container-id-7 div.sk-parallel-item:last-child::after {align-self: flex-start;width: 50%;}#sk-container-id-7 div.sk-parallel-item:only-child::after {width: 0;}#sk-container-id-7 div.sk-dashed-wrapped {border: 1px dashed gray;margin: 0 0.4em 0.5em 0.4em;box-sizing: border-box;padding-bottom: 0.4em;background-color: white;}#sk-container-id-7 div.sk-label label {font-family: monospace;font-weight: bold;display: inline-block;line-height: 1.2em;}#sk-container-id-7 div.sk-label-container {text-align: center;}#sk-container-id-7 div.sk-container {/* jupyter's `normalize.less` sets `[hidden] { display: none; }` but bootstrap.min.css set `[hidden] { display: none !important; }` so we also need the `!important` here to be able to override the default hidden behavior on the sphinx rendered scikit-learn.org. See: https://github.com/scikit-learn/scikit-learn/issues/21755 */display: inline-block !important;position: relative;}#sk-container-id-7 div.sk-text-repr-fallback {display: none;}</style><div id=\"sk-container-id-7\" class=\"sk-top-container\"><div class=\"sk-text-repr-fallback\"><pre>XGBClassifier(base_score=0.5, booster=&#x27;gbtree&#x27;, callbacks=None,\n",
       "              colsample_bylevel=1, colsample_bynode=1, colsample_bytree=1,\n",
       "              early_stopping_rounds=None, enable_categorical=False,\n",
       "              eval_metric=None, gamma=0, gpu_id=-1, grow_policy=&#x27;depthwise&#x27;,\n",
       "              importance_type=None, interaction_constraints=&#x27;&#x27;,\n",
       "              learning_rate=0.3, max_bin=256, max_cat_to_onehot=4,\n",
       "              max_delta_step=0, max_depth=6, max_leaves=0, min_child_weight=2,\n",
       "              missing=nan, monotone_constraints=&#x27;()&#x27;, n_estimators=100,\n",
       "              n_jobs=0, num_parallel_tree=1, objective=&#x27;multi:softprob&#x27;,\n",
       "              predictor=&#x27;auto&#x27;, random_state=0, reg_alpha=0, ...)</pre><b>In a Jupyter environment, please rerun this cell to show the HTML representation or trust the notebook. <br />On GitHub, the HTML representation is unable to render, please try loading this page with nbviewer.org.</b></div><div class=\"sk-container\" hidden><div class=\"sk-item\"><div class=\"sk-estimator sk-toggleable\"><input class=\"sk-toggleable__control sk-hidden--visually\" id=\"sk-estimator-id-13\" type=\"checkbox\" checked><label for=\"sk-estimator-id-13\" class=\"sk-toggleable__label sk-toggleable__label-arrow\">XGBClassifier</label><div class=\"sk-toggleable__content\"><pre>XGBClassifier(base_score=0.5, booster=&#x27;gbtree&#x27;, callbacks=None,\n",
       "              colsample_bylevel=1, colsample_bynode=1, colsample_bytree=1,\n",
       "              early_stopping_rounds=None, enable_categorical=False,\n",
       "              eval_metric=None, gamma=0, gpu_id=-1, grow_policy=&#x27;depthwise&#x27;,\n",
       "              importance_type=None, interaction_constraints=&#x27;&#x27;,\n",
       "              learning_rate=0.3, max_bin=256, max_cat_to_onehot=4,\n",
       "              max_delta_step=0, max_depth=6, max_leaves=0, min_child_weight=2,\n",
       "              missing=nan, monotone_constraints=&#x27;()&#x27;, n_estimators=100,\n",
       "              n_jobs=0, num_parallel_tree=1, objective=&#x27;multi:softprob&#x27;,\n",
       "              predictor=&#x27;auto&#x27;, random_state=0, reg_alpha=0, ...)</pre></div></div></div></div></div>"
      ],
      "text/plain": [
       "XGBClassifier(base_score=0.5, booster='gbtree', callbacks=None,\n",
       "              colsample_bylevel=1, colsample_bynode=1, colsample_bytree=1,\n",
       "              early_stopping_rounds=None, enable_categorical=False,\n",
       "              eval_metric=None, gamma=0, gpu_id=-1, grow_policy='depthwise',\n",
       "              importance_type=None, interaction_constraints='',\n",
       "              learning_rate=0.3, max_bin=256, max_cat_to_onehot=4,\n",
       "              max_delta_step=0, max_depth=6, max_leaves=0, min_child_weight=2,\n",
       "              missing=nan, monotone_constraints='()', n_estimators=100,\n",
       "              n_jobs=0, num_parallel_tree=1, objective='multi:softprob',\n",
       "              predictor='auto', random_state=0, reg_alpha=0, ...)"
      ]
     },
     "execution_count": 32,
     "metadata": {},
     "output_type": "execute_result"
    }
   ],
   "source": [
    "best_xgb = XGBClassifier(learning_rate=0.3, max_depth=6, min_child_weight=2)\n",
    "best_xgb.fit(X_train_std, y_train.astype(int))"
   ]
  },
  {
   "cell_type": "markdown",
   "id": "1600e3b0",
   "metadata": {},
   "source": [
    "#### Evaluate model on test set:"
   ]
  },
  {
   "cell_type": "code",
   "execution_count": 34,
   "id": "33a76b53",
   "metadata": {},
   "outputs": [
    {
     "name": "stdout",
     "output_type": "stream",
     "text": [
      "0.9772\n"
     ]
    }
   ],
   "source": [
    "y_pred_best_xgb = best_xgb.predict(X_test_std)\n",
    "best_xgb_accuracy = best_xgb.score(X_test_std, y_test.astype(int))\n",
    "print(best_xgb_accuracy)"
   ]
  },
  {
   "cell_type": "markdown",
   "id": "9d0dc74f",
   "metadata": {},
   "source": [
    "XGBoost classifier achieves an accuracy of <b>97.72%</b> on the test dataset."
   ]
  },
  {
   "cell_type": "markdown",
   "id": "6268604e",
   "metadata": {},
   "source": [
    "#### Classification report and confusion matrix:"
   ]
  },
  {
   "cell_type": "code",
   "execution_count": 40,
   "id": "f62aa88b",
   "metadata": {},
   "outputs": [
    {
     "name": "stdout",
     "output_type": "stream",
     "text": [
      "\n",
      "\n",
      "\n",
      "\n",
      "Classification Report for XGBoost classifier: \n",
      "\n",
      "              precision    recall  f1-score   support\n",
      "\n",
      "           0       0.98      0.98      0.98       959\n",
      "           1       0.99      0.99      0.99      1186\n",
      "           2       0.98      0.97      0.98      1035\n",
      "           3       0.98      0.97      0.97      1031\n",
      "           4       0.97      0.97      0.97       941\n",
      "           5       0.98      0.98      0.98       930\n",
      "           6       0.99      0.98      0.99       942\n",
      "           7       0.97      0.98      0.98      1050\n",
      "           8       0.97      0.97      0.97       936\n",
      "           9       0.95      0.97      0.96       990\n",
      "\n",
      "    accuracy                           0.98     10000\n",
      "   macro avg       0.98      0.98      0.98     10000\n",
      "weighted avg       0.98      0.98      0.98     10000\n",
      "\n",
      "\n",
      "\n",
      "\n",
      "Confusion Matrix for XGBoost classifier: \n",
      "\n"
     ]
    },
    {
     "data": {
      "image/png": "[encoded data removed]",
      "text/plain": [
       "<Figure size 600x600 with 1 Axes>"
      ]
     },
     "metadata": {},
     "output_type": "display_data"
    }
   ],
   "source": [
    "print('\\n\\n\\n')\n",
    "print('Classification Report for XGBoost classifier: \\n')\n",
    "print(classification_report(y_test.astype(int), y_pred_best_xgb))\n",
    "print('\\n\\n')\n",
    "print('Confusion Matrix for XGBoost classifier: \\n')\n",
    "plt.figure(figsize=(6,6))\n",
    "sns.heatmap(confusion_matrix(y_test.astype(int), y_pred_best_xgb), annot=True, fmt='g', cmap='Blues', cbar=False)\n",
    "plt.show()"
   ]
  },
  {
   "cell_type": "code",
   "execution_count": null,
   "id": "3a9c8e47",
   "metadata": {},
   "outputs": [],
   "source": []
  }
 ],
 "metadata": {
  "kernelspec": {
   "display_name": "Python 3 (ipykernel)",
   "language": "python",
   "name": "python3"
  },
  "language_info": {
   "codemirror_mode": {
    "name": "ipython",
    "version": 3
   },
   "file_extension": ".py",
   "mimetype": "text/x-python",
   "name": "python",
   "nbconvert_exporter": "python",
   "pygments_lexer": "ipython3",
   "version": "3.10.11"
  }
 },
 "nbformat": 4,
 "nbformat_minor": 5
}
